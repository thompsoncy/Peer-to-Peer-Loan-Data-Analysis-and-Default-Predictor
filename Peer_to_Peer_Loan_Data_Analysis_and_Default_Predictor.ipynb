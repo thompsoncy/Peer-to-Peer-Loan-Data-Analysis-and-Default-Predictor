{
  "nbformat": 4,
  "nbformat_minor": 0,
  "metadata": {
    "accelerator": "GPU",
    "colab": {
      "name": "Peer to Peer Loan Data Analysis and Default Predictor.ipynb",
      "provenance": [],
      "collapsed_sections": []
    },
    "kernelspec": {
      "display_name": "Python 3",
      "language": "python",
      "name": "python3"
    },
    "language_info": {
      "codemirror_mode": {
        "name": "ipython",
        "version": 3
      },
      "file_extension": ".py",
      "mimetype": "text/x-python",
      "name": "python",
      "nbconvert_exporter": "python",
      "pygments_lexer": "ipython3",
      "version": "3.7.3"
    }
  },
  "cells": [
    {
      "cell_type": "markdown",
      "metadata": {
        "id": "o0YM3rua1BbV"
      },
      "source": [
        "<center> <h2> DS 3000 - Fall 2019</h2> </center>\n",
        "<center> <h3> DS Report </h3> </center>\n"
      ]
    },
    {
      "cell_type": "markdown",
      "metadata": {
        "id": "-7k5PyEm1BbX"
      },
      "source": [
        "<center> <h1> Lending Club Analytics Tool</h1> </center>\n",
        "<center><h4>Cyrus Thompson, Vlad Koroviakovskyi</h4></center>\n"
      ]
    },
    {
      "cell_type": "markdown",
      "metadata": {
        "id": "KQfooJUB1BbZ"
      },
      "source": [
        "##### Executive Summary:\n",
        "\n",
        "This project is using machine learning techniques to predict defaults of peer to peer loans. Peer-to-peer lending is currently a large and very quickly growing industry. The general community of this industry has been expressing growing concerns of the trustworthiness of loan grading system. We will identify the validity of these growing fears by looking at the loan grades and default rates correlation along with the correlation between the purpose of the loan and the default rates. Then we shall use many diverse machine learning techniques to try to create a model that is able to predict whether a loan will default with high accuracy. Finally based on the performance of different techniques we shall make a determination of the pattern of the data in higher dimensional sense and what our future outlook on this topic is. \n",
        "\n"
      ]
    },
    {
      "cell_type": "markdown",
      "metadata": {
        "id": "6jhtQ5Xz1Bba"
      },
      "source": [
        "## Outline\n",
        "1. <a href='#1'>INTRODUCTION</a>\n",
        "2. <a href='#2'>METHOD</a>\n",
        "3. <a href='#3'>RESULTS</a>\n",
        "4. <a href='#4'>DISCUSSION</a>"
      ]
    },
    {
      "cell_type": "markdown",
      "metadata": {
        "id": "-uNJ0x8p1Bbb"
      },
      "source": [
        "<a id=\"1\"></a>\n",
        "<hr style=\"height:2px; border:none; color:black; background-color:black;\">"
      ]
    },
    {
      "cell_type": "markdown",
      "metadata": {
        "id": "kXhZx25q1Bbb"
      },
      "source": [
        "## 1. INTRODUCTION"
      ]
    },
    {
      "cell_type": "markdown",
      "metadata": {
        "id": "_f4WSEOA1Bbc"
      },
      "source": [
        "Our project is based on predicting defaults of peer to peer loans. Peer-to-peer lending is one of the alternative investment tools currently available in the market. Alternative Investments have been a rapidly growing market for the last decade with the peer-to-peer lending market being valued at around 15 billion in 2018 and is predicted to grow at a CAGR of over 19% surpassing 44 billion by 2024. One of the biggest and most popular peer-to-peer platforms is Lending Club founded in 2006 to provide people with a more accessible credit and a better way of investing. There are two types of investors on the platform: individual and institutional ones. Recently, the amount of loans provided by institutional investors has increased. In addition, institutional investors have started to increasingly use sophisticated algorithms to estimate the quality of the borrowers based on the features the platform collects about the borrowers and their loans. This means institutional investors can more efficiently find borrowers with a better risk/return profile. While an individual investor relies upon the assigned grade of any given loan, which of late has been called into question in terms of accuracy by a larger community. Therefore, we decided to create a tool that will help individual investors be more competitive with the idea of democratizing machine learning technology in the alternative investment industry and identify the relevance of the assigned grade to the default chance of the user.\n",
        "\n",
        "Basically, there are two main things that are of interest to an investor: the risk and return. The risk component is discovered by learning the likelihood of the user with particular features to default. The return component is the loan interest rate assigned by the lending club when the borrower applies for a loan. Therefore, our main goal is to figure out what features affect the likelihood of the user to default. So, an investor while doing research on the potential borrower has the ability to quickly build a risk profile. Our main hypothesis is to test whether some of the features affect the probability of the specific borrower to default on his/her loan.\n",
        "As we are creating an application that will help investors evaluate the potential borrowers on the Lending Club platform, the main question we need to answer is what affects the defaultness of the borrower and how we can predict that. In order to achieve this, we will research different attributes provided in the dataset. We have formulated a few hypotheses, The purpose of the loan has a strong correlation with the default rate.The grade assigned by the Lending Club has a correlation with a default rate. The higher the grade (A being the highest), the lower are the chances to default. \n",
        "\n",
        "We plan on using various supervised machine learning algorithms to perform binary classification. Our target variable will be whether a loan  defaults or not and our features is the information included in almost all loan applications such as annual income and a previously assessed grade. We will go into more details describing the features in the later sections. We hope to identify a machine learning algorithm that results in high classification accuracy and through this we hope to be able to get an idea on how our data set is divided on a higher dimensional level. Yet there has been previous work on the topic, most of which have been based around a specific analysis of the data set. The most recent and related of which we shall compare our models to is “Predicting Repayment of Borrows in Peer‐to‐Peer Social Lending with Deep Dense Convolutional Network.”(1).Which focused similarly on predicting defaults but with concentration on accuracy and precision  rates from different network architectures which we will compare our models to  in our discussion of our results."
      ]
    },
    {
      "cell_type": "markdown",
      "metadata": {
        "id": "3Lxkn9A-1Bbc"
      },
      "source": [
        "<a id=\"2\"></a>\n",
        "<hr style=\"height:2px; border:none; color:black; background-color:black;\">"
      ]
    },
    {
      "cell_type": "markdown",
      "metadata": {
        "id": "PDDpTGGH1Bbd"
      },
      "source": [
        "## 2. METHOD"
      ]
    },
    {
      "cell_type": "markdown",
      "metadata": {
        "id": "aVB4SDIM1Bbd"
      },
      "source": [
        "### 2.1. Data Acquisition\n",
        "We have found the dataset with the accepted and rejected loans from 2007 Q1 to 2018 Q4 on the Kaggle webiste. As we focus on the default prediction, we have used only the dataset with accepted loans. This dataset contains information on 1,048,576 loans with 151 attributed in total. Here is the GitHub link, where you can find a link to the Kaggle webiste, where you can download the necessary files. By following this link, you can also find two samples, one uncleanded sample of 5000 rows, and one cleaned sample with 5000 rows:  \n",
        "https://github.com/vladkor1/ds_lending_club/tree/master\n",
        "\n",
        "Here are the description of key variables that we thought to be useful for testing our hypothesis and building our predictive model.\n",
        "\n",
        "id - a randomized unique identifier of the borrower;\n",
        "\n",
        "loan_amount - funds issued to the borrower in USD;\n",
        "\n",
        "int_rate - the annual interest rate of the loan;\n",
        "\n",
        "grade - a special credit score issued by the Lending Club, from A to G, with A being asigned to the borrowers with the highest creditworthiness;\n",
        "\n",
        "home_ownership - a home ownership type of the person, which is either mortgage, own or rent;\n",
        "\n",
        "annual_inc - the annual income of the borrower;\n",
        "\n",
        "issue_d - the day the loan was issued, indicating only day and month;\n",
        "\n",
        "loan_status - the current status of the loan. In the original, uncleaned dataset, these are the possible loan_statuses: Fully Paid,Charged off, Current, In Grace Period, Late (16-30 days), Late (31-120). For our sample, we are using only Fully Paid and Charged Off (Defaulted).\n",
        "\n",
        "purpose - what the borrower will use funds for;\n",
        "\n",
        "fico_range_low - the credit score of the person\n",
        "\n",
        "\n",
        "Hypothesis testing. \n",
        "There are two hypothesis testing we conducted. The first one is to test whether a grade which is a special credit score assigned by the Lending Club is a really good representation of the borrower’s risk profile. \n",
        "In this case, our Null hypothesis is that the grade is not a good representation of the borrower’s probability to default. Our alternative hypothesis is that a grade is a good risk profile representation and that the number of defaulted users is significantly different among different grades. The dependent variable is the Loan status, which is either Fully Paid or Charged Off (default). The independent variable is the grade, which is one of the following: A, B, C, D, E, F, G. \n",
        "\n",
        "\n",
        "The second hypothesis we are testing is whether the purpose of the loan can be a good predictor of the user’s default probability. Our null hypothesis is that there is no significant difference in the number of users defaulted with different loan purposes. Our alternative hypothesis is that there is a significant difference in a number of users defaulted with different loan purposes. Our dependent variable is still the loan status. And our independent variable is the purpose, which is one of the following: debt consolidation, credit card, medical, home improvement, moving, small business, major purchase, car, vacation, house, renewable energy.\n",
        "\n"
      ]
    },
    {
      "cell_type": "code",
      "metadata": {
        "id": "W2a7-7jypBCN"
      },
      "source": [
        "## CLEANING AND GETTING DATA \n",
        "import numpy as np\n",
        "import pandas as pd\n",
        "url = 'https://raw.githubusercontent.com/vladkor1/ds_lending_club/master/Uncleaned_DataSet.csv'\n",
        "df_FullDB = pd.read_csv(url)\n",
        "# Dataset is now stored in a Pandas Dataframe\n",
        "cond1 = df_FullDB.loan_status == \"Fully Paid\"\n",
        "cond2 = df_FullDB.loan_status == \"Charged Off\"\n",
        "df_Sample = df_FullDB[cond1 | cond2].sample(n = 5000, replace = False) "
      ],
      "execution_count": 1,
      "outputs": []
    },
    {
      "cell_type": "code",
      "metadata": {
        "id": "XCATOu5upGAX",
        "outputId": "dbed8890-b638-4e65-8393-36800b09333c",
        "colab": {
          "base_uri": "https://localhost:8080/",
          "height": 456
        }
      },
      "source": [
        "df_FullDB.head()"
      ],
      "execution_count": 2,
      "outputs": [
        {
          "output_type": "execute_result",
          "data": {
            "text/html": [
              "\n",
              "  <div id=\"df-0e113caf-baba-41bd-90d0-2b9ac49f4fad\">\n",
              "    <div class=\"colab-df-container\">\n",
              "      <div>\n",
              "<style scoped>\n",
              "    .dataframe tbody tr th:only-of-type {\n",
              "        vertical-align: middle;\n",
              "    }\n",
              "\n",
              "    .dataframe tbody tr th {\n",
              "        vertical-align: top;\n",
              "    }\n",
              "\n",
              "    .dataframe thead th {\n",
              "        text-align: right;\n",
              "    }\n",
              "</style>\n",
              "<table border=\"1\" class=\"dataframe\">\n",
              "  <thead>\n",
              "    <tr style=\"text-align: right;\">\n",
              "      <th></th>\n",
              "      <th>Unnamed: 0</th>\n",
              "      <th>id</th>\n",
              "      <th>member_id</th>\n",
              "      <th>loan_amnt</th>\n",
              "      <th>funded_amnt</th>\n",
              "      <th>funded_amnt_inv</th>\n",
              "      <th>term</th>\n",
              "      <th>int_rate</th>\n",
              "      <th>installment</th>\n",
              "      <th>grade</th>\n",
              "      <th>sub_grade</th>\n",
              "      <th>emp_title</th>\n",
              "      <th>emp_length</th>\n",
              "      <th>home_ownership</th>\n",
              "      <th>annual_inc</th>\n",
              "      <th>verification_status</th>\n",
              "      <th>issue_d</th>\n",
              "      <th>loan_status</th>\n",
              "      <th>pymnt_plan</th>\n",
              "      <th>url</th>\n",
              "      <th>desc</th>\n",
              "      <th>purpose</th>\n",
              "      <th>title</th>\n",
              "      <th>zip_code</th>\n",
              "      <th>addr_state</th>\n",
              "      <th>dti</th>\n",
              "      <th>delinq_2yrs</th>\n",
              "      <th>earliest_cr_line</th>\n",
              "      <th>fico_range_low</th>\n",
              "      <th>fico_range_high</th>\n",
              "      <th>inq_last_6mths</th>\n",
              "      <th>mths_since_last_delinq</th>\n",
              "      <th>mths_since_last_record</th>\n",
              "      <th>open_acc</th>\n",
              "      <th>pub_rec</th>\n",
              "      <th>revol_bal</th>\n",
              "      <th>revol_util</th>\n",
              "      <th>total_acc</th>\n",
              "      <th>initial_list_status</th>\n",
              "      <th>out_prncp</th>\n",
              "      <th>...</th>\n",
              "      <th>tot_hi_cred_lim</th>\n",
              "      <th>total_bal_ex_mort</th>\n",
              "      <th>total_bc_limit</th>\n",
              "      <th>total_il_high_credit_limit</th>\n",
              "      <th>revol_bal_joint</th>\n",
              "      <th>sec_app_fico_range_low</th>\n",
              "      <th>sec_app_fico_range_high</th>\n",
              "      <th>sec_app_earliest_cr_line</th>\n",
              "      <th>sec_app_inq_last_6mths</th>\n",
              "      <th>sec_app_mort_acc</th>\n",
              "      <th>sec_app_open_acc</th>\n",
              "      <th>sec_app_revol_util</th>\n",
              "      <th>sec_app_open_act_il</th>\n",
              "      <th>sec_app_num_rev_accts</th>\n",
              "      <th>sec_app_chargeoff_within_12_mths</th>\n",
              "      <th>sec_app_collections_12_mths_ex_med</th>\n",
              "      <th>sec_app_mths_since_last_major_derog</th>\n",
              "      <th>hardship_flag</th>\n",
              "      <th>hardship_type</th>\n",
              "      <th>hardship_reason</th>\n",
              "      <th>hardship_status</th>\n",
              "      <th>deferral_term</th>\n",
              "      <th>hardship_amount</th>\n",
              "      <th>hardship_start_date</th>\n",
              "      <th>hardship_end_date</th>\n",
              "      <th>payment_plan_start_date</th>\n",
              "      <th>hardship_length</th>\n",
              "      <th>hardship_dpd</th>\n",
              "      <th>hardship_loan_status</th>\n",
              "      <th>orig_projected_additional_accrued_interest</th>\n",
              "      <th>hardship_payoff_balance_amount</th>\n",
              "      <th>hardship_last_payment_amount</th>\n",
              "      <th>disbursement_method</th>\n",
              "      <th>debt_settlement_flag</th>\n",
              "      <th>debt_settlement_flag_date</th>\n",
              "      <th>settlement_status</th>\n",
              "      <th>settlement_date</th>\n",
              "      <th>settlement_amount</th>\n",
              "      <th>settlement_percentage</th>\n",
              "      <th>settlement_term</th>\n",
              "    </tr>\n",
              "  </thead>\n",
              "  <tbody>\n",
              "    <tr>\n",
              "      <th>0</th>\n",
              "      <td>953872</td>\n",
              "      <td>107175638</td>\n",
              "      <td>NaN</td>\n",
              "      <td>15000.0</td>\n",
              "      <td>15000.0</td>\n",
              "      <td>15000.0</td>\n",
              "      <td>36 months</td>\n",
              "      <td>12.74</td>\n",
              "      <td>503.54</td>\n",
              "      <td>C</td>\n",
              "      <td>C1</td>\n",
              "      <td>Csr</td>\n",
              "      <td>1 year</td>\n",
              "      <td>RENT</td>\n",
              "      <td>57000.0</td>\n",
              "      <td>Source Verified</td>\n",
              "      <td>May-17</td>\n",
              "      <td>Fully Paid</td>\n",
              "      <td>n</td>\n",
              "      <td>https://lendingclub.com/browse/loanDetail.acti...</td>\n",
              "      <td>NaN</td>\n",
              "      <td>debt_consolidation</td>\n",
              "      <td>Debt consolidation</td>\n",
              "      <td>352xx</td>\n",
              "      <td>AL</td>\n",
              "      <td>23.33</td>\n",
              "      <td>2.0</td>\n",
              "      <td>Jul-95</td>\n",
              "      <td>670.0</td>\n",
              "      <td>674.0</td>\n",
              "      <td>0.0</td>\n",
              "      <td>15.0</td>\n",
              "      <td>NaN</td>\n",
              "      <td>27.0</td>\n",
              "      <td>0.0</td>\n",
              "      <td>6276.0</td>\n",
              "      <td>49.0</td>\n",
              "      <td>58.0</td>\n",
              "      <td>f</td>\n",
              "      <td>0.0</td>\n",
              "      <td>...</td>\n",
              "      <td>107549.0</td>\n",
              "      <td>121901.0</td>\n",
              "      <td>4800.0</td>\n",
              "      <td>94749.0</td>\n",
              "      <td>NaN</td>\n",
              "      <td>NaN</td>\n",
              "      <td>NaN</td>\n",
              "      <td>NaN</td>\n",
              "      <td>NaN</td>\n",
              "      <td>NaN</td>\n",
              "      <td>NaN</td>\n",
              "      <td>NaN</td>\n",
              "      <td>NaN</td>\n",
              "      <td>NaN</td>\n",
              "      <td>NaN</td>\n",
              "      <td>NaN</td>\n",
              "      <td>NaN</td>\n",
              "      <td>N</td>\n",
              "      <td>NaN</td>\n",
              "      <td>NaN</td>\n",
              "      <td>NaN</td>\n",
              "      <td>NaN</td>\n",
              "      <td>NaN</td>\n",
              "      <td>NaN</td>\n",
              "      <td>NaN</td>\n",
              "      <td>NaN</td>\n",
              "      <td>NaN</td>\n",
              "      <td>NaN</td>\n",
              "      <td>NaN</td>\n",
              "      <td>NaN</td>\n",
              "      <td>NaN</td>\n",
              "      <td>NaN</td>\n",
              "      <td>Cash</td>\n",
              "      <td>N</td>\n",
              "      <td>NaN</td>\n",
              "      <td>NaN</td>\n",
              "      <td>NaN</td>\n",
              "      <td>NaN</td>\n",
              "      <td>NaN</td>\n",
              "      <td>NaN</td>\n",
              "    </tr>\n",
              "    <tr>\n",
              "      <th>1</th>\n",
              "      <td>101672</td>\n",
              "      <td>62196799</td>\n",
              "      <td>NaN</td>\n",
              "      <td>12000.0</td>\n",
              "      <td>12000.0</td>\n",
              "      <td>12000.0</td>\n",
              "      <td>60 months</td>\n",
              "      <td>13.99</td>\n",
              "      <td>279.16</td>\n",
              "      <td>C</td>\n",
              "      <td>C4</td>\n",
              "      <td>Physical therapist.  Co owner</td>\n",
              "      <td>10+ years</td>\n",
              "      <td>MORTGAGE</td>\n",
              "      <td>150000.0</td>\n",
              "      <td>Not Verified</td>\n",
              "      <td>Oct-15</td>\n",
              "      <td>Fully Paid</td>\n",
              "      <td>n</td>\n",
              "      <td>https://lendingclub.com/browse/loanDetail.acti...</td>\n",
              "      <td>NaN</td>\n",
              "      <td>debt_consolidation</td>\n",
              "      <td>Debt consolidation</td>\n",
              "      <td>992xx</td>\n",
              "      <td>WA</td>\n",
              "      <td>6.86</td>\n",
              "      <td>2.0</td>\n",
              "      <td>Oct-97</td>\n",
              "      <td>680.0</td>\n",
              "      <td>684.0</td>\n",
              "      <td>3.0</td>\n",
              "      <td>9.0</td>\n",
              "      <td>NaN</td>\n",
              "      <td>6.0</td>\n",
              "      <td>0.0</td>\n",
              "      <td>12765.0</td>\n",
              "      <td>29.9</td>\n",
              "      <td>28.0</td>\n",
              "      <td>w</td>\n",
              "      <td>0.0</td>\n",
              "      <td>...</td>\n",
              "      <td>323178.0</td>\n",
              "      <td>39755.0</td>\n",
              "      <td>15000.0</td>\n",
              "      <td>26950.0</td>\n",
              "      <td>NaN</td>\n",
              "      <td>NaN</td>\n",
              "      <td>NaN</td>\n",
              "      <td>NaN</td>\n",
              "      <td>NaN</td>\n",
              "      <td>NaN</td>\n",
              "      <td>NaN</td>\n",
              "      <td>NaN</td>\n",
              "      <td>NaN</td>\n",
              "      <td>NaN</td>\n",
              "      <td>NaN</td>\n",
              "      <td>NaN</td>\n",
              "      <td>NaN</td>\n",
              "      <td>N</td>\n",
              "      <td>NaN</td>\n",
              "      <td>NaN</td>\n",
              "      <td>NaN</td>\n",
              "      <td>NaN</td>\n",
              "      <td>NaN</td>\n",
              "      <td>NaN</td>\n",
              "      <td>NaN</td>\n",
              "      <td>NaN</td>\n",
              "      <td>NaN</td>\n",
              "      <td>NaN</td>\n",
              "      <td>NaN</td>\n",
              "      <td>NaN</td>\n",
              "      <td>NaN</td>\n",
              "      <td>NaN</td>\n",
              "      <td>Cash</td>\n",
              "      <td>N</td>\n",
              "      <td>NaN</td>\n",
              "      <td>NaN</td>\n",
              "      <td>NaN</td>\n",
              "      <td>NaN</td>\n",
              "      <td>NaN</td>\n",
              "      <td>NaN</td>\n",
              "    </tr>\n",
              "    <tr>\n",
              "      <th>2</th>\n",
              "      <td>666905</td>\n",
              "      <td>80918180</td>\n",
              "      <td>NaN</td>\n",
              "      <td>12000.0</td>\n",
              "      <td>12000.0</td>\n",
              "      <td>12000.0</td>\n",
              "      <td>36 months</td>\n",
              "      <td>11.47</td>\n",
              "      <td>395.55</td>\n",
              "      <td>B</td>\n",
              "      <td>B5</td>\n",
              "      <td>Associate Information Systems Analyst</td>\n",
              "      <td>3 years</td>\n",
              "      <td>RENT</td>\n",
              "      <td>60000.0</td>\n",
              "      <td>Verified</td>\n",
              "      <td>Jun-16</td>\n",
              "      <td>Charged Off</td>\n",
              "      <td>n</td>\n",
              "      <td>https://lendingclub.com/browse/loanDetail.acti...</td>\n",
              "      <td>NaN</td>\n",
              "      <td>debt_consolidation</td>\n",
              "      <td>Debt consolidation</td>\n",
              "      <td>957xx</td>\n",
              "      <td>CA</td>\n",
              "      <td>6.04</td>\n",
              "      <td>0.0</td>\n",
              "      <td>Aug-98</td>\n",
              "      <td>690.0</td>\n",
              "      <td>694.0</td>\n",
              "      <td>1.0</td>\n",
              "      <td>NaN</td>\n",
              "      <td>NaN</td>\n",
              "      <td>5.0</td>\n",
              "      <td>0.0</td>\n",
              "      <td>10807.0</td>\n",
              "      <td>97.4</td>\n",
              "      <td>8.0</td>\n",
              "      <td>w</td>\n",
              "      <td>0.0</td>\n",
              "      <td>...</td>\n",
              "      <td>11100.0</td>\n",
              "      <td>10807.0</td>\n",
              "      <td>7700.0</td>\n",
              "      <td>0.0</td>\n",
              "      <td>NaN</td>\n",
              "      <td>NaN</td>\n",
              "      <td>NaN</td>\n",
              "      <td>NaN</td>\n",
              "      <td>NaN</td>\n",
              "      <td>NaN</td>\n",
              "      <td>NaN</td>\n",
              "      <td>NaN</td>\n",
              "      <td>NaN</td>\n",
              "      <td>NaN</td>\n",
              "      <td>NaN</td>\n",
              "      <td>NaN</td>\n",
              "      <td>NaN</td>\n",
              "      <td>N</td>\n",
              "      <td>NaN</td>\n",
              "      <td>NaN</td>\n",
              "      <td>NaN</td>\n",
              "      <td>NaN</td>\n",
              "      <td>NaN</td>\n",
              "      <td>NaN</td>\n",
              "      <td>NaN</td>\n",
              "      <td>NaN</td>\n",
              "      <td>NaN</td>\n",
              "      <td>NaN</td>\n",
              "      <td>NaN</td>\n",
              "      <td>NaN</td>\n",
              "      <td>NaN</td>\n",
              "      <td>NaN</td>\n",
              "      <td>Cash</td>\n",
              "      <td>N</td>\n",
              "      <td>NaN</td>\n",
              "      <td>NaN</td>\n",
              "      <td>NaN</td>\n",
              "      <td>NaN</td>\n",
              "      <td>NaN</td>\n",
              "      <td>NaN</td>\n",
              "    </tr>\n",
              "    <tr>\n",
              "      <th>3</th>\n",
              "      <td>182617</td>\n",
              "      <td>57326420</td>\n",
              "      <td>NaN</td>\n",
              "      <td>10000.0</td>\n",
              "      <td>10000.0</td>\n",
              "      <td>10000.0</td>\n",
              "      <td>60 months</td>\n",
              "      <td>17.86</td>\n",
              "      <td>253.18</td>\n",
              "      <td>D</td>\n",
              "      <td>D5</td>\n",
              "      <td>order filler</td>\n",
              "      <td>10+ years</td>\n",
              "      <td>OWN</td>\n",
              "      <td>38000.0</td>\n",
              "      <td>Not Verified</td>\n",
              "      <td>Aug-15</td>\n",
              "      <td>Charged Off</td>\n",
              "      <td>n</td>\n",
              "      <td>https://lendingclub.com/browse/loanDetail.acti...</td>\n",
              "      <td>NaN</td>\n",
              "      <td>debt_consolidation</td>\n",
              "      <td>Debt consolidation</td>\n",
              "      <td>238xx</td>\n",
              "      <td>VA</td>\n",
              "      <td>32.66</td>\n",
              "      <td>1.0</td>\n",
              "      <td>Mar-80</td>\n",
              "      <td>680.0</td>\n",
              "      <td>684.0</td>\n",
              "      <td>0.0</td>\n",
              "      <td>4.0</td>\n",
              "      <td>NaN</td>\n",
              "      <td>11.0</td>\n",
              "      <td>0.0</td>\n",
              "      <td>11745.0</td>\n",
              "      <td>60.5</td>\n",
              "      <td>25.0</td>\n",
              "      <td>w</td>\n",
              "      <td>0.0</td>\n",
              "      <td>...</td>\n",
              "      <td>62530.0</td>\n",
              "      <td>38595.0</td>\n",
              "      <td>9200.0</td>\n",
              "      <td>32096.0</td>\n",
              "      <td>NaN</td>\n",
              "      <td>NaN</td>\n",
              "      <td>NaN</td>\n",
              "      <td>NaN</td>\n",
              "      <td>NaN</td>\n",
              "      <td>NaN</td>\n",
              "      <td>NaN</td>\n",
              "      <td>NaN</td>\n",
              "      <td>NaN</td>\n",
              "      <td>NaN</td>\n",
              "      <td>NaN</td>\n",
              "      <td>NaN</td>\n",
              "      <td>NaN</td>\n",
              "      <td>N</td>\n",
              "      <td>NaN</td>\n",
              "      <td>NaN</td>\n",
              "      <td>NaN</td>\n",
              "      <td>NaN</td>\n",
              "      <td>NaN</td>\n",
              "      <td>NaN</td>\n",
              "      <td>NaN</td>\n",
              "      <td>NaN</td>\n",
              "      <td>NaN</td>\n",
              "      <td>NaN</td>\n",
              "      <td>NaN</td>\n",
              "      <td>NaN</td>\n",
              "      <td>NaN</td>\n",
              "      <td>NaN</td>\n",
              "      <td>Cash</td>\n",
              "      <td>N</td>\n",
              "      <td>NaN</td>\n",
              "      <td>NaN</td>\n",
              "      <td>NaN</td>\n",
              "      <td>NaN</td>\n",
              "      <td>NaN</td>\n",
              "      <td>NaN</td>\n",
              "    </tr>\n",
              "    <tr>\n",
              "      <th>4</th>\n",
              "      <td>69322</td>\n",
              "      <td>64191317</td>\n",
              "      <td>NaN</td>\n",
              "      <td>17475.0</td>\n",
              "      <td>17475.0</td>\n",
              "      <td>17475.0</td>\n",
              "      <td>36 months</td>\n",
              "      <td>14.33</td>\n",
              "      <td>600.06</td>\n",
              "      <td>C</td>\n",
              "      <td>C5</td>\n",
              "      <td>Shipping Lead</td>\n",
              "      <td>10+ years</td>\n",
              "      <td>MORTGAGE</td>\n",
              "      <td>67095.6</td>\n",
              "      <td>Verified</td>\n",
              "      <td>Nov-15</td>\n",
              "      <td>Fully Paid</td>\n",
              "      <td>n</td>\n",
              "      <td>https://lendingclub.com/browse/loanDetail.acti...</td>\n",
              "      <td>NaN</td>\n",
              "      <td>debt_consolidation</td>\n",
              "      <td>Debt consolidation</td>\n",
              "      <td>540xx</td>\n",
              "      <td>WI</td>\n",
              "      <td>32.66</td>\n",
              "      <td>1.0</td>\n",
              "      <td>Apr-00</td>\n",
              "      <td>665.0</td>\n",
              "      <td>669.0</td>\n",
              "      <td>0.0</td>\n",
              "      <td>6.0</td>\n",
              "      <td>NaN</td>\n",
              "      <td>20.0</td>\n",
              "      <td>0.0</td>\n",
              "      <td>17356.0</td>\n",
              "      <td>71.4</td>\n",
              "      <td>25.0</td>\n",
              "      <td>w</td>\n",
              "      <td>0.0</td>\n",
              "      <td>...</td>\n",
              "      <td>242067.0</td>\n",
              "      <td>98778.0</td>\n",
              "      <td>10500.0</td>\n",
              "      <td>93832.0</td>\n",
              "      <td>NaN</td>\n",
              "      <td>NaN</td>\n",
              "      <td>NaN</td>\n",
              "      <td>NaN</td>\n",
              "      <td>NaN</td>\n",
              "      <td>NaN</td>\n",
              "      <td>NaN</td>\n",
              "      <td>NaN</td>\n",
              "      <td>NaN</td>\n",
              "      <td>NaN</td>\n",
              "      <td>NaN</td>\n",
              "      <td>NaN</td>\n",
              "      <td>NaN</td>\n",
              "      <td>N</td>\n",
              "      <td>NaN</td>\n",
              "      <td>NaN</td>\n",
              "      <td>NaN</td>\n",
              "      <td>NaN</td>\n",
              "      <td>NaN</td>\n",
              "      <td>NaN</td>\n",
              "      <td>NaN</td>\n",
              "      <td>NaN</td>\n",
              "      <td>NaN</td>\n",
              "      <td>NaN</td>\n",
              "      <td>NaN</td>\n",
              "      <td>NaN</td>\n",
              "      <td>NaN</td>\n",
              "      <td>NaN</td>\n",
              "      <td>Cash</td>\n",
              "      <td>N</td>\n",
              "      <td>NaN</td>\n",
              "      <td>NaN</td>\n",
              "      <td>NaN</td>\n",
              "      <td>NaN</td>\n",
              "      <td>NaN</td>\n",
              "      <td>NaN</td>\n",
              "    </tr>\n",
              "  </tbody>\n",
              "</table>\n",
              "<p>5 rows × 152 columns</p>\n",
              "</div>\n",
              "      <button class=\"colab-df-convert\" onclick=\"convertToInteractive('df-0e113caf-baba-41bd-90d0-2b9ac49f4fad')\"\n",
              "              title=\"Convert this dataframe to an interactive table.\"\n",
              "              style=\"display:none;\">\n",
              "        \n",
              "  <svg xmlns=\"http://www.w3.org/2000/svg\" height=\"24px\"viewBox=\"0 0 24 24\"\n",
              "       width=\"24px\">\n",
              "    <path d=\"M0 0h24v24H0V0z\" fill=\"none\"/>\n",
              "    <path d=\"M18.56 5.44l.94 2.06.94-2.06 2.06-.94-2.06-.94-.94-2.06-.94 2.06-2.06.94zm-11 1L8.5 8.5l.94-2.06 2.06-.94-2.06-.94L8.5 2.5l-.94 2.06-2.06.94zm10 10l.94 2.06.94-2.06 2.06-.94-2.06-.94-.94-2.06-.94 2.06-2.06.94z\"/><path d=\"M17.41 7.96l-1.37-1.37c-.4-.4-.92-.59-1.43-.59-.52 0-1.04.2-1.43.59L10.3 9.45l-7.72 7.72c-.78.78-.78 2.05 0 2.83L4 21.41c.39.39.9.59 1.41.59.51 0 1.02-.2 1.41-.59l7.78-7.78 2.81-2.81c.8-.78.8-2.07 0-2.86zM5.41 20L4 18.59l7.72-7.72 1.47 1.35L5.41 20z\"/>\n",
              "  </svg>\n",
              "      </button>\n",
              "      \n",
              "  <style>\n",
              "    .colab-df-container {\n",
              "      display:flex;\n",
              "      flex-wrap:wrap;\n",
              "      gap: 12px;\n",
              "    }\n",
              "\n",
              "    .colab-df-convert {\n",
              "      background-color: #E8F0FE;\n",
              "      border: none;\n",
              "      border-radius: 50%;\n",
              "      cursor: pointer;\n",
              "      display: none;\n",
              "      fill: #1967D2;\n",
              "      height: 32px;\n",
              "      padding: 0 0 0 0;\n",
              "      width: 32px;\n",
              "    }\n",
              "\n",
              "    .colab-df-convert:hover {\n",
              "      background-color: #E2EBFA;\n",
              "      box-shadow: 0px 1px 2px rgba(60, 64, 67, 0.3), 0px 1px 3px 1px rgba(60, 64, 67, 0.15);\n",
              "      fill: #174EA6;\n",
              "    }\n",
              "\n",
              "    [theme=dark] .colab-df-convert {\n",
              "      background-color: #3B4455;\n",
              "      fill: #D2E3FC;\n",
              "    }\n",
              "\n",
              "    [theme=dark] .colab-df-convert:hover {\n",
              "      background-color: #434B5C;\n",
              "      box-shadow: 0px 1px 3px 1px rgba(0, 0, 0, 0.15);\n",
              "      filter: drop-shadow(0px 1px 2px rgba(0, 0, 0, 0.3));\n",
              "      fill: #FFFFFF;\n",
              "    }\n",
              "  </style>\n",
              "\n",
              "      <script>\n",
              "        const buttonEl =\n",
              "          document.querySelector('#df-0e113caf-baba-41bd-90d0-2b9ac49f4fad button.colab-df-convert');\n",
              "        buttonEl.style.display =\n",
              "          google.colab.kernel.accessAllowed ? 'block' : 'none';\n",
              "\n",
              "        async function convertToInteractive(key) {\n",
              "          const element = document.querySelector('#df-0e113caf-baba-41bd-90d0-2b9ac49f4fad');\n",
              "          const dataTable =\n",
              "            await google.colab.kernel.invokeFunction('convertToInteractive',\n",
              "                                                     [key], {});\n",
              "          if (!dataTable) return;\n",
              "\n",
              "          const docLinkHtml = 'Like what you see? Visit the ' +\n",
              "            '<a target=\"_blank\" href=https://colab.research.google.com/notebooks/data_table.ipynb>data table notebook</a>'\n",
              "            + ' to learn more about interactive tables.';\n",
              "          element.innerHTML = '';\n",
              "          dataTable['output_type'] = 'display_data';\n",
              "          await google.colab.output.renderOutput(dataTable, element);\n",
              "          const docLink = document.createElement('div');\n",
              "          docLink.innerHTML = docLinkHtml;\n",
              "          element.appendChild(docLink);\n",
              "        }\n",
              "      </script>\n",
              "    </div>\n",
              "  </div>\n",
              "  "
            ],
            "text/plain": [
              "   Unnamed: 0         id  ...  settlement_percentage  settlement_term\n",
              "0      953872  107175638  ...                    NaN              NaN\n",
              "1      101672   62196799  ...                    NaN              NaN\n",
              "2      666905   80918180  ...                    NaN              NaN\n",
              "3      182617   57326420  ...                    NaN              NaN\n",
              "4       69322   64191317  ...                    NaN              NaN\n",
              "\n",
              "[5 rows x 152 columns]"
            ]
          },
          "metadata": {},
          "execution_count": 2
        }
      ]
    },
    {
      "cell_type": "markdown",
      "metadata": {
        "id": "gw2pj9vV1Bbe"
      },
      "source": [
        "### 2.2. Variables\n",
        "We will be conducting two hypothesis testing: Chi Square testing to test whether there is a statistically significant difference in the proportion of defaulted loans in different grades. For this test the the dependant variable is the target attribute (which is the numerical representation of the loan status) and the independent variable is the grade attribute.\n",
        "\n",
        "For the second Chi Square hypothesis we test whether there is a statistically significant difference in the proportion of defaulted loans in different loan purposes. In this test, our dependent variable is the target attribute, and the independent variable is the purpose of the loans.\n",
        "\n",
        "For predictive models we have the following features:\n",
        "userid(random), loan amount, interest rate, grade, home ownership of applicant, annual income of applicant, purpose of the loan, low end of the fico score range of applicant and season loan was applied for\n",
        " \n",
        "And the target for our model will be the numerical representation of the loan status.\n"
      ]
    },
    {
      "cell_type": "markdown",
      "metadata": {
        "id": "QqudlpVl1Bbe"
      },
      "source": [
        "### 2.3. Data Analysis\n",
        "We will have 5 predictive models. All will be doing supervised binary classification on our pre labeled dataset, specifically predicting whether a specific loan will default or not(outcome/target variable) based on userid, loan amount, interest rate, grade, home ownership of applicant, annual income of applicant, purpose of the loan, low end of the fico score range of applicant and season loan was applied for(feature variables). Within the models we shall be using 4 basic binary classifiers k-Nearest Neighbor, Support Vector Machine, Gaussian Naive Bayes, Decision Tree and one combinations of linear regressions in the form of a neural net in which we shall deem the classification based on which of the 2 continuous variable output classes have the highest value. The reason we are using this large selection of algorithms is to try to understand the underlying patterns of our data. Such as if the k-Nearest Neighbor has the highest classification accuracy in comparison to all other methods we know in a high dimensional sense that our data is really just distinct clusters. Yet if the neural net has the highest accuracy then we know that our data classification is really based on higher level patterns that are hard to simply classify. "
      ]
    },
    {
      "cell_type": "markdown",
      "metadata": {
        "id": "QE0T68LI1Bbf"
      },
      "source": [
        "<a id=\"3\"></a>\n",
        "<hr style=\"height:2px; border:none; color:black; background-color:black;\">"
      ]
    },
    {
      "cell_type": "markdown",
      "metadata": {
        "id": "esShlz511Bbf"
      },
      "source": [
        "## 3. RESULTS"
      ]
    },
    {
      "cell_type": "markdown",
      "metadata": {
        "id": "51yHbQLR1Bbf"
      },
      "source": [
        "### 3.1. Data Wrangling \n",
        "We created a sample of 5000 rows with only two kinds of loan statuses - Fully Paid and Charged Off (Defaulted loans).\n",
        "We have also selected the attributes that we think will be the most useful in building our predictive model. We have cleaned the sample from the loan transactions with any attribute in this transaction being NaN. In addition we converted all the features, except for the purpose (we did not use it in our modeling), into the numerical format. \n"
      ]
    },
    {
      "cell_type": "code",
      "metadata": {
        "id": "1625s0ITTcll"
      },
      "source": [
        "# Creating a sample from the dataset\n",
        "df_Lending_Club = df_Sample[['id', 'loan_amnt', 'int_rate', 'grade', 'home_ownership', 'annual_inc',\n",
        "                          'issue_d', 'loan_status', 'purpose', 'fico_range_low']].copy()"
      ],
      "execution_count": 3,
      "outputs": []
    },
    {
      "cell_type": "code",
      "metadata": {
        "id": "hN6zjoW8Tczh",
        "outputId": "c2bc59a7-b8b2-408a-c551-65fd043288d2",
        "colab": {
          "base_uri": "https://localhost:8080/",
          "height": 206
        }
      },
      "source": [
        "# To show the the head of the sample\n",
        "df_Lending_Club.head()"
      ],
      "execution_count": 4,
      "outputs": [
        {
          "output_type": "execute_result",
          "data": {
            "text/html": [
              "\n",
              "  <div id=\"df-5bcf3478-ff83-4642-ab59-277de4d1e36d\">\n",
              "    <div class=\"colab-df-container\">\n",
              "      <div>\n",
              "<style scoped>\n",
              "    .dataframe tbody tr th:only-of-type {\n",
              "        vertical-align: middle;\n",
              "    }\n",
              "\n",
              "    .dataframe tbody tr th {\n",
              "        vertical-align: top;\n",
              "    }\n",
              "\n",
              "    .dataframe thead th {\n",
              "        text-align: right;\n",
              "    }\n",
              "</style>\n",
              "<table border=\"1\" class=\"dataframe\">\n",
              "  <thead>\n",
              "    <tr style=\"text-align: right;\">\n",
              "      <th></th>\n",
              "      <th>id</th>\n",
              "      <th>loan_amnt</th>\n",
              "      <th>int_rate</th>\n",
              "      <th>grade</th>\n",
              "      <th>home_ownership</th>\n",
              "      <th>annual_inc</th>\n",
              "      <th>issue_d</th>\n",
              "      <th>loan_status</th>\n",
              "      <th>purpose</th>\n",
              "      <th>fico_range_low</th>\n",
              "    </tr>\n",
              "  </thead>\n",
              "  <tbody>\n",
              "    <tr>\n",
              "      <th>3893</th>\n",
              "      <td>68475247</td>\n",
              "      <td>5000.0</td>\n",
              "      <td>12.88</td>\n",
              "      <td>C</td>\n",
              "      <td>RENT</td>\n",
              "      <td>85000.0</td>\n",
              "      <td>Dec-15</td>\n",
              "      <td>Fully Paid</td>\n",
              "      <td>car</td>\n",
              "      <td>700.0</td>\n",
              "    </tr>\n",
              "    <tr>\n",
              "      <th>4587</th>\n",
              "      <td>112897964</td>\n",
              "      <td>3000.0</td>\n",
              "      <td>13.59</td>\n",
              "      <td>C</td>\n",
              "      <td>RENT</td>\n",
              "      <td>40000.0</td>\n",
              "      <td>Jul-17</td>\n",
              "      <td>Charged Off</td>\n",
              "      <td>medical</td>\n",
              "      <td>670.0</td>\n",
              "    </tr>\n",
              "    <tr>\n",
              "      <th>3631</th>\n",
              "      <td>42954627</td>\n",
              "      <td>13000.0</td>\n",
              "      <td>13.99</td>\n",
              "      <td>C</td>\n",
              "      <td>MORTGAGE</td>\n",
              "      <td>130000.0</td>\n",
              "      <td>Mar-15</td>\n",
              "      <td>Fully Paid</td>\n",
              "      <td>debt_consolidation</td>\n",
              "      <td>665.0</td>\n",
              "    </tr>\n",
              "    <tr>\n",
              "      <th>3844</th>\n",
              "      <td>48564929</td>\n",
              "      <td>22000.0</td>\n",
              "      <td>16.99</td>\n",
              "      <td>D</td>\n",
              "      <td>MORTGAGE</td>\n",
              "      <td>72000.0</td>\n",
              "      <td>May-15</td>\n",
              "      <td>Fully Paid</td>\n",
              "      <td>credit_card</td>\n",
              "      <td>675.0</td>\n",
              "    </tr>\n",
              "    <tr>\n",
              "      <th>3950</th>\n",
              "      <td>70361172</td>\n",
              "      <td>15000.0</td>\n",
              "      <td>6.97</td>\n",
              "      <td>A</td>\n",
              "      <td>RENT</td>\n",
              "      <td>86000.0</td>\n",
              "      <td>Feb-16</td>\n",
              "      <td>Fully Paid</td>\n",
              "      <td>debt_consolidation</td>\n",
              "      <td>680.0</td>\n",
              "    </tr>\n",
              "  </tbody>\n",
              "</table>\n",
              "</div>\n",
              "      <button class=\"colab-df-convert\" onclick=\"convertToInteractive('df-5bcf3478-ff83-4642-ab59-277de4d1e36d')\"\n",
              "              title=\"Convert this dataframe to an interactive table.\"\n",
              "              style=\"display:none;\">\n",
              "        \n",
              "  <svg xmlns=\"http://www.w3.org/2000/svg\" height=\"24px\"viewBox=\"0 0 24 24\"\n",
              "       width=\"24px\">\n",
              "    <path d=\"M0 0h24v24H0V0z\" fill=\"none\"/>\n",
              "    <path d=\"M18.56 5.44l.94 2.06.94-2.06 2.06-.94-2.06-.94-.94-2.06-.94 2.06-2.06.94zm-11 1L8.5 8.5l.94-2.06 2.06-.94-2.06-.94L8.5 2.5l-.94 2.06-2.06.94zm10 10l.94 2.06.94-2.06 2.06-.94-2.06-.94-.94-2.06-.94 2.06-2.06.94z\"/><path d=\"M17.41 7.96l-1.37-1.37c-.4-.4-.92-.59-1.43-.59-.52 0-1.04.2-1.43.59L10.3 9.45l-7.72 7.72c-.78.78-.78 2.05 0 2.83L4 21.41c.39.39.9.59 1.41.59.51 0 1.02-.2 1.41-.59l7.78-7.78 2.81-2.81c.8-.78.8-2.07 0-2.86zM5.41 20L4 18.59l7.72-7.72 1.47 1.35L5.41 20z\"/>\n",
              "  </svg>\n",
              "      </button>\n",
              "      \n",
              "  <style>\n",
              "    .colab-df-container {\n",
              "      display:flex;\n",
              "      flex-wrap:wrap;\n",
              "      gap: 12px;\n",
              "    }\n",
              "\n",
              "    .colab-df-convert {\n",
              "      background-color: #E8F0FE;\n",
              "      border: none;\n",
              "      border-radius: 50%;\n",
              "      cursor: pointer;\n",
              "      display: none;\n",
              "      fill: #1967D2;\n",
              "      height: 32px;\n",
              "      padding: 0 0 0 0;\n",
              "      width: 32px;\n",
              "    }\n",
              "\n",
              "    .colab-df-convert:hover {\n",
              "      background-color: #E2EBFA;\n",
              "      box-shadow: 0px 1px 2px rgba(60, 64, 67, 0.3), 0px 1px 3px 1px rgba(60, 64, 67, 0.15);\n",
              "      fill: #174EA6;\n",
              "    }\n",
              "\n",
              "    [theme=dark] .colab-df-convert {\n",
              "      background-color: #3B4455;\n",
              "      fill: #D2E3FC;\n",
              "    }\n",
              "\n",
              "    [theme=dark] .colab-df-convert:hover {\n",
              "      background-color: #434B5C;\n",
              "      box-shadow: 0px 1px 3px 1px rgba(0, 0, 0, 0.15);\n",
              "      filter: drop-shadow(0px 1px 2px rgba(0, 0, 0, 0.3));\n",
              "      fill: #FFFFFF;\n",
              "    }\n",
              "  </style>\n",
              "\n",
              "      <script>\n",
              "        const buttonEl =\n",
              "          document.querySelector('#df-5bcf3478-ff83-4642-ab59-277de4d1e36d button.colab-df-convert');\n",
              "        buttonEl.style.display =\n",
              "          google.colab.kernel.accessAllowed ? 'block' : 'none';\n",
              "\n",
              "        async function convertToInteractive(key) {\n",
              "          const element = document.querySelector('#df-5bcf3478-ff83-4642-ab59-277de4d1e36d');\n",
              "          const dataTable =\n",
              "            await google.colab.kernel.invokeFunction('convertToInteractive',\n",
              "                                                     [key], {});\n",
              "          if (!dataTable) return;\n",
              "\n",
              "          const docLinkHtml = 'Like what you see? Visit the ' +\n",
              "            '<a target=\"_blank\" href=https://colab.research.google.com/notebooks/data_table.ipynb>data table notebook</a>'\n",
              "            + ' to learn more about interactive tables.';\n",
              "          element.innerHTML = '';\n",
              "          dataTable['output_type'] = 'display_data';\n",
              "          await google.colab.output.renderOutput(dataTable, element);\n",
              "          const docLink = document.createElement('div');\n",
              "          docLink.innerHTML = docLinkHtml;\n",
              "          element.appendChild(docLink);\n",
              "        }\n",
              "      </script>\n",
              "    </div>\n",
              "  </div>\n",
              "  "
            ],
            "text/plain": [
              "             id  loan_amnt  ...             purpose fico_range_low\n",
              "3893   68475247     5000.0  ...                 car          700.0\n",
              "4587  112897964     3000.0  ...             medical          670.0\n",
              "3631   42954627    13000.0  ...  debt_consolidation          665.0\n",
              "3844   48564929    22000.0  ...         credit_card          675.0\n",
              "3950   70361172    15000.0  ...  debt_consolidation          680.0\n",
              "\n",
              "[5 rows x 10 columns]"
            ]
          },
          "metadata": {},
          "execution_count": 4
        }
      ]
    },
    {
      "cell_type": "code",
      "metadata": {
        "id": "dLRzQjYWTdJw"
      },
      "source": [
        "# Dropping all the rows where at least one attribute is NaN\n",
        "df_Lending_Club.shape\n",
        "df_Lending_Club = df_Lending_Club.dropna(how=\"any\")"
      ],
      "execution_count": 5,
      "outputs": []
    },
    {
      "cell_type": "code",
      "metadata": {
        "id": "VoW9kiEWTdXM"
      },
      "source": [
        "# Turning grade attribute to a numerical type\n",
        "for i in df_Lending_Club.index:\n",
        "    if (df_Lending_Club.at[i, 'grade'] == \"A\"):\n",
        "        df_Lending_Club.at[i, 'grade'] = 7\n",
        "    elif (df_Lending_Club.at[i, 'grade'] == \"B\"):\n",
        "        df_Lending_Club.at[i, 'grade'] = 6\n",
        "    elif (df_Lending_Club.at[i, 'grade'] == \"C\"):\n",
        "        df_Lending_Club.at[i, 'grade'] = 5\n",
        "    elif (df_Lending_Club.at[i, 'grade'] == \"D\"):\n",
        "        df_Lending_Club.at[i, 'grade'] = 4\n",
        "    elif (df_Lending_Club.at[i, 'grade'] == \"E\"):\n",
        "        df_Lending_Club.at[i, 'grade'] = 3\n",
        "    elif (df_Lending_Club.at[i, 'grade'] == \"F\"):\n",
        "        df_Lending_Club.at[i, 'grade'] = 2\n",
        "    elif (df_Lending_Club.at[i, 'grade'] == \"G\"):\n",
        "        df_Lending_Club.at[i, 'grade'] = 1"
      ],
      "execution_count": 6,
      "outputs": []
    },
    {
      "cell_type": "code",
      "metadata": {
        "id": "AXAZRrwKT0d4"
      },
      "source": [
        "# Turning home ownership type attribute to a numerical type\n",
        "for i in df_Lending_Club.index:\n",
        "    if (df_Lending_Club.at[i, 'home_ownership'] == \"OWN\"):\n",
        "        df_Lending_Club.at[i, 'home_ownership'] = 3\n",
        "    elif (df_Lending_Club.at[i, 'home_ownership'] == \"RENT\"):\n",
        "        df_Lending_Club.at[i, 'home_ownership'] = 2\n",
        "    elif (df_Lending_Club.at[i, 'home_ownership'] == \"MORTGAGE\"):\n",
        "        df_Lending_Club.at[i, 'home_ownership'] = 1\n",
        "    "
      ],
      "execution_count": 7,
      "outputs": []
    },
    {
      "cell_type": "code",
      "metadata": {
        "id": "fYWcur5vT-7H"
      },
      "source": [
        "# Turning loan status attribute to a numerical type\n",
        "for i in df_Lending_Club.index:\n",
        "    if (df_Lending_Club.at[i, 'loan_status'] == \"Charged Off\"):\n",
        "        df_Lending_Club.at[i, 'target'] = int(0)\n",
        "    elif (df_Lending_Club.at[i, 'loan_status'] == \"Fully Paid\"):\n",
        "        df_Lending_Club.at[i, 'target'] = int(1)\n",
        "  "
      ],
      "execution_count": 8,
      "outputs": []
    },
    {
      "cell_type": "code",
      "metadata": {
        "id": "RO4XF_HxT_Us"
      },
      "source": [
        "# Creating a numerical representation of the season based on the issue date\n",
        "for i in df_Lending_Club.index:\n",
        "    if (df_Lending_Club.at[i, 'issue_d'][0:3] == \"May\"):\n",
        "        df_Lending_Club.at[i, 'season'] = 2\n",
        "    elif (df_Lending_Club.at[i, 'issue_d'][0:3] == \"Mar\"):\n",
        "        df_Lending_Club.at[i, 'season'] = 2\n",
        "    elif (df_Lending_Club.at[i, 'issue_d'][0:3] == \"Jan\"):\n",
        "        df_Lending_Club.at[i, 'season'] = 1\n",
        "    elif (df_Lending_Club.at[i, 'issue_d'][0:3] == \"Feb\"):\n",
        "        df_Lending_Club.at[i, 'season'] = 1\n",
        "    elif (df_Lending_Club.at[i, 'issue_d'][0:3] == \"Apr\"):\n",
        "        df_Lending_Club.at[i, 'season'] = 2\n",
        "    elif (df_Lending_Club.at[i, 'issue_d'][0:3] == \"Jun\"):\n",
        "        df_Lending_Club.at[i, 'season'] = 3\n",
        "    elif (df_Lending_Club.at[i, 'issue_d'][0:3] == \"Jul\"):\n",
        "        df_Lending_Club.at[i, 'season'] = 3\n",
        "    elif (df_Lending_Club.at[i, 'issue_d'][0:3] == \"Aug\"):\n",
        "        df_Lending_Club.at[i, 'season'] = 3\n",
        "    elif (df_Lending_Club.at[i, 'issue_d'][0:3] == \"Spe\"):\n",
        "        df_Lending_Club.at[i, 'season'] = 4\n",
        "    elif (df_Lending_Club.at[i, 'issue_d'][0:3] == \"Oct\"):\n",
        "        df_Lending_Club.at[i, 'season'] = 4\n",
        "    elif (df_Lending_Club.at[i, 'issue_d'][0:3] == \"Nov\"):\n",
        "        df_Lending_Club.at[i, 'season'] = 4\n",
        "    elif (df_Lending_Club.at[i, 'issue_d'][0:3] == \"Dec\"):\n",
        "        df_Lending_Club.at[i, 'season'] = 1"
      ],
      "execution_count": 9,
      "outputs": []
    },
    {
      "cell_type": "code",
      "metadata": {
        "id": "bx0yZ8jWmpeP",
        "outputId": "24e740fa-6c0b-48f7-ec52-eb271ca7f369",
        "colab": {
          "base_uri": "https://localhost:8080/"
        }
      },
      "source": [
        "# To see number of loans fully paid and charged off\n",
        "df_Lending_Club['loan_status'].value_counts()\n"
      ],
      "execution_count": 10,
      "outputs": [
        {
          "output_type": "execute_result",
          "data": {
            "text/plain": [
              "Fully Paid     3972\n",
              "Charged Off    1028\n",
              "Name: loan_status, dtype: int64"
            ]
          },
          "metadata": {},
          "execution_count": 10
        }
      ]
    },
    {
      "cell_type": "markdown",
      "metadata": {
        "id": "YhfnxSgdM83I"
      },
      "source": [
        "### 3.2. Data Exploration\n"
      ]
    },
    {
      "cell_type": "markdown",
      "metadata": {
        "id": "KYqRjtoPHzK8"
      },
      "source": [
        "#### Bar chart (Visualization #1)\n",
        "The goal of this bar chart is to see the number of loans fully paid and charged off based on different homeownership types. From this chart, we can see there is no significant statistical difference among people with different homeownership types. Therefore, we should not use this as a feature to predict the default probability of the user"
      ]
    },
    {
      "cell_type": "code",
      "metadata": {
        "id": "kVEugN6Mmpxl",
        "outputId": "877fbde6-f709-45e7-c250-9c7c302359b7",
        "colab": {
          "base_uri": "https://localhost:8080/",
          "height": 542
        }
      },
      "source": [
        "# creating a bar chart visualization\n",
        "import plotly.express as px\n",
        "df_Lending_Club_bar = df_Lending_Club\n",
        "for i in df_Lending_Club_bar.index:\n",
        "    if (df_Lending_Club_bar.at[i, 'home_ownership'] == int(3)):\n",
        "        df_Lending_Club_bar.at[i, 'home_ownership'] = \"OWN\"\n",
        "    elif (df_Lending_Club_bar.at[i, 'home_ownership'] == int(2)):\n",
        "        df_Lending_Club_bar.at[i, 'home_ownership'] = \"RENT\"\n",
        "    elif (df_Lending_Club_bar.at[i, 'home_ownership'] == int(1)):\n",
        "        df_Lending_Club_bar.at[i, 'home_ownership'] = \"MORTGAGE\"\n",
        "df_Lending_Club_bar = df_Lending_Club.groupby([\"home_ownership\", \"loan_status\"]).size().reset_index(name=\"Count\")\n",
        "\n",
        "df_Lending_Club_bar.reset_index(inplace=True)\n",
        "\n",
        "\n",
        "\n",
        "fig = px.bar(df_Lending_Club_bar, x='home_ownership', y='Count', \n",
        "             title=\"Distribution of Loan Amount by Home Ownership type and Loan Status\", \n",
        "             color=\"loan_status\", barmode=\"group\", labels = {\"home_ownership\": \"Home Ownership type\", \"Count\": \"Number of Loans\"})\n",
        "\n",
        "\n",
        "fig.show()"
      ],
      "execution_count": 11,
      "outputs": [
        {
          "output_type": "display_data",
          "data": {
            "text/html": [
              "<html>\n",
              "<head><meta charset=\"utf-8\" /></head>\n",
              "<body>\n",
              "    <div>\n",
              "            <script src=\"https://cdnjs.cloudflare.com/ajax/libs/mathjax/2.7.5/MathJax.js?config=TeX-AMS-MML_SVG\"></script><script type=\"text/javascript\">if (window.MathJax) {MathJax.Hub.Config({SVG: {font: \"STIX-Web\"}});}</script>\n",
              "                <script type=\"text/javascript\">window.PlotlyConfig = {MathJaxConfig: 'local'};</script>\n",
              "        <script src=\"https://cdn.plot.ly/plotly-latest.min.js\"></script>    \n",
              "            <div id=\"47f6863a-0297-451f-978d-02691551547a\" class=\"plotly-graph-div\" style=\"height:525px; width:100%;\"></div>\n",
              "            <script type=\"text/javascript\">\n",
              "                \n",
              "                    window.PLOTLYENV=window.PLOTLYENV || {};\n",
              "                    \n",
              "                if (document.getElementById(\"47f6863a-0297-451f-978d-02691551547a\")) {\n",
              "                    Plotly.newPlot(\n",
              "                        '47f6863a-0297-451f-978d-02691551547a',\n",
              "                        [{\"alignmentgroup\": \"True\", \"hoverlabel\": {\"namelength\": 0}, \"hovertemplate\": \"loan_status=Charged Off<br>Home Ownership type=%{x}<br>Number of Loans=%{y}\", \"legendgroup\": \"loan_status=Charged Off\", \"marker\": {\"color\": \"#636efa\"}, \"name\": \"loan_status=Charged Off\", \"offsetgroup\": \"loan_status=Charged Off\", \"orientation\": \"v\", \"showlegend\": true, \"textposition\": \"auto\", \"type\": \"bar\", \"x\": [\"MORTGAGE\", \"OWN\", \"RENT\"], \"xaxis\": \"x\", \"y\": [440, 122, 466], \"yaxis\": \"y\"}, {\"alignmentgroup\": \"True\", \"hoverlabel\": {\"namelength\": 0}, \"hovertemplate\": \"loan_status=Fully Paid<br>Home Ownership type=%{x}<br>Number of Loans=%{y}\", \"legendgroup\": \"loan_status=Fully Paid\", \"marker\": {\"color\": \"#EF553B\"}, \"name\": \"loan_status=Fully Paid\", \"offsetgroup\": \"loan_status=Fully Paid\", \"orientation\": \"v\", \"showlegend\": true, \"textposition\": \"auto\", \"type\": \"bar\", \"x\": [\"MORTGAGE\", \"OWN\", \"RENT\"], \"xaxis\": \"x\", \"y\": [1999, 446, 1527], \"yaxis\": \"y\"}],\n",
              "                        {\"barmode\": \"group\", \"legend\": {\"tracegroupgap\": 0}, \"template\": {\"data\": {\"bar\": [{\"error_x\": {\"color\": \"#2a3f5f\"}, \"error_y\": {\"color\": \"#2a3f5f\"}, \"marker\": {\"line\": {\"color\": \"#E5ECF6\", \"width\": 0.5}}, \"type\": \"bar\"}], \"barpolar\": [{\"marker\": {\"line\": {\"color\": \"#E5ECF6\", \"width\": 0.5}}, \"type\": \"barpolar\"}], \"carpet\": [{\"aaxis\": {\"endlinecolor\": \"#2a3f5f\", \"gridcolor\": \"white\", \"linecolor\": \"white\", \"minorgridcolor\": \"white\", \"startlinecolor\": \"#2a3f5f\"}, \"baxis\": {\"endlinecolor\": \"#2a3f5f\", \"gridcolor\": \"white\", \"linecolor\": \"white\", \"minorgridcolor\": \"white\", \"startlinecolor\": \"#2a3f5f\"}, \"type\": \"carpet\"}], \"choropleth\": [{\"colorbar\": {\"outlinewidth\": 0, \"ticks\": \"\"}, \"type\": \"choropleth\"}], \"contour\": [{\"colorbar\": {\"outlinewidth\": 0, \"ticks\": \"\"}, \"colorscale\": [[0.0, \"#0d0887\"], [0.1111111111111111, \"#46039f\"], [0.2222222222222222, \"#7201a8\"], [0.3333333333333333, \"#9c179e\"], [0.4444444444444444, \"#bd3786\"], [0.5555555555555556, \"#d8576b\"], [0.6666666666666666, \"#ed7953\"], [0.7777777777777778, \"#fb9f3a\"], [0.8888888888888888, \"#fdca26\"], [1.0, \"#f0f921\"]], \"type\": \"contour\"}], \"contourcarpet\": [{\"colorbar\": {\"outlinewidth\": 0, \"ticks\": \"\"}, \"type\": \"contourcarpet\"}], \"heatmap\": [{\"colorbar\": {\"outlinewidth\": 0, \"ticks\": \"\"}, \"colorscale\": [[0.0, \"#0d0887\"], [0.1111111111111111, \"#46039f\"], [0.2222222222222222, \"#7201a8\"], [0.3333333333333333, \"#9c179e\"], [0.4444444444444444, \"#bd3786\"], [0.5555555555555556, \"#d8576b\"], [0.6666666666666666, \"#ed7953\"], [0.7777777777777778, \"#fb9f3a\"], [0.8888888888888888, \"#fdca26\"], [1.0, \"#f0f921\"]], \"type\": \"heatmap\"}], \"heatmapgl\": [{\"colorbar\": {\"outlinewidth\": 0, \"ticks\": \"\"}, \"colorscale\": [[0.0, \"#0d0887\"], [0.1111111111111111, \"#46039f\"], [0.2222222222222222, \"#7201a8\"], [0.3333333333333333, \"#9c179e\"], [0.4444444444444444, \"#bd3786\"], [0.5555555555555556, \"#d8576b\"], [0.6666666666666666, \"#ed7953\"], [0.7777777777777778, \"#fb9f3a\"], [0.8888888888888888, \"#fdca26\"], [1.0, \"#f0f921\"]], \"type\": \"heatmapgl\"}], \"histogram\": [{\"marker\": {\"colorbar\": {\"outlinewidth\": 0, \"ticks\": \"\"}}, \"type\": \"histogram\"}], \"histogram2d\": [{\"colorbar\": {\"outlinewidth\": 0, \"ticks\": \"\"}, \"colorscale\": [[0.0, \"#0d0887\"], [0.1111111111111111, \"#46039f\"], [0.2222222222222222, \"#7201a8\"], [0.3333333333333333, \"#9c179e\"], [0.4444444444444444, \"#bd3786\"], [0.5555555555555556, \"#d8576b\"], [0.6666666666666666, \"#ed7953\"], [0.7777777777777778, \"#fb9f3a\"], [0.8888888888888888, \"#fdca26\"], [1.0, \"#f0f921\"]], \"type\": \"histogram2d\"}], \"histogram2dcontour\": [{\"colorbar\": {\"outlinewidth\": 0, \"ticks\": \"\"}, \"colorscale\": [[0.0, \"#0d0887\"], [0.1111111111111111, \"#46039f\"], [0.2222222222222222, \"#7201a8\"], [0.3333333333333333, \"#9c179e\"], [0.4444444444444444, \"#bd3786\"], [0.5555555555555556, \"#d8576b\"], [0.6666666666666666, \"#ed7953\"], [0.7777777777777778, \"#fb9f3a\"], [0.8888888888888888, \"#fdca26\"], [1.0, \"#f0f921\"]], \"type\": \"histogram2dcontour\"}], \"mesh3d\": [{\"colorbar\": {\"outlinewidth\": 0, \"ticks\": \"\"}, \"type\": \"mesh3d\"}], \"parcoords\": [{\"line\": {\"colorbar\": {\"outlinewidth\": 0, \"ticks\": \"\"}}, \"type\": \"parcoords\"}], \"pie\": [{\"automargin\": true, \"type\": \"pie\"}], \"scatter\": [{\"marker\": {\"colorbar\": {\"outlinewidth\": 0, \"ticks\": \"\"}}, \"type\": \"scatter\"}], \"scatter3d\": [{\"line\": {\"colorbar\": {\"outlinewidth\": 0, \"ticks\": \"\"}}, \"marker\": {\"colorbar\": {\"outlinewidth\": 0, \"ticks\": \"\"}}, \"type\": \"scatter3d\"}], \"scattercarpet\": [{\"marker\": {\"colorbar\": {\"outlinewidth\": 0, \"ticks\": \"\"}}, \"type\": \"scattercarpet\"}], \"scattergeo\": [{\"marker\": {\"colorbar\": {\"outlinewidth\": 0, \"ticks\": \"\"}}, \"type\": \"scattergeo\"}], \"scattergl\": [{\"marker\": {\"colorbar\": {\"outlinewidth\": 0, \"ticks\": \"\"}}, \"type\": \"scattergl\"}], \"scattermapbox\": [{\"marker\": {\"colorbar\": {\"outlinewidth\": 0, \"ticks\": \"\"}}, \"type\": \"scattermapbox\"}], \"scatterpolar\": [{\"marker\": {\"colorbar\": {\"outlinewidth\": 0, \"ticks\": \"\"}}, \"type\": \"scatterpolar\"}], \"scatterpolargl\": [{\"marker\": {\"colorbar\": {\"outlinewidth\": 0, \"ticks\": \"\"}}, \"type\": \"scatterpolargl\"}], \"scatterternary\": [{\"marker\": {\"colorbar\": {\"outlinewidth\": 0, \"ticks\": \"\"}}, \"type\": \"scatterternary\"}], \"surface\": [{\"colorbar\": {\"outlinewidth\": 0, \"ticks\": \"\"}, \"colorscale\": [[0.0, \"#0d0887\"], [0.1111111111111111, \"#46039f\"], [0.2222222222222222, \"#7201a8\"], [0.3333333333333333, \"#9c179e\"], [0.4444444444444444, \"#bd3786\"], [0.5555555555555556, \"#d8576b\"], [0.6666666666666666, \"#ed7953\"], [0.7777777777777778, \"#fb9f3a\"], [0.8888888888888888, \"#fdca26\"], [1.0, \"#f0f921\"]], \"type\": \"surface\"}], \"table\": [{\"cells\": {\"fill\": {\"color\": \"#EBF0F8\"}, \"line\": {\"color\": \"white\"}}, \"header\": {\"fill\": {\"color\": \"#C8D4E3\"}, \"line\": {\"color\": \"white\"}}, \"type\": \"table\"}]}, \"layout\": {\"annotationdefaults\": {\"arrowcolor\": \"#2a3f5f\", \"arrowhead\": 0, \"arrowwidth\": 1}, \"coloraxis\": {\"colorbar\": {\"outlinewidth\": 0, \"ticks\": \"\"}}, \"colorscale\": {\"diverging\": [[0, \"#8e0152\"], [0.1, \"#c51b7d\"], [0.2, \"#de77ae\"], [0.3, \"#f1b6da\"], [0.4, \"#fde0ef\"], [0.5, \"#f7f7f7\"], [0.6, \"#e6f5d0\"], [0.7, \"#b8e186\"], [0.8, \"#7fbc41\"], [0.9, \"#4d9221\"], [1, \"#276419\"]], \"sequential\": [[0.0, \"#0d0887\"], [0.1111111111111111, \"#46039f\"], [0.2222222222222222, \"#7201a8\"], [0.3333333333333333, \"#9c179e\"], [0.4444444444444444, \"#bd3786\"], [0.5555555555555556, \"#d8576b\"], [0.6666666666666666, \"#ed7953\"], [0.7777777777777778, \"#fb9f3a\"], [0.8888888888888888, \"#fdca26\"], [1.0, \"#f0f921\"]], \"sequentialminus\": [[0.0, \"#0d0887\"], [0.1111111111111111, \"#46039f\"], [0.2222222222222222, \"#7201a8\"], [0.3333333333333333, \"#9c179e\"], [0.4444444444444444, \"#bd3786\"], [0.5555555555555556, \"#d8576b\"], [0.6666666666666666, \"#ed7953\"], [0.7777777777777778, \"#fb9f3a\"], [0.8888888888888888, \"#fdca26\"], [1.0, \"#f0f921\"]]}, \"colorway\": [\"#636efa\", \"#EF553B\", \"#00cc96\", \"#ab63fa\", \"#FFA15A\", \"#19d3f3\", \"#FF6692\", \"#B6E880\", \"#FF97FF\", \"#FECB52\"], \"font\": {\"color\": \"#2a3f5f\"}, \"geo\": {\"bgcolor\": \"white\", \"lakecolor\": \"white\", \"landcolor\": \"#E5ECF6\", \"showlakes\": true, \"showland\": true, \"subunitcolor\": \"white\"}, \"hoverlabel\": {\"align\": \"left\"}, \"hovermode\": \"closest\", \"mapbox\": {\"style\": \"light\"}, \"paper_bgcolor\": \"white\", \"plot_bgcolor\": \"#E5ECF6\", \"polar\": {\"angularaxis\": {\"gridcolor\": \"white\", \"linecolor\": \"white\", \"ticks\": \"\"}, \"bgcolor\": \"#E5ECF6\", \"radialaxis\": {\"gridcolor\": \"white\", \"linecolor\": \"white\", \"ticks\": \"\"}}, \"scene\": {\"xaxis\": {\"backgroundcolor\": \"#E5ECF6\", \"gridcolor\": \"white\", \"gridwidth\": 2, \"linecolor\": \"white\", \"showbackground\": true, \"ticks\": \"\", \"zerolinecolor\": \"white\"}, \"yaxis\": {\"backgroundcolor\": \"#E5ECF6\", \"gridcolor\": \"white\", \"gridwidth\": 2, \"linecolor\": \"white\", \"showbackground\": true, \"ticks\": \"\", \"zerolinecolor\": \"white\"}, \"zaxis\": {\"backgroundcolor\": \"#E5ECF6\", \"gridcolor\": \"white\", \"gridwidth\": 2, \"linecolor\": \"white\", \"showbackground\": true, \"ticks\": \"\", \"zerolinecolor\": \"white\"}}, \"shapedefaults\": {\"line\": {\"color\": \"#2a3f5f\"}}, \"ternary\": {\"aaxis\": {\"gridcolor\": \"white\", \"linecolor\": \"white\", \"ticks\": \"\"}, \"baxis\": {\"gridcolor\": \"white\", \"linecolor\": \"white\", \"ticks\": \"\"}, \"bgcolor\": \"#E5ECF6\", \"caxis\": {\"gridcolor\": \"white\", \"linecolor\": \"white\", \"ticks\": \"\"}}, \"title\": {\"x\": 0.05}, \"xaxis\": {\"automargin\": true, \"gridcolor\": \"white\", \"linecolor\": \"white\", \"ticks\": \"\", \"title\": {\"standoff\": 15}, \"zerolinecolor\": \"white\", \"zerolinewidth\": 2}, \"yaxis\": {\"automargin\": true, \"gridcolor\": \"white\", \"linecolor\": \"white\", \"ticks\": \"\", \"title\": {\"standoff\": 15}, \"zerolinecolor\": \"white\", \"zerolinewidth\": 2}}}, \"title\": {\"text\": \"Distribution of Loan Amount by Home Ownership type and Loan Status\"}, \"xaxis\": {\"anchor\": \"y\", \"domain\": [0.0, 1.0], \"title\": {\"text\": \"Home Ownership type\"}}, \"yaxis\": {\"anchor\": \"x\", \"domain\": [0.0, 1.0], \"title\": {\"text\": \"Number of Loans\"}}},\n",
              "                        {\"responsive\": true}\n",
              "                    ).then(function(){\n",
              "                            \n",
              "var gd = document.getElementById('47f6863a-0297-451f-978d-02691551547a');\n",
              "var x = new MutationObserver(function (mutations, observer) {{\n",
              "        var display = window.getComputedStyle(gd).display;\n",
              "        if (!display || display === 'none') {{\n",
              "            console.log([gd, 'removed!']);\n",
              "            Plotly.purge(gd);\n",
              "            observer.disconnect();\n",
              "        }}\n",
              "}});\n",
              "\n",
              "// Listen for the removal of the full notebook cells\n",
              "var notebookContainer = gd.closest('#notebook-container');\n",
              "if (notebookContainer) {{\n",
              "    x.observe(notebookContainer, {childList: true});\n",
              "}}\n",
              "\n",
              "// Listen for the clearing of the current output cell\n",
              "var outputEl = gd.closest('.output');\n",
              "if (outputEl) {{\n",
              "    x.observe(outputEl, {childList: true});\n",
              "}}\n",
              "\n",
              "                        })\n",
              "                };\n",
              "                \n",
              "            </script>\n",
              "        </div>\n",
              "</body>\n",
              "</html>"
            ]
          },
          "metadata": {}
        }
      ]
    },
    {
      "cell_type": "markdown",
      "metadata": {
        "id": "-JIm6H4GI3nJ"
      },
      "source": [
        "Please, follow the link to see an image of the bar chart: \n",
        "https://drive.google.com/uc?id=1f2qubRp3ITu01lL-_Alk0dxUUknV1OWi"
      ]
    },
    {
      "cell_type": "markdown",
      "metadata": {
        "id": "zLDsP6RaM83M"
      },
      "source": [
        "#### Bar chart (Visualization #2)\n",
        "The goal of the second visualization is to see whether the grade of the loan is a good representation of the creditworthiness of the borrower. And as we can see, the Lending Club assigns the grades pretty effectively. As we can see, moving from A to G, the percentage of loans that were charged off in a particular grade, is increasing. "
      ]
    },
    {
      "cell_type": "code",
      "metadata": {
        "id": "ZjuUkk5NCsOg",
        "outputId": "585d0485-7234-4dba-c28a-8055e362a917",
        "colab": {
          "base_uri": "https://localhost:8080/",
          "height": 542
        }
      },
      "source": [
        "#creating a bar chart visualization of the distribution of loan types based on the grade\n",
        "import plotly.express as px\n",
        "df_Lending_Club_bar2 = df_Lending_Club\n",
        "for i in df_Lending_Club_bar2.index:\n",
        "    if (df_Lending_Club_bar2.at[i, 'grade'] == int(7)):\n",
        "        df_Lending_Club_bar2.at[i, 'grade'] = \"A\"\n",
        "    elif (df_Lending_Club_bar2.at[i, 'grade'] == int(6)):\n",
        "        df_Lending_Club_bar2.at[i, 'grade'] = \"B\"\n",
        "    elif (df_Lending_Club_bar2.at[i, 'grade'] == int(5)):\n",
        "        df_Lending_Club_bar2.at[i, 'grade'] = \"C\"\n",
        "    elif (df_Lending_Club_bar2.at[i, 'grade'] == int(4)):\n",
        "        df_Lending_Club_bar2.at[i, 'grade'] = \"D\"\n",
        "    elif (df_Lending_Club_bar2.at[i, 'grade'] == int(3)):\n",
        "        df_Lending_Club_bar2.at[i, 'grade'] = \"E\"\n",
        "    elif (df_Lending_Club_bar2.at[i, 'grade'] == int(2)):\n",
        "        df_Lending_Club_bar2.at[i, 'grade'] = \"F\"\n",
        "    elif (df_Lending_Club_bar2.at[i, 'grade'] == int(1)):\n",
        "        df_Lending_Club_bar2.at[i, 'grade'] = \"G\"\n",
        "\n",
        "df_Lending_Club_bar2 = df_Lending_Club.groupby([\"target\", \"grade\"]).size().reset_index(name=\"Count\")\n",
        "\n",
        "\n",
        "\n",
        "\n",
        "\n",
        "fig = px.bar(df_Lending_Club_bar2, x='grade', y='Count', \n",
        "             title=\"Number of paid off and defaulted loans based on the borrower's grade\", \n",
        "             color=\"target\", barmode=\"group\", labels = {\"grade\": \"Grade\", \"Count\": \"Number of Loans\"})\n",
        "fig.show()"
      ],
      "execution_count": 12,
      "outputs": [
        {
          "output_type": "display_data",
          "data": {
            "text/html": [
              "<html>\n",
              "<head><meta charset=\"utf-8\" /></head>\n",
              "<body>\n",
              "    <div>\n",
              "            <script src=\"https://cdnjs.cloudflare.com/ajax/libs/mathjax/2.7.5/MathJax.js?config=TeX-AMS-MML_SVG\"></script><script type=\"text/javascript\">if (window.MathJax) {MathJax.Hub.Config({SVG: {font: \"STIX-Web\"}});}</script>\n",
              "                <script type=\"text/javascript\">window.PlotlyConfig = {MathJaxConfig: 'local'};</script>\n",
              "        <script src=\"https://cdn.plot.ly/plotly-latest.min.js\"></script>    \n",
              "            <div id=\"30c9265f-5aa5-467a-92d8-9bb25eac3a88\" class=\"plotly-graph-div\" style=\"height:525px; width:100%;\"></div>\n",
              "            <script type=\"text/javascript\">\n",
              "                \n",
              "                    window.PLOTLYENV=window.PLOTLYENV || {};\n",
              "                    \n",
              "                if (document.getElementById(\"30c9265f-5aa5-467a-92d8-9bb25eac3a88\")) {\n",
              "                    Plotly.newPlot(\n",
              "                        '30c9265f-5aa5-467a-92d8-9bb25eac3a88',\n",
              "                        [{\"alignmentgroup\": \"True\", \"hoverlabel\": {\"namelength\": 0}, \"hovertemplate\": \"Grade=%{x}<br>Number of Loans=%{y}<br>target=%{marker.color}\", \"legendgroup\": \"\", \"marker\": {\"color\": [0.0, 0.0, 0.0, 0.0, 0.0, 0.0, 0.0, 1.0, 1.0, 1.0, 1.0, 1.0, 1.0, 1.0], \"coloraxis\": \"coloraxis\"}, \"name\": \"\", \"offsetgroup\": \"\", \"orientation\": \"v\", \"showlegend\": false, \"textposition\": \"auto\", \"type\": \"bar\", \"x\": [\"A\", \"B\", \"C\", \"D\", \"E\", \"F\", \"G\", \"A\", \"B\", \"C\", \"D\", \"E\", \"F\", \"G\"], \"xaxis\": \"x\", \"y\": [64, 198, 316, 237, 144, 47, 22, 892, 1225, 1106, 475, 199, 63, 12], \"yaxis\": \"y\"}],\n",
              "                        {\"barmode\": \"group\", \"coloraxis\": {\"colorbar\": {\"title\": {\"text\": \"target\"}}, \"colorscale\": [[0.0, \"#0d0887\"], [0.1111111111111111, \"#46039f\"], [0.2222222222222222, \"#7201a8\"], [0.3333333333333333, \"#9c179e\"], [0.4444444444444444, \"#bd3786\"], [0.5555555555555556, \"#d8576b\"], [0.6666666666666666, \"#ed7953\"], [0.7777777777777778, \"#fb9f3a\"], [0.8888888888888888, \"#fdca26\"], [1.0, \"#f0f921\"]]}, \"legend\": {\"tracegroupgap\": 0}, \"template\": {\"data\": {\"bar\": [{\"error_x\": {\"color\": \"#2a3f5f\"}, \"error_y\": {\"color\": \"#2a3f5f\"}, \"marker\": {\"line\": {\"color\": \"#E5ECF6\", \"width\": 0.5}}, \"type\": \"bar\"}], \"barpolar\": [{\"marker\": {\"line\": {\"color\": \"#E5ECF6\", \"width\": 0.5}}, \"type\": \"barpolar\"}], \"carpet\": [{\"aaxis\": {\"endlinecolor\": \"#2a3f5f\", \"gridcolor\": \"white\", \"linecolor\": \"white\", \"minorgridcolor\": \"white\", \"startlinecolor\": \"#2a3f5f\"}, \"baxis\": {\"endlinecolor\": \"#2a3f5f\", \"gridcolor\": \"white\", \"linecolor\": \"white\", \"minorgridcolor\": \"white\", \"startlinecolor\": \"#2a3f5f\"}, \"type\": \"carpet\"}], \"choropleth\": [{\"colorbar\": {\"outlinewidth\": 0, \"ticks\": \"\"}, \"type\": \"choropleth\"}], \"contour\": [{\"colorbar\": {\"outlinewidth\": 0, \"ticks\": \"\"}, \"colorscale\": [[0.0, \"#0d0887\"], [0.1111111111111111, \"#46039f\"], [0.2222222222222222, \"#7201a8\"], [0.3333333333333333, \"#9c179e\"], [0.4444444444444444, \"#bd3786\"], [0.5555555555555556, \"#d8576b\"], [0.6666666666666666, \"#ed7953\"], [0.7777777777777778, \"#fb9f3a\"], [0.8888888888888888, \"#fdca26\"], [1.0, \"#f0f921\"]], \"type\": \"contour\"}], \"contourcarpet\": [{\"colorbar\": {\"outlinewidth\": 0, \"ticks\": \"\"}, \"type\": \"contourcarpet\"}], \"heatmap\": [{\"colorbar\": {\"outlinewidth\": 0, \"ticks\": \"\"}, \"colorscale\": [[0.0, \"#0d0887\"], [0.1111111111111111, \"#46039f\"], [0.2222222222222222, \"#7201a8\"], [0.3333333333333333, \"#9c179e\"], [0.4444444444444444, \"#bd3786\"], [0.5555555555555556, \"#d8576b\"], [0.6666666666666666, \"#ed7953\"], [0.7777777777777778, \"#fb9f3a\"], [0.8888888888888888, \"#fdca26\"], [1.0, \"#f0f921\"]], \"type\": \"heatmap\"}], \"heatmapgl\": [{\"colorbar\": {\"outlinewidth\": 0, \"ticks\": \"\"}, \"colorscale\": [[0.0, \"#0d0887\"], [0.1111111111111111, \"#46039f\"], [0.2222222222222222, \"#7201a8\"], [0.3333333333333333, \"#9c179e\"], [0.4444444444444444, \"#bd3786\"], [0.5555555555555556, \"#d8576b\"], [0.6666666666666666, \"#ed7953\"], [0.7777777777777778, \"#fb9f3a\"], [0.8888888888888888, \"#fdca26\"], [1.0, \"#f0f921\"]], \"type\": \"heatmapgl\"}], \"histogram\": [{\"marker\": {\"colorbar\": {\"outlinewidth\": 0, \"ticks\": \"\"}}, \"type\": \"histogram\"}], \"histogram2d\": [{\"colorbar\": {\"outlinewidth\": 0, \"ticks\": \"\"}, \"colorscale\": [[0.0, \"#0d0887\"], [0.1111111111111111, \"#46039f\"], [0.2222222222222222, \"#7201a8\"], [0.3333333333333333, \"#9c179e\"], [0.4444444444444444, \"#bd3786\"], [0.5555555555555556, \"#d8576b\"], [0.6666666666666666, \"#ed7953\"], [0.7777777777777778, \"#fb9f3a\"], [0.8888888888888888, \"#fdca26\"], [1.0, \"#f0f921\"]], \"type\": \"histogram2d\"}], \"histogram2dcontour\": [{\"colorbar\": {\"outlinewidth\": 0, \"ticks\": \"\"}, \"colorscale\": [[0.0, \"#0d0887\"], [0.1111111111111111, \"#46039f\"], [0.2222222222222222, \"#7201a8\"], [0.3333333333333333, \"#9c179e\"], [0.4444444444444444, \"#bd3786\"], [0.5555555555555556, \"#d8576b\"], [0.6666666666666666, \"#ed7953\"], [0.7777777777777778, \"#fb9f3a\"], [0.8888888888888888, \"#fdca26\"], [1.0, \"#f0f921\"]], \"type\": \"histogram2dcontour\"}], \"mesh3d\": [{\"colorbar\": {\"outlinewidth\": 0, \"ticks\": \"\"}, \"type\": \"mesh3d\"}], \"parcoords\": [{\"line\": {\"colorbar\": {\"outlinewidth\": 0, \"ticks\": \"\"}}, \"type\": \"parcoords\"}], \"pie\": [{\"automargin\": true, \"type\": \"pie\"}], \"scatter\": [{\"marker\": {\"colorbar\": {\"outlinewidth\": 0, \"ticks\": \"\"}}, \"type\": \"scatter\"}], \"scatter3d\": [{\"line\": {\"colorbar\": {\"outlinewidth\": 0, \"ticks\": \"\"}}, \"marker\": {\"colorbar\": {\"outlinewidth\": 0, \"ticks\": \"\"}}, \"type\": \"scatter3d\"}], \"scattercarpet\": [{\"marker\": {\"colorbar\": {\"outlinewidth\": 0, \"ticks\": \"\"}}, \"type\": \"scattercarpet\"}], \"scattergeo\": [{\"marker\": {\"colorbar\": {\"outlinewidth\": 0, \"ticks\": \"\"}}, \"type\": \"scattergeo\"}], \"scattergl\": [{\"marker\": {\"colorbar\": {\"outlinewidth\": 0, \"ticks\": \"\"}}, \"type\": \"scattergl\"}], \"scattermapbox\": [{\"marker\": {\"colorbar\": {\"outlinewidth\": 0, \"ticks\": \"\"}}, \"type\": \"scattermapbox\"}], \"scatterpolar\": [{\"marker\": {\"colorbar\": {\"outlinewidth\": 0, \"ticks\": \"\"}}, \"type\": \"scatterpolar\"}], \"scatterpolargl\": [{\"marker\": {\"colorbar\": {\"outlinewidth\": 0, \"ticks\": \"\"}}, \"type\": \"scatterpolargl\"}], \"scatterternary\": [{\"marker\": {\"colorbar\": {\"outlinewidth\": 0, \"ticks\": \"\"}}, \"type\": \"scatterternary\"}], \"surface\": [{\"colorbar\": {\"outlinewidth\": 0, \"ticks\": \"\"}, \"colorscale\": [[0.0, \"#0d0887\"], [0.1111111111111111, \"#46039f\"], [0.2222222222222222, \"#7201a8\"], [0.3333333333333333, \"#9c179e\"], [0.4444444444444444, \"#bd3786\"], [0.5555555555555556, \"#d8576b\"], [0.6666666666666666, \"#ed7953\"], [0.7777777777777778, \"#fb9f3a\"], [0.8888888888888888, \"#fdca26\"], [1.0, \"#f0f921\"]], \"type\": \"surface\"}], \"table\": [{\"cells\": {\"fill\": {\"color\": \"#EBF0F8\"}, \"line\": {\"color\": \"white\"}}, \"header\": {\"fill\": {\"color\": \"#C8D4E3\"}, \"line\": {\"color\": \"white\"}}, \"type\": \"table\"}]}, \"layout\": {\"annotationdefaults\": {\"arrowcolor\": \"#2a3f5f\", \"arrowhead\": 0, \"arrowwidth\": 1}, \"coloraxis\": {\"colorbar\": {\"outlinewidth\": 0, \"ticks\": \"\"}}, \"colorscale\": {\"diverging\": [[0, \"#8e0152\"], [0.1, \"#c51b7d\"], [0.2, \"#de77ae\"], [0.3, \"#f1b6da\"], [0.4, \"#fde0ef\"], [0.5, \"#f7f7f7\"], [0.6, \"#e6f5d0\"], [0.7, \"#b8e186\"], [0.8, \"#7fbc41\"], [0.9, \"#4d9221\"], [1, \"#276419\"]], \"sequential\": [[0.0, \"#0d0887\"], [0.1111111111111111, \"#46039f\"], [0.2222222222222222, \"#7201a8\"], [0.3333333333333333, \"#9c179e\"], [0.4444444444444444, \"#bd3786\"], [0.5555555555555556, \"#d8576b\"], [0.6666666666666666, \"#ed7953\"], [0.7777777777777778, \"#fb9f3a\"], [0.8888888888888888, \"#fdca26\"], [1.0, \"#f0f921\"]], \"sequentialminus\": [[0.0, \"#0d0887\"], [0.1111111111111111, \"#46039f\"], [0.2222222222222222, \"#7201a8\"], [0.3333333333333333, \"#9c179e\"], [0.4444444444444444, \"#bd3786\"], [0.5555555555555556, \"#d8576b\"], [0.6666666666666666, \"#ed7953\"], [0.7777777777777778, \"#fb9f3a\"], [0.8888888888888888, \"#fdca26\"], [1.0, \"#f0f921\"]]}, \"colorway\": [\"#636efa\", \"#EF553B\", \"#00cc96\", \"#ab63fa\", \"#FFA15A\", \"#19d3f3\", \"#FF6692\", \"#B6E880\", \"#FF97FF\", \"#FECB52\"], \"font\": {\"color\": \"#2a3f5f\"}, \"geo\": {\"bgcolor\": \"white\", \"lakecolor\": \"white\", \"landcolor\": \"#E5ECF6\", \"showlakes\": true, \"showland\": true, \"subunitcolor\": \"white\"}, \"hoverlabel\": {\"align\": \"left\"}, \"hovermode\": \"closest\", \"mapbox\": {\"style\": \"light\"}, \"paper_bgcolor\": \"white\", \"plot_bgcolor\": \"#E5ECF6\", \"polar\": {\"angularaxis\": {\"gridcolor\": \"white\", \"linecolor\": \"white\", \"ticks\": \"\"}, \"bgcolor\": \"#E5ECF6\", \"radialaxis\": {\"gridcolor\": \"white\", \"linecolor\": \"white\", \"ticks\": \"\"}}, \"scene\": {\"xaxis\": {\"backgroundcolor\": \"#E5ECF6\", \"gridcolor\": \"white\", \"gridwidth\": 2, \"linecolor\": \"white\", \"showbackground\": true, \"ticks\": \"\", \"zerolinecolor\": \"white\"}, \"yaxis\": {\"backgroundcolor\": \"#E5ECF6\", \"gridcolor\": \"white\", \"gridwidth\": 2, \"linecolor\": \"white\", \"showbackground\": true, \"ticks\": \"\", \"zerolinecolor\": \"white\"}, \"zaxis\": {\"backgroundcolor\": \"#E5ECF6\", \"gridcolor\": \"white\", \"gridwidth\": 2, \"linecolor\": \"white\", \"showbackground\": true, \"ticks\": \"\", \"zerolinecolor\": \"white\"}}, \"shapedefaults\": {\"line\": {\"color\": \"#2a3f5f\"}}, \"ternary\": {\"aaxis\": {\"gridcolor\": \"white\", \"linecolor\": \"white\", \"ticks\": \"\"}, \"baxis\": {\"gridcolor\": \"white\", \"linecolor\": \"white\", \"ticks\": \"\"}, \"bgcolor\": \"#E5ECF6\", \"caxis\": {\"gridcolor\": \"white\", \"linecolor\": \"white\", \"ticks\": \"\"}}, \"title\": {\"x\": 0.05}, \"xaxis\": {\"automargin\": true, \"gridcolor\": \"white\", \"linecolor\": \"white\", \"ticks\": \"\", \"title\": {\"standoff\": 15}, \"zerolinecolor\": \"white\", \"zerolinewidth\": 2}, \"yaxis\": {\"automargin\": true, \"gridcolor\": \"white\", \"linecolor\": \"white\", \"ticks\": \"\", \"title\": {\"standoff\": 15}, \"zerolinecolor\": \"white\", \"zerolinewidth\": 2}}}, \"title\": {\"text\": \"Number of paid off and defaulted loans based on the borrower's grade\"}, \"xaxis\": {\"anchor\": \"y\", \"domain\": [0.0, 1.0], \"title\": {\"text\": \"Grade\"}}, \"yaxis\": {\"anchor\": \"x\", \"domain\": [0.0, 1.0], \"title\": {\"text\": \"Number of Loans\"}}},\n",
              "                        {\"responsive\": true}\n",
              "                    ).then(function(){\n",
              "                            \n",
              "var gd = document.getElementById('30c9265f-5aa5-467a-92d8-9bb25eac3a88');\n",
              "var x = new MutationObserver(function (mutations, observer) {{\n",
              "        var display = window.getComputedStyle(gd).display;\n",
              "        if (!display || display === 'none') {{\n",
              "            console.log([gd, 'removed!']);\n",
              "            Plotly.purge(gd);\n",
              "            observer.disconnect();\n",
              "        }}\n",
              "}});\n",
              "\n",
              "// Listen for the removal of the full notebook cells\n",
              "var notebookContainer = gd.closest('#notebook-container');\n",
              "if (notebookContainer) {{\n",
              "    x.observe(notebookContainer, {childList: true});\n",
              "}}\n",
              "\n",
              "// Listen for the clearing of the current output cell\n",
              "var outputEl = gd.closest('.output');\n",
              "if (outputEl) {{\n",
              "    x.observe(outputEl, {childList: true});\n",
              "}}\n",
              "\n",
              "                        })\n",
              "                };\n",
              "                \n",
              "            </script>\n",
              "        </div>\n",
              "</body>\n",
              "</html>"
            ]
          },
          "metadata": {}
        }
      ]
    },
    {
      "cell_type": "markdown",
      "metadata": {
        "id": "FnXvclTQK3GZ"
      },
      "source": [
        "Please, follow the link to open a bar chart image:  https://drive.google.com/file/d/1pxwxz8bKbydpf9rHP1PAWrQNNpqk7OEL/view?usp=sharing"
      ]
    },
    {
      "cell_type": "markdown",
      "metadata": {
        "id": "_0NXs2sFM83Q"
      },
      "source": [
        "#### Scatter Plot (Visualization #3)\n",
        "As we really do have this relationship between the grade and the percentage of loans being charged off, meaning, there is a satisfying way Lending club assigns the grades and evaluating a risk profile, we wanted to see whether there is a relationship between the grade and the interest rate the borrowers are being assigned.  And as we can see, there is really a strong negative correlation between the grade and interest rates. Basically, the higher the risk profile, the higher the interest is. "
      ]
    },
    {
      "cell_type": "code",
      "metadata": {
        "id": "VOkq5AyXmqEF",
        "outputId": "82bf893f-7a17-4fd9-86ab-7435aaca8f0e",
        "colab": {
          "base_uri": "https://localhost:8080/",
          "height": 542
        }
      },
      "source": [
        "# Creating a scatter plot to see the relationship between the grade of the borrower and the interest rate of the loan\n",
        "import plotly.express as px\n",
        "\n",
        "df_Lending_Club_scatter = df_Lending_Club.groupby([\"int_rate\", \"grade\"]).size().reset_index(name=\"Count\")\n",
        "df_Lending_Club_scatter.reset_index(inplace=True)\n",
        "fig = px.scatter(df_Lending_Club_scatter, x=\"int_rate\", y=\"grade\", size = \"Count\",\n",
        "                      template=\"none\", size_max = 50,\n",
        "                    title='Relationship between Interest rate and grade', \n",
        "                 labels = {\"int_rate\": \"Loan interest rate in %\", \"grade\": \"A borrower's credit rating by Lending Club\"})\n",
        "\n",
        "#modify axis label properties\n",
        "fig.update_xaxes(title_font={\"size\":18, \"family\": \"Courier\", \"color\":\"gray\"}, \n",
        "                 tickfont = {\"size\":16, \"family\": \"Courier\", \"color\":\"gray\"})\n",
        "fig.update_yaxes(title_font={\"size\":18, \"family\": \"Courier\", \"color\":\"gray\"}, \n",
        "                            tickfont = {\"size\":16, \"family\": \"Courier\", \"color\":\"gray\"})\n",
        "\n",
        "\n",
        "fig.show()"
      ],
      "execution_count": 13,
      "outputs": [
        {
          "output_type": "display_data",
          "data": {
            "text/html": [
              "<html>\n",
              "<head><meta charset=\"utf-8\" /></head>\n",
              "<body>\n",
              "    <div>\n",
              "            <script src=\"https://cdnjs.cloudflare.com/ajax/libs/mathjax/2.7.5/MathJax.js?config=TeX-AMS-MML_SVG\"></script><script type=\"text/javascript\">if (window.MathJax) {MathJax.Hub.Config({SVG: {font: \"STIX-Web\"}});}</script>\n",
              "                <script type=\"text/javascript\">window.PlotlyConfig = {MathJaxConfig: 'local'};</script>\n",
              "        <script src=\"https://cdn.plot.ly/plotly-latest.min.js\"></script>    \n",
              "            <div id=\"4e7b2720-0c05-42e2-b5dc-1e051de6fd87\" class=\"plotly-graph-div\" style=\"height:525px; width:100%;\"></div>\n",
              "            <script type=\"text/javascript\">\n",
              "                \n",
              "                    window.PLOTLYENV=window.PLOTLYENV || {};\n",
              "                    \n",
              "                if (document.getElementById(\"4e7b2720-0c05-42e2-b5dc-1e051de6fd87\")) {\n",
              "                    Plotly.newPlot(\n",
              "                        '4e7b2720-0c05-42e2-b5dc-1e051de6fd87',\n",
              "                        [{\"hoverlabel\": {\"namelength\": 0}, \"hovertemplate\": \"Loan interest rate in %=%{x}<br>A borrower's credit rating by Lending Club=%{y}<br>Count=%{marker.size}\", \"legendgroup\": \"\", \"marker\": {\"color\": \"#1F77B4\", \"size\": [1, 179, 13, 1, 1, 8, 1, 3, 5, 58, 30, 32, 5, 25, 4, 8, 49, 29, 33, 23, 18, 21, 5, 60, 4, 19, 34, 19, 2, 1, 192, 1, 4, 39, 8, 1, 137, 16, 5, 14, 39, 5, 3, 1, 21, 4, 48, 164, 1, 43, 21, 59, 13, 4, 3, 33, 140, 2, 4, 28, 1, 22, 1, 15, 53, 3, 4, 35, 139, 4, 24, 6, 29, 58, 2, 32, 126, 4, 3, 71, 77, 13, 1, 135, 26, 26, 3, 38, 143, 4, 13, 4, 2, 76, 26, 123, 4, 9, 3, 3, 43, 19, 87, 133, 46, 18, 18, 44, 3, 9, 5, 1, 91, 1, 24, 4, 2, 39, 38, 19, 4, 11, 85, 1, 12, 14, 4, 44, 4, 36, 10, 91, 4, 79, 13, 10, 22, 68, 58, 9, 27, 8, 22, 51, 3, 2, 7, 8, 24, 9, 4, 27, 12, 19, 24, 7, 2, 11, 12, 10, 50, 21, 4, 10, 12, 4, 20, 12, 24, 1, 8, 4, 4, 3, 14, 2, 2, 1, 3, 21, 7, 5, 3, 1, 9, 3, 13, 4, 3, 3, 1, 1, 10, 3, 9, 1, 1, 3, 2, 4, 1, 3, 1, 1, 1, 1, 2, 9, 1, 7, 2, 6, 1, 1, 2, 2, 4, 3, 4, 2, 1, 1, 3, 1, 3, 2, 3, 1, 1, 1, 6], \"sizemode\": \"area\", \"sizeref\": 0.0768, \"symbol\": \"circle\"}, \"mode\": \"markers\", \"name\": \"\", \"showlegend\": false, \"type\": \"scatter\", \"x\": [5.31, 5.32, 5.93, 6.0, 6.0, 6.03, 6.07, 6.08, 6.11, 6.24, 6.39, 6.49, 6.67, 6.68, 6.71, 6.72, 6.89, 6.92, 6.97, 6.99, 7.07, 7.21, 7.24, 7.26, 7.34, 7.35, 7.39, 7.49, 7.59, 7.84, 7.89, 7.91, 7.96, 7.97, 7.99, 8.08, 8.18, 8.19, 8.24, 8.38, 8.39, 8.46, 8.49, 8.59, 8.67, 8.99, 9.16, 9.17, 9.43, 9.44, 9.49, 9.75, 9.76, 9.8, 9.92, 9.93, 9.99, 10.08, 10.41, 10.42, 10.47, 10.49, 10.56, 10.64, 10.75, 10.78, 10.9, 10.91, 10.99, 11.06, 11.22, 11.39, 11.44, 11.47, 11.48, 11.49, 11.53, 11.55, 11.98, 11.99, 11.99, 12.05, 12.13, 12.29, 12.39, 12.59, 12.61, 12.62, 12.69, 12.73, 12.74, 12.79, 12.88, 12.99, 13.18, 13.33, 13.44, 13.49, 13.56, 13.58, 13.59, 13.66, 13.67, 13.99, 14.08, 14.31, 14.33, 14.46, 14.47, 14.48, 14.49, 14.52, 14.65, 14.85, 14.99, 15.02, 15.04, 15.05, 15.31, 15.41, 15.59, 15.59, 15.61, 15.77, 15.99, 15.99, 16.01, 16.02, 16.14, 16.29, 16.49, 16.55, 16.91, 16.99, 17.09, 17.14, 17.27, 17.57, 17.86, 17.99, 18.06, 18.2, 18.25, 18.25, 18.45, 18.49, 18.49, 18.54, 18.55, 18.84, 18.94, 18.99, 18.99, 19.03, 19.19, 19.24, 19.42, 19.52, 19.53, 19.99, 19.99, 20.0, 20.39, 20.49, 20.75, 20.89, 20.99, 21.18, 21.45, 21.48, 21.67, 21.85, 21.97, 21.99, 21.99, 22.35, 22.45, 22.45, 22.74, 22.99, 23.13, 23.32, 23.4, 23.87, 23.88, 23.99, 23.99, 24.11, 24.49, 24.5, 24.74, 24.84, 24.85, 24.99, 24.99, 25.11, 25.44, 25.57, 25.65, 25.78, 25.81, 25.82, 25.83, 25.88, 25.89, 26.06, 26.14, 26.3, 26.31, 26.57, 26.77, 26.77, 27.34, 27.88, 28.14, 28.34, 28.49, 28.69, 28.72, 28.99, 29.49, 29.67, 29.69, 30.17, 30.65, 30.75, 30.79, 30.84, 30.89, 30.94, 30.99], \"xaxis\": \"x\", \"y\": [\"A\", \"A\", \"A\", \"C\", \"D\", \"A\", \"A\", \"A\", \"A\", \"A\", \"A\", \"A\", \"A\", \"A\", \"A\", \"A\", \"A\", \"A\", \"A\", \"A\", \"A\", \"A\", \"A\", \"A\", \"A\", \"A\", \"A\", \"A\", \"A\", \"A\", \"A\", \"A\", \"A\", \"A\", \"A\", \"A\", \"B\", \"A\", \"B\", \"B\", \"B\", \"A\", \"B\", \"A\", \"B\", \"B\", \"B\", \"B\", \"B\", \"B\", \"B\", \"B\", \"B\", \"B\", \"B\", \"B\", \"B\", \"B\", \"B\", \"B\", \"B\", \"B\", \"B\", \"B\", \"B\", \"B\", \"B\", \"B\", \"B\", \"B\", \"B\", \"B\", \"B\", \"B\", \"B\", \"B\", \"B\", \"B\", \"B\", \"B\", \"C\", \"C\", \"B\", \"C\", \"C\", \"C\", \"C\", \"C\", \"C\", \"B\", \"C\", \"C\", \"C\", \"C\", \"C\", \"C\", \"C\", \"C\", \"C\", \"C\", \"C\", \"C\", \"C\", \"C\", \"C\", \"C\", \"C\", \"C\", \"C\", \"C\", \"C\", \"C\", \"C\", \"C\", \"C\", \"C\", \"C\", \"C\", \"C\", \"D\", \"C\", \"D\", \"D\", \"D\", \"C\", \"D\", \"C\", \"C\", \"C\", \"D\", \"D\", \"D\", \"C\", \"D\", \"D\", \"D\", \"D\", \"D\", \"D\", \"D\", \"D\", \"E\", \"D\", \"E\", \"D\", \"D\", \"E\", \"E\", \"E\", \"E\", \"D\", \"D\", \"E\", \"D\", \"E\", \"E\", \"D\", \"E\", \"D\", \"D\", \"E\", \"D\", \"D\", \"E\", \"E\", \"D\", \"E\", \"E\", \"D\", \"E\", \"E\", \"D\", \"E\", \"E\", \"F\", \"E\", \"E\", \"F\", \"E\", \"F\", \"F\", \"E\", \"E\", \"E\", \"E\", \"E\", \"F\", \"F\", \"E\", \"F\", \"E\", \"E\", \"E\", \"E\", \"F\", \"F\", \"F\", \"F\", \"F\", \"F\", \"E\", \"E\", \"G\", \"F\", \"G\", \"G\", \"F\", \"E\", \"E\", \"F\", \"E\", \"G\", \"G\", \"G\", \"G\", \"G\", \"G\", \"F\", \"F\", \"G\", \"F\", \"G\", \"F\", \"F\", \"F\", \"F\", \"G\", \"G\", \"G\", \"G\", \"G\"], \"yaxis\": \"y\"}],\n",
              "                        {\"legend\": {\"itemsizing\": \"constant\", \"tracegroupgap\": 0}, \"template\": {\"data\": {\"scatter\": [{\"type\": \"scatter\"}]}}, \"title\": {\"text\": \"Relationship between Interest rate and grade\"}, \"xaxis\": {\"anchor\": \"y\", \"domain\": [0.0, 1.0], \"tickfont\": {\"color\": \"gray\", \"family\": \"Courier\", \"size\": 16}, \"title\": {\"font\": {\"color\": \"gray\", \"family\": \"Courier\", \"size\": 18}, \"text\": \"Loan interest rate in %\"}}, \"yaxis\": {\"anchor\": \"x\", \"domain\": [0.0, 1.0], \"tickfont\": {\"color\": \"gray\", \"family\": \"Courier\", \"size\": 16}, \"title\": {\"font\": {\"color\": \"gray\", \"family\": \"Courier\", \"size\": 18}, \"text\": \"A borrower's credit rating by Lending Club\"}}},\n",
              "                        {\"responsive\": true}\n",
              "                    ).then(function(){\n",
              "                            \n",
              "var gd = document.getElementById('4e7b2720-0c05-42e2-b5dc-1e051de6fd87');\n",
              "var x = new MutationObserver(function (mutations, observer) {{\n",
              "        var display = window.getComputedStyle(gd).display;\n",
              "        if (!display || display === 'none') {{\n",
              "            console.log([gd, 'removed!']);\n",
              "            Plotly.purge(gd);\n",
              "            observer.disconnect();\n",
              "        }}\n",
              "}});\n",
              "\n",
              "// Listen for the removal of the full notebook cells\n",
              "var notebookContainer = gd.closest('#notebook-container');\n",
              "if (notebookContainer) {{\n",
              "    x.observe(notebookContainer, {childList: true});\n",
              "}}\n",
              "\n",
              "// Listen for the clearing of the current output cell\n",
              "var outputEl = gd.closest('.output');\n",
              "if (outputEl) {{\n",
              "    x.observe(outputEl, {childList: true});\n",
              "}}\n",
              "\n",
              "                        })\n",
              "                };\n",
              "                \n",
              "            </script>\n",
              "        </div>\n",
              "</body>\n",
              "</html>"
            ]
          },
          "metadata": {}
        }
      ]
    },
    {
      "cell_type": "markdown",
      "metadata": {
        "id": "GPOg1RIBKdNF"
      },
      "source": [
        "Please, follow the link to see an image of the scatter plot:  https://drive.google.com/open?id=16iFvNiCuv7ahZ97Vr6UCOnzAyU10qDms"
      ]
    },
    {
      "cell_type": "markdown",
      "metadata": {
        "id": "64IvI4NvQPTw"
      },
      "source": [
        "Inferential stats. Grade of the loan"
      ]
    },
    {
      "cell_type": "markdown",
      "metadata": {
        "id": "QFF2uXHayAso"
      },
      "source": [
        "### 3.3. Model Construction and 3.4 Model Evaluation 3.6 Model Testing"
      ]
    },
    {
      "cell_type": "markdown",
      "metadata": {
        "id": "7cIUAkCwyKza"
      },
      "source": [
        "Inferential Statistics and Hypothesis Testing"
      ]
    },
    {
      "cell_type": "markdown",
      "metadata": {
        "id": "BipZTU_azBxB"
      },
      "source": [
        "#### Testing the grade \n",
        "As we have stated in the Introduction section, in this hypothesis test we want to see whether grade which is a kind of a credit score assigned by the Lending Club is a really good representation of the borrower’s risk profile. \n",
        "In this case, our Null hypothesis is that the grade is not a good representation of the borrower’s probability to default. Our alternative hypothesis is that a grade is a good risk profile representation and that the number of defaulted users is significantly different among different grades. The dependent variable is the Loan status, which is either Fully Paid or Charged Off (default). The independent variable is the grade, which is one of the following: A, B, C, D, E, F, G. "
      ]
    },
    {
      "cell_type": "code",
      "metadata": {
        "id": "E05fL-nZVbEF",
        "outputId": "3ba73175-6a9a-4602-cba3-7344cb60302a",
        "colab": {
          "base_uri": "https://localhost:8080/",
          "height": 300
        }
      },
      "source": [
        "# Inferential statistics describing the grade and a loan status\n",
        "def describe_data(data, IV, DV):\n",
        "    return data.groupby(IV).agg([\"count\", \"mean\", \"std\", \"sem\"])[DV]\n",
        "\n",
        "descriptives = describe_data(df_Lending_Club, \"grade\", \"target\")\n",
        "descriptives"
      ],
      "execution_count": 14,
      "outputs": [
        {
          "output_type": "execute_result",
          "data": {
            "text/html": [
              "\n",
              "  <div id=\"df-6bab6f32-6b73-46dc-878b-de5bb1c76d44\">\n",
              "    <div class=\"colab-df-container\">\n",
              "      <div>\n",
              "<style scoped>\n",
              "    .dataframe tbody tr th:only-of-type {\n",
              "        vertical-align: middle;\n",
              "    }\n",
              "\n",
              "    .dataframe tbody tr th {\n",
              "        vertical-align: top;\n",
              "    }\n",
              "\n",
              "    .dataframe thead th {\n",
              "        text-align: right;\n",
              "    }\n",
              "</style>\n",
              "<table border=\"1\" class=\"dataframe\">\n",
              "  <thead>\n",
              "    <tr style=\"text-align: right;\">\n",
              "      <th></th>\n",
              "      <th>count</th>\n",
              "      <th>mean</th>\n",
              "      <th>std</th>\n",
              "      <th>sem</th>\n",
              "    </tr>\n",
              "    <tr>\n",
              "      <th>grade</th>\n",
              "      <th></th>\n",
              "      <th></th>\n",
              "      <th></th>\n",
              "      <th></th>\n",
              "    </tr>\n",
              "  </thead>\n",
              "  <tbody>\n",
              "    <tr>\n",
              "      <th>A</th>\n",
              "      <td>956</td>\n",
              "      <td>0.933054</td>\n",
              "      <td>0.250059</td>\n",
              "      <td>0.008087</td>\n",
              "    </tr>\n",
              "    <tr>\n",
              "      <th>B</th>\n",
              "      <td>1423</td>\n",
              "      <td>0.860857</td>\n",
              "      <td>0.346217</td>\n",
              "      <td>0.009178</td>\n",
              "    </tr>\n",
              "    <tr>\n",
              "      <th>C</th>\n",
              "      <td>1422</td>\n",
              "      <td>0.777778</td>\n",
              "      <td>0.415886</td>\n",
              "      <td>0.011029</td>\n",
              "    </tr>\n",
              "    <tr>\n",
              "      <th>D</th>\n",
              "      <td>712</td>\n",
              "      <td>0.667135</td>\n",
              "      <td>0.471570</td>\n",
              "      <td>0.017673</td>\n",
              "    </tr>\n",
              "    <tr>\n",
              "      <th>E</th>\n",
              "      <td>343</td>\n",
              "      <td>0.580175</td>\n",
              "      <td>0.494251</td>\n",
              "      <td>0.026687</td>\n",
              "    </tr>\n",
              "    <tr>\n",
              "      <th>F</th>\n",
              "      <td>110</td>\n",
              "      <td>0.572727</td>\n",
              "      <td>0.496946</td>\n",
              "      <td>0.047382</td>\n",
              "    </tr>\n",
              "    <tr>\n",
              "      <th>G</th>\n",
              "      <td>34</td>\n",
              "      <td>0.352941</td>\n",
              "      <td>0.485071</td>\n",
              "      <td>0.083189</td>\n",
              "    </tr>\n",
              "  </tbody>\n",
              "</table>\n",
              "</div>\n",
              "      <button class=\"colab-df-convert\" onclick=\"convertToInteractive('df-6bab6f32-6b73-46dc-878b-de5bb1c76d44')\"\n",
              "              title=\"Convert this dataframe to an interactive table.\"\n",
              "              style=\"display:none;\">\n",
              "        \n",
              "  <svg xmlns=\"http://www.w3.org/2000/svg\" height=\"24px\"viewBox=\"0 0 24 24\"\n",
              "       width=\"24px\">\n",
              "    <path d=\"M0 0h24v24H0V0z\" fill=\"none\"/>\n",
              "    <path d=\"M18.56 5.44l.94 2.06.94-2.06 2.06-.94-2.06-.94-.94-2.06-.94 2.06-2.06.94zm-11 1L8.5 8.5l.94-2.06 2.06-.94-2.06-.94L8.5 2.5l-.94 2.06-2.06.94zm10 10l.94 2.06.94-2.06 2.06-.94-2.06-.94-.94-2.06-.94 2.06-2.06.94z\"/><path d=\"M17.41 7.96l-1.37-1.37c-.4-.4-.92-.59-1.43-.59-.52 0-1.04.2-1.43.59L10.3 9.45l-7.72 7.72c-.78.78-.78 2.05 0 2.83L4 21.41c.39.39.9.59 1.41.59.51 0 1.02-.2 1.41-.59l7.78-7.78 2.81-2.81c.8-.78.8-2.07 0-2.86zM5.41 20L4 18.59l7.72-7.72 1.47 1.35L5.41 20z\"/>\n",
              "  </svg>\n",
              "      </button>\n",
              "      \n",
              "  <style>\n",
              "    .colab-df-container {\n",
              "      display:flex;\n",
              "      flex-wrap:wrap;\n",
              "      gap: 12px;\n",
              "    }\n",
              "\n",
              "    .colab-df-convert {\n",
              "      background-color: #E8F0FE;\n",
              "      border: none;\n",
              "      border-radius: 50%;\n",
              "      cursor: pointer;\n",
              "      display: none;\n",
              "      fill: #1967D2;\n",
              "      height: 32px;\n",
              "      padding: 0 0 0 0;\n",
              "      width: 32px;\n",
              "    }\n",
              "\n",
              "    .colab-df-convert:hover {\n",
              "      background-color: #E2EBFA;\n",
              "      box-shadow: 0px 1px 2px rgba(60, 64, 67, 0.3), 0px 1px 3px 1px rgba(60, 64, 67, 0.15);\n",
              "      fill: #174EA6;\n",
              "    }\n",
              "\n",
              "    [theme=dark] .colab-df-convert {\n",
              "      background-color: #3B4455;\n",
              "      fill: #D2E3FC;\n",
              "    }\n",
              "\n",
              "    [theme=dark] .colab-df-convert:hover {\n",
              "      background-color: #434B5C;\n",
              "      box-shadow: 0px 1px 3px 1px rgba(0, 0, 0, 0.15);\n",
              "      filter: drop-shadow(0px 1px 2px rgba(0, 0, 0, 0.3));\n",
              "      fill: #FFFFFF;\n",
              "    }\n",
              "  </style>\n",
              "\n",
              "      <script>\n",
              "        const buttonEl =\n",
              "          document.querySelector('#df-6bab6f32-6b73-46dc-878b-de5bb1c76d44 button.colab-df-convert');\n",
              "        buttonEl.style.display =\n",
              "          google.colab.kernel.accessAllowed ? 'block' : 'none';\n",
              "\n",
              "        async function convertToInteractive(key) {\n",
              "          const element = document.querySelector('#df-6bab6f32-6b73-46dc-878b-de5bb1c76d44');\n",
              "          const dataTable =\n",
              "            await google.colab.kernel.invokeFunction('convertToInteractive',\n",
              "                                                     [key], {});\n",
              "          if (!dataTable) return;\n",
              "\n",
              "          const docLinkHtml = 'Like what you see? Visit the ' +\n",
              "            '<a target=\"_blank\" href=https://colab.research.google.com/notebooks/data_table.ipynb>data table notebook</a>'\n",
              "            + ' to learn more about interactive tables.';\n",
              "          element.innerHTML = '';\n",
              "          dataTable['output_type'] = 'display_data';\n",
              "          await google.colab.output.renderOutput(dataTable, element);\n",
              "          const docLink = document.createElement('div');\n",
              "          docLink.innerHTML = docLinkHtml;\n",
              "          element.appendChild(docLink);\n",
              "        }\n",
              "      </script>\n",
              "    </div>\n",
              "  </div>\n",
              "  "
            ],
            "text/plain": [
              "       count      mean       std       sem\n",
              "grade                                     \n",
              "A        956  0.933054  0.250059  0.008087\n",
              "B       1423  0.860857  0.346217  0.009178\n",
              "C       1422  0.777778  0.415886  0.011029\n",
              "D        712  0.667135  0.471570  0.017673\n",
              "E        343  0.580175  0.494251  0.026687\n",
              "F        110  0.572727  0.496946  0.047382\n",
              "G         34  0.352941  0.485071  0.083189"
            ]
          },
          "metadata": {},
          "execution_count": 14
        }
      ]
    },
    {
      "cell_type": "code",
      "metadata": {
        "id": "YKUAwUvpwyzv"
      },
      "source": [
        "df_Lending_Club_grade_pivot = df_Lending_Club_bar2.pivot(index='target', columns='grade', values='Count')"
      ],
      "execution_count": 15,
      "outputs": []
    },
    {
      "cell_type": "code",
      "metadata": {
        "id": "nCYJ3w5YOSvo",
        "outputId": "69bca9a4-b69a-42a1-f9d7-68b811754ec6",
        "colab": {
          "base_uri": "https://localhost:8080/",
          "height": 143
        }
      },
      "source": [
        "# To show the pivot table of Grades and a Loan Status\n",
        "df_Lending_Club_grade_pivot"
      ],
      "execution_count": 16,
      "outputs": [
        {
          "output_type": "execute_result",
          "data": {
            "text/html": [
              "\n",
              "  <div id=\"df-f1778f33-6006-437f-969a-cc3d7c13f470\">\n",
              "    <div class=\"colab-df-container\">\n",
              "      <div>\n",
              "<style scoped>\n",
              "    .dataframe tbody tr th:only-of-type {\n",
              "        vertical-align: middle;\n",
              "    }\n",
              "\n",
              "    .dataframe tbody tr th {\n",
              "        vertical-align: top;\n",
              "    }\n",
              "\n",
              "    .dataframe thead th {\n",
              "        text-align: right;\n",
              "    }\n",
              "</style>\n",
              "<table border=\"1\" class=\"dataframe\">\n",
              "  <thead>\n",
              "    <tr style=\"text-align: right;\">\n",
              "      <th>grade</th>\n",
              "      <th>A</th>\n",
              "      <th>B</th>\n",
              "      <th>C</th>\n",
              "      <th>D</th>\n",
              "      <th>E</th>\n",
              "      <th>F</th>\n",
              "      <th>G</th>\n",
              "    </tr>\n",
              "    <tr>\n",
              "      <th>target</th>\n",
              "      <th></th>\n",
              "      <th></th>\n",
              "      <th></th>\n",
              "      <th></th>\n",
              "      <th></th>\n",
              "      <th></th>\n",
              "      <th></th>\n",
              "    </tr>\n",
              "  </thead>\n",
              "  <tbody>\n",
              "    <tr>\n",
              "      <th>0.0</th>\n",
              "      <td>64</td>\n",
              "      <td>198</td>\n",
              "      <td>316</td>\n",
              "      <td>237</td>\n",
              "      <td>144</td>\n",
              "      <td>47</td>\n",
              "      <td>22</td>\n",
              "    </tr>\n",
              "    <tr>\n",
              "      <th>1.0</th>\n",
              "      <td>892</td>\n",
              "      <td>1225</td>\n",
              "      <td>1106</td>\n",
              "      <td>475</td>\n",
              "      <td>199</td>\n",
              "      <td>63</td>\n",
              "      <td>12</td>\n",
              "    </tr>\n",
              "  </tbody>\n",
              "</table>\n",
              "</div>\n",
              "      <button class=\"colab-df-convert\" onclick=\"convertToInteractive('df-f1778f33-6006-437f-969a-cc3d7c13f470')\"\n",
              "              title=\"Convert this dataframe to an interactive table.\"\n",
              "              style=\"display:none;\">\n",
              "        \n",
              "  <svg xmlns=\"http://www.w3.org/2000/svg\" height=\"24px\"viewBox=\"0 0 24 24\"\n",
              "       width=\"24px\">\n",
              "    <path d=\"M0 0h24v24H0V0z\" fill=\"none\"/>\n",
              "    <path d=\"M18.56 5.44l.94 2.06.94-2.06 2.06-.94-2.06-.94-.94-2.06-.94 2.06-2.06.94zm-11 1L8.5 8.5l.94-2.06 2.06-.94-2.06-.94L8.5 2.5l-.94 2.06-2.06.94zm10 10l.94 2.06.94-2.06 2.06-.94-2.06-.94-.94-2.06-.94 2.06-2.06.94z\"/><path d=\"M17.41 7.96l-1.37-1.37c-.4-.4-.92-.59-1.43-.59-.52 0-1.04.2-1.43.59L10.3 9.45l-7.72 7.72c-.78.78-.78 2.05 0 2.83L4 21.41c.39.39.9.59 1.41.59.51 0 1.02-.2 1.41-.59l7.78-7.78 2.81-2.81c.8-.78.8-2.07 0-2.86zM5.41 20L4 18.59l7.72-7.72 1.47 1.35L5.41 20z\"/>\n",
              "  </svg>\n",
              "      </button>\n",
              "      \n",
              "  <style>\n",
              "    .colab-df-container {\n",
              "      display:flex;\n",
              "      flex-wrap:wrap;\n",
              "      gap: 12px;\n",
              "    }\n",
              "\n",
              "    .colab-df-convert {\n",
              "      background-color: #E8F0FE;\n",
              "      border: none;\n",
              "      border-radius: 50%;\n",
              "      cursor: pointer;\n",
              "      display: none;\n",
              "      fill: #1967D2;\n",
              "      height: 32px;\n",
              "      padding: 0 0 0 0;\n",
              "      width: 32px;\n",
              "    }\n",
              "\n",
              "    .colab-df-convert:hover {\n",
              "      background-color: #E2EBFA;\n",
              "      box-shadow: 0px 1px 2px rgba(60, 64, 67, 0.3), 0px 1px 3px 1px rgba(60, 64, 67, 0.15);\n",
              "      fill: #174EA6;\n",
              "    }\n",
              "\n",
              "    [theme=dark] .colab-df-convert {\n",
              "      background-color: #3B4455;\n",
              "      fill: #D2E3FC;\n",
              "    }\n",
              "\n",
              "    [theme=dark] .colab-df-convert:hover {\n",
              "      background-color: #434B5C;\n",
              "      box-shadow: 0px 1px 3px 1px rgba(0, 0, 0, 0.15);\n",
              "      filter: drop-shadow(0px 1px 2px rgba(0, 0, 0, 0.3));\n",
              "      fill: #FFFFFF;\n",
              "    }\n",
              "  </style>\n",
              "\n",
              "      <script>\n",
              "        const buttonEl =\n",
              "          document.querySelector('#df-f1778f33-6006-437f-969a-cc3d7c13f470 button.colab-df-convert');\n",
              "        buttonEl.style.display =\n",
              "          google.colab.kernel.accessAllowed ? 'block' : 'none';\n",
              "\n",
              "        async function convertToInteractive(key) {\n",
              "          const element = document.querySelector('#df-f1778f33-6006-437f-969a-cc3d7c13f470');\n",
              "          const dataTable =\n",
              "            await google.colab.kernel.invokeFunction('convertToInteractive',\n",
              "                                                     [key], {});\n",
              "          if (!dataTable) return;\n",
              "\n",
              "          const docLinkHtml = 'Like what you see? Visit the ' +\n",
              "            '<a target=\"_blank\" href=https://colab.research.google.com/notebooks/data_table.ipynb>data table notebook</a>'\n",
              "            + ' to learn more about interactive tables.';\n",
              "          element.innerHTML = '';\n",
              "          dataTable['output_type'] = 'display_data';\n",
              "          await google.colab.output.renderOutput(dataTable, element);\n",
              "          const docLink = document.createElement('div');\n",
              "          docLink.innerHTML = docLinkHtml;\n",
              "          element.appendChild(docLink);\n",
              "        }\n",
              "      </script>\n",
              "    </div>\n",
              "  </div>\n",
              "  "
            ],
            "text/plain": [
              "grade     A     B     C    D    E   F   G\n",
              "target                                   \n",
              "0.0      64   198   316  237  144  47  22\n",
              "1.0     892  1225  1106  475  199  63  12"
            ]
          },
          "metadata": {},
          "execution_count": 16
        }
      ]
    },
    {
      "cell_type": "code",
      "metadata": {
        "id": "9SnI_SpfLF-e",
        "outputId": "31ec5ef6-035e-4655-f9bb-5f96c2556b26",
        "colab": {
          "base_uri": "https://localhost:8080/"
        }
      },
      "source": [
        "# running a Chi Square Test (grade and loan status)\n",
        "import scipy.stats as stats\n",
        "chi2_stat_grade, p_val_grade, dof_grade, ex_grade = stats.chi2_contingency(observed=df_Lending_Club_grade_pivot)\n",
        "print(\"===Chi2 Stat===\")\n",
        "print(chi2_stat_grade)\n",
        "print(\"\\n\")\n",
        "print(\"===Degrees of Freedom===\")\n",
        "print(dof_grade)\n",
        "print(\"\\n\")\n",
        "print(\"===P-Value===\")\n",
        "print(p_val_grade)\n",
        "print(\"\\n\")\n",
        "print(\"===Contingency Table===\")\n",
        "print(ex_grade)\n",
        "\n"
      ],
      "execution_count": 17,
      "outputs": [
        {
          "output_type": "stream",
          "name": "stdout",
          "text": [
            "===Chi2 Stat===\n",
            "394.0592093880622\n",
            "\n",
            "\n",
            "===Degrees of Freedom===\n",
            "6\n",
            "\n",
            "\n",
            "===P-Value===\n",
            "5.291407756032353e-82\n",
            "\n",
            "\n",
            "===Contingency Table===\n",
            "[[ 196.5536  292.5688  292.3632  146.3872   70.5208   22.616     6.9904]\n",
            " [ 759.4464 1130.4312 1129.6368  565.6128  272.4792   87.384    27.0096]]\n"
          ]
        }
      ]
    },
    {
      "cell_type": "code",
      "metadata": {
        "id": "fqOO20JHYUtV",
        "outputId": "a97cb2eb-113f-44c2-b37a-5948f3e67751",
        "colab": {
          "base_uri": "https://localhost:8080/"
        }
      },
      "source": [
        "df_Lending_Club_grade_pivot.columns"
      ],
      "execution_count": 18,
      "outputs": [
        {
          "output_type": "execute_result",
          "data": {
            "text/plain": [
              "Index(['A', 'B', 'C', 'D', 'E', 'F', 'G'], dtype='object', name='grade')"
            ]
          },
          "metadata": {},
          "execution_count": 18
        }
      ]
    },
    {
      "cell_type": "markdown",
      "metadata": {
        "id": "okrUxdkIdxNS"
      },
      "source": [
        "#### Testing the purpose\n",
        "The second hypothesis we are testing is whether the purpose of the loan can be a good predictor of the user’s default probability. Our null hypothesis is that there is no significant difference in the number of users defaulted with different loan purposes. Our alternative hypothesis is that there is a significant difference in a number of users defaulted with different loan purposes. Our dependent variable is still the loan status. And our independent variable is the purpose, which is one of the following: debt consolidation, credit card, medical, home improvement, moving, small business, major purchase, car, vacation, house, renewable energy."
      ]
    },
    {
      "cell_type": "code",
      "metadata": {
        "id": "ZILyWI-ERlBd",
        "outputId": "65d7e74c-6f08-4d6f-b1a0-19dd869cab76",
        "colab": {
          "base_uri": "https://localhost:8080/",
          "height": 457
        }
      },
      "source": [
        "# Inferential stats describing purpose and loan status\n",
        "descriptives2 = describe_data(df_Lending_Club, \"purpose\", \"target\")\n",
        "descriptives2"
      ],
      "execution_count": 19,
      "outputs": [
        {
          "output_type": "execute_result",
          "data": {
            "text/html": [
              "\n",
              "  <div id=\"df-e3ef744e-79d5-4848-92b7-70de062c4538\">\n",
              "    <div class=\"colab-df-container\">\n",
              "      <div>\n",
              "<style scoped>\n",
              "    .dataframe tbody tr th:only-of-type {\n",
              "        vertical-align: middle;\n",
              "    }\n",
              "\n",
              "    .dataframe tbody tr th {\n",
              "        vertical-align: top;\n",
              "    }\n",
              "\n",
              "    .dataframe thead th {\n",
              "        text-align: right;\n",
              "    }\n",
              "</style>\n",
              "<table border=\"1\" class=\"dataframe\">\n",
              "  <thead>\n",
              "    <tr style=\"text-align: right;\">\n",
              "      <th></th>\n",
              "      <th>count</th>\n",
              "      <th>mean</th>\n",
              "      <th>std</th>\n",
              "      <th>sem</th>\n",
              "    </tr>\n",
              "    <tr>\n",
              "      <th>purpose</th>\n",
              "      <th></th>\n",
              "      <th></th>\n",
              "      <th></th>\n",
              "      <th></th>\n",
              "    </tr>\n",
              "  </thead>\n",
              "  <tbody>\n",
              "    <tr>\n",
              "      <th>car</th>\n",
              "      <td>46</td>\n",
              "      <td>0.913043</td>\n",
              "      <td>0.284885</td>\n",
              "      <td>0.042004</td>\n",
              "    </tr>\n",
              "    <tr>\n",
              "      <th>credit_card</th>\n",
              "      <td>1118</td>\n",
              "      <td>0.823792</td>\n",
              "      <td>0.381167</td>\n",
              "      <td>0.011400</td>\n",
              "    </tr>\n",
              "    <tr>\n",
              "      <th>debt_consolidation</th>\n",
              "      <td>2913</td>\n",
              "      <td>0.787161</td>\n",
              "      <td>0.409385</td>\n",
              "      <td>0.007585</td>\n",
              "    </tr>\n",
              "    <tr>\n",
              "      <th>home_improvement</th>\n",
              "      <td>360</td>\n",
              "      <td>0.811111</td>\n",
              "      <td>0.391965</td>\n",
              "      <td>0.020658</td>\n",
              "    </tr>\n",
              "    <tr>\n",
              "      <th>house</th>\n",
              "      <td>22</td>\n",
              "      <td>0.590909</td>\n",
              "      <td>0.503236</td>\n",
              "      <td>0.107290</td>\n",
              "    </tr>\n",
              "    <tr>\n",
              "      <th>major_purchase</th>\n",
              "      <td>96</td>\n",
              "      <td>0.833333</td>\n",
              "      <td>0.374634</td>\n",
              "      <td>0.038236</td>\n",
              "    </tr>\n",
              "    <tr>\n",
              "      <th>medical</th>\n",
              "      <td>49</td>\n",
              "      <td>0.755102</td>\n",
              "      <td>0.434483</td>\n",
              "      <td>0.062069</td>\n",
              "    </tr>\n",
              "    <tr>\n",
              "      <th>moving</th>\n",
              "      <td>39</td>\n",
              "      <td>0.717949</td>\n",
              "      <td>0.455881</td>\n",
              "      <td>0.072999</td>\n",
              "    </tr>\n",
              "    <tr>\n",
              "      <th>other</th>\n",
              "      <td>279</td>\n",
              "      <td>0.763441</td>\n",
              "      <td>0.425733</td>\n",
              "      <td>0.025488</td>\n",
              "    </tr>\n",
              "    <tr>\n",
              "      <th>renewable_energy</th>\n",
              "      <td>4</td>\n",
              "      <td>0.750000</td>\n",
              "      <td>0.500000</td>\n",
              "      <td>0.250000</td>\n",
              "    </tr>\n",
              "    <tr>\n",
              "      <th>small_business</th>\n",
              "      <td>46</td>\n",
              "      <td>0.652174</td>\n",
              "      <td>0.481543</td>\n",
              "      <td>0.071000</td>\n",
              "    </tr>\n",
              "    <tr>\n",
              "      <th>vacation</th>\n",
              "      <td>28</td>\n",
              "      <td>0.714286</td>\n",
              "      <td>0.460044</td>\n",
              "      <td>0.086940</td>\n",
              "    </tr>\n",
              "  </tbody>\n",
              "</table>\n",
              "</div>\n",
              "      <button class=\"colab-df-convert\" onclick=\"convertToInteractive('df-e3ef744e-79d5-4848-92b7-70de062c4538')\"\n",
              "              title=\"Convert this dataframe to an interactive table.\"\n",
              "              style=\"display:none;\">\n",
              "        \n",
              "  <svg xmlns=\"http://www.w3.org/2000/svg\" height=\"24px\"viewBox=\"0 0 24 24\"\n",
              "       width=\"24px\">\n",
              "    <path d=\"M0 0h24v24H0V0z\" fill=\"none\"/>\n",
              "    <path d=\"M18.56 5.44l.94 2.06.94-2.06 2.06-.94-2.06-.94-.94-2.06-.94 2.06-2.06.94zm-11 1L8.5 8.5l.94-2.06 2.06-.94-2.06-.94L8.5 2.5l-.94 2.06-2.06.94zm10 10l.94 2.06.94-2.06 2.06-.94-2.06-.94-.94-2.06-.94 2.06-2.06.94z\"/><path d=\"M17.41 7.96l-1.37-1.37c-.4-.4-.92-.59-1.43-.59-.52 0-1.04.2-1.43.59L10.3 9.45l-7.72 7.72c-.78.78-.78 2.05 0 2.83L4 21.41c.39.39.9.59 1.41.59.51 0 1.02-.2 1.41-.59l7.78-7.78 2.81-2.81c.8-.78.8-2.07 0-2.86zM5.41 20L4 18.59l7.72-7.72 1.47 1.35L5.41 20z\"/>\n",
              "  </svg>\n",
              "      </button>\n",
              "      \n",
              "  <style>\n",
              "    .colab-df-container {\n",
              "      display:flex;\n",
              "      flex-wrap:wrap;\n",
              "      gap: 12px;\n",
              "    }\n",
              "\n",
              "    .colab-df-convert {\n",
              "      background-color: #E8F0FE;\n",
              "      border: none;\n",
              "      border-radius: 50%;\n",
              "      cursor: pointer;\n",
              "      display: none;\n",
              "      fill: #1967D2;\n",
              "      height: 32px;\n",
              "      padding: 0 0 0 0;\n",
              "      width: 32px;\n",
              "    }\n",
              "\n",
              "    .colab-df-convert:hover {\n",
              "      background-color: #E2EBFA;\n",
              "      box-shadow: 0px 1px 2px rgba(60, 64, 67, 0.3), 0px 1px 3px 1px rgba(60, 64, 67, 0.15);\n",
              "      fill: #174EA6;\n",
              "    }\n",
              "\n",
              "    [theme=dark] .colab-df-convert {\n",
              "      background-color: #3B4455;\n",
              "      fill: #D2E3FC;\n",
              "    }\n",
              "\n",
              "    [theme=dark] .colab-df-convert:hover {\n",
              "      background-color: #434B5C;\n",
              "      box-shadow: 0px 1px 3px 1px rgba(0, 0, 0, 0.15);\n",
              "      filter: drop-shadow(0px 1px 2px rgba(0, 0, 0, 0.3));\n",
              "      fill: #FFFFFF;\n",
              "    }\n",
              "  </style>\n",
              "\n",
              "      <script>\n",
              "        const buttonEl =\n",
              "          document.querySelector('#df-e3ef744e-79d5-4848-92b7-70de062c4538 button.colab-df-convert');\n",
              "        buttonEl.style.display =\n",
              "          google.colab.kernel.accessAllowed ? 'block' : 'none';\n",
              "\n",
              "        async function convertToInteractive(key) {\n",
              "          const element = document.querySelector('#df-e3ef744e-79d5-4848-92b7-70de062c4538');\n",
              "          const dataTable =\n",
              "            await google.colab.kernel.invokeFunction('convertToInteractive',\n",
              "                                                     [key], {});\n",
              "          if (!dataTable) return;\n",
              "\n",
              "          const docLinkHtml = 'Like what you see? Visit the ' +\n",
              "            '<a target=\"_blank\" href=https://colab.research.google.com/notebooks/data_table.ipynb>data table notebook</a>'\n",
              "            + ' to learn more about interactive tables.';\n",
              "          element.innerHTML = '';\n",
              "          dataTable['output_type'] = 'display_data';\n",
              "          await google.colab.output.renderOutput(dataTable, element);\n",
              "          const docLink = document.createElement('div');\n",
              "          docLink.innerHTML = docLinkHtml;\n",
              "          element.appendChild(docLink);\n",
              "        }\n",
              "      </script>\n",
              "    </div>\n",
              "  </div>\n",
              "  "
            ],
            "text/plain": [
              "                    count      mean       std       sem\n",
              "purpose                                                \n",
              "car                    46  0.913043  0.284885  0.042004\n",
              "credit_card          1118  0.823792  0.381167  0.011400\n",
              "debt_consolidation   2913  0.787161  0.409385  0.007585\n",
              "home_improvement      360  0.811111  0.391965  0.020658\n",
              "house                  22  0.590909  0.503236  0.107290\n",
              "major_purchase         96  0.833333  0.374634  0.038236\n",
              "medical                49  0.755102  0.434483  0.062069\n",
              "moving                 39  0.717949  0.455881  0.072999\n",
              "other                 279  0.763441  0.425733  0.025488\n",
              "renewable_energy        4  0.750000  0.500000  0.250000\n",
              "small_business         46  0.652174  0.481543  0.071000\n",
              "vacation               28  0.714286  0.460044  0.086940"
            ]
          },
          "metadata": {},
          "execution_count": 19
        }
      ]
    },
    {
      "cell_type": "code",
      "metadata": {
        "id": "JEmTwCF_RmWS",
        "outputId": "7a7962b5-111d-4b33-fbe1-09c77281df2e",
        "colab": {
          "base_uri": "https://localhost:8080/",
          "height": 207
        }
      },
      "source": [
        "# To show the pivot table of purpose and loan status\n",
        "df_Lending_Club_purpose = df_Lending_Club.groupby([\"target\", \"purpose\"]).size().reset_index(name=\"Count\")\n",
        "df_Lending_Club_purpose_pivot = df_Lending_Club_purpose.pivot(index='target', columns='purpose', values='Count')\n",
        "df_Lending_Club_purpose_pivot"
      ],
      "execution_count": 20,
      "outputs": [
        {
          "output_type": "execute_result",
          "data": {
            "text/html": [
              "\n",
              "  <div id=\"df-9ca3c93b-450b-449d-845d-17c55db5fe9a\">\n",
              "    <div class=\"colab-df-container\">\n",
              "      <div>\n",
              "<style scoped>\n",
              "    .dataframe tbody tr th:only-of-type {\n",
              "        vertical-align: middle;\n",
              "    }\n",
              "\n",
              "    .dataframe tbody tr th {\n",
              "        vertical-align: top;\n",
              "    }\n",
              "\n",
              "    .dataframe thead th {\n",
              "        text-align: right;\n",
              "    }\n",
              "</style>\n",
              "<table border=\"1\" class=\"dataframe\">\n",
              "  <thead>\n",
              "    <tr style=\"text-align: right;\">\n",
              "      <th>purpose</th>\n",
              "      <th>car</th>\n",
              "      <th>credit_card</th>\n",
              "      <th>debt_consolidation</th>\n",
              "      <th>home_improvement</th>\n",
              "      <th>house</th>\n",
              "      <th>major_purchase</th>\n",
              "      <th>medical</th>\n",
              "      <th>moving</th>\n",
              "      <th>other</th>\n",
              "      <th>renewable_energy</th>\n",
              "      <th>small_business</th>\n",
              "      <th>vacation</th>\n",
              "    </tr>\n",
              "    <tr>\n",
              "      <th>target</th>\n",
              "      <th></th>\n",
              "      <th></th>\n",
              "      <th></th>\n",
              "      <th></th>\n",
              "      <th></th>\n",
              "      <th></th>\n",
              "      <th></th>\n",
              "      <th></th>\n",
              "      <th></th>\n",
              "      <th></th>\n",
              "      <th></th>\n",
              "      <th></th>\n",
              "    </tr>\n",
              "  </thead>\n",
              "  <tbody>\n",
              "    <tr>\n",
              "      <th>0.0</th>\n",
              "      <td>4</td>\n",
              "      <td>197</td>\n",
              "      <td>620</td>\n",
              "      <td>68</td>\n",
              "      <td>9</td>\n",
              "      <td>16</td>\n",
              "      <td>12</td>\n",
              "      <td>11</td>\n",
              "      <td>66</td>\n",
              "      <td>1</td>\n",
              "      <td>16</td>\n",
              "      <td>8</td>\n",
              "    </tr>\n",
              "    <tr>\n",
              "      <th>1.0</th>\n",
              "      <td>42</td>\n",
              "      <td>921</td>\n",
              "      <td>2293</td>\n",
              "      <td>292</td>\n",
              "      <td>13</td>\n",
              "      <td>80</td>\n",
              "      <td>37</td>\n",
              "      <td>28</td>\n",
              "      <td>213</td>\n",
              "      <td>3</td>\n",
              "      <td>30</td>\n",
              "      <td>20</td>\n",
              "    </tr>\n",
              "  </tbody>\n",
              "</table>\n",
              "</div>\n",
              "      <button class=\"colab-df-convert\" onclick=\"convertToInteractive('df-9ca3c93b-450b-449d-845d-17c55db5fe9a')\"\n",
              "              title=\"Convert this dataframe to an interactive table.\"\n",
              "              style=\"display:none;\">\n",
              "        \n",
              "  <svg xmlns=\"http://www.w3.org/2000/svg\" height=\"24px\"viewBox=\"0 0 24 24\"\n",
              "       width=\"24px\">\n",
              "    <path d=\"M0 0h24v24H0V0z\" fill=\"none\"/>\n",
              "    <path d=\"M18.56 5.44l.94 2.06.94-2.06 2.06-.94-2.06-.94-.94-2.06-.94 2.06-2.06.94zm-11 1L8.5 8.5l.94-2.06 2.06-.94-2.06-.94L8.5 2.5l-.94 2.06-2.06.94zm10 10l.94 2.06.94-2.06 2.06-.94-2.06-.94-.94-2.06-.94 2.06-2.06.94z\"/><path d=\"M17.41 7.96l-1.37-1.37c-.4-.4-.92-.59-1.43-.59-.52 0-1.04.2-1.43.59L10.3 9.45l-7.72 7.72c-.78.78-.78 2.05 0 2.83L4 21.41c.39.39.9.59 1.41.59.51 0 1.02-.2 1.41-.59l7.78-7.78 2.81-2.81c.8-.78.8-2.07 0-2.86zM5.41 20L4 18.59l7.72-7.72 1.47 1.35L5.41 20z\"/>\n",
              "  </svg>\n",
              "      </button>\n",
              "      \n",
              "  <style>\n",
              "    .colab-df-container {\n",
              "      display:flex;\n",
              "      flex-wrap:wrap;\n",
              "      gap: 12px;\n",
              "    }\n",
              "\n",
              "    .colab-df-convert {\n",
              "      background-color: #E8F0FE;\n",
              "      border: none;\n",
              "      border-radius: 50%;\n",
              "      cursor: pointer;\n",
              "      display: none;\n",
              "      fill: #1967D2;\n",
              "      height: 32px;\n",
              "      padding: 0 0 0 0;\n",
              "      width: 32px;\n",
              "    }\n",
              "\n",
              "    .colab-df-convert:hover {\n",
              "      background-color: #E2EBFA;\n",
              "      box-shadow: 0px 1px 2px rgba(60, 64, 67, 0.3), 0px 1px 3px 1px rgba(60, 64, 67, 0.15);\n",
              "      fill: #174EA6;\n",
              "    }\n",
              "\n",
              "    [theme=dark] .colab-df-convert {\n",
              "      background-color: #3B4455;\n",
              "      fill: #D2E3FC;\n",
              "    }\n",
              "\n",
              "    [theme=dark] .colab-df-convert:hover {\n",
              "      background-color: #434B5C;\n",
              "      box-shadow: 0px 1px 3px 1px rgba(0, 0, 0, 0.15);\n",
              "      filter: drop-shadow(0px 1px 2px rgba(0, 0, 0, 0.3));\n",
              "      fill: #FFFFFF;\n",
              "    }\n",
              "  </style>\n",
              "\n",
              "      <script>\n",
              "        const buttonEl =\n",
              "          document.querySelector('#df-9ca3c93b-450b-449d-845d-17c55db5fe9a button.colab-df-convert');\n",
              "        buttonEl.style.display =\n",
              "          google.colab.kernel.accessAllowed ? 'block' : 'none';\n",
              "\n",
              "        async function convertToInteractive(key) {\n",
              "          const element = document.querySelector('#df-9ca3c93b-450b-449d-845d-17c55db5fe9a');\n",
              "          const dataTable =\n",
              "            await google.colab.kernel.invokeFunction('convertToInteractive',\n",
              "                                                     [key], {});\n",
              "          if (!dataTable) return;\n",
              "\n",
              "          const docLinkHtml = 'Like what you see? Visit the ' +\n",
              "            '<a target=\"_blank\" href=https://colab.research.google.com/notebooks/data_table.ipynb>data table notebook</a>'\n",
              "            + ' to learn more about interactive tables.';\n",
              "          element.innerHTML = '';\n",
              "          dataTable['output_type'] = 'display_data';\n",
              "          await google.colab.output.renderOutput(dataTable, element);\n",
              "          const docLink = document.createElement('div');\n",
              "          docLink.innerHTML = docLinkHtml;\n",
              "          element.appendChild(docLink);\n",
              "        }\n",
              "      </script>\n",
              "    </div>\n",
              "  </div>\n",
              "  "
            ],
            "text/plain": [
              "purpose  car  credit_card  ...  small_business  vacation\n",
              "target                     ...                          \n",
              "0.0        4          197  ...              16         8\n",
              "1.0       42          921  ...              30        20\n",
              "\n",
              "[2 rows x 12 columns]"
            ]
          },
          "metadata": {},
          "execution_count": 20
        }
      ]
    },
    {
      "cell_type": "code",
      "metadata": {
        "id": "6N-DkmlBRmns",
        "outputId": "986381fd-0b50-4ca1-8947-de3b01467a93",
        "colab": {
          "base_uri": "https://localhost:8080/"
        }
      },
      "source": [
        "# Running the Chi Square test (purpose and loan status)\n",
        "chi2_stat_purpose, p_val_purpose, dof_purpose, ex_purpose = stats.chi2_contingency(observed=df_Lending_Club_purpose_pivot)\n",
        "print(\"===Chi2 Stat===\")\n",
        "print(chi2_stat_purpose)\n",
        "print(\"\\n\")\n",
        "print(\"===Degrees of Freedom===\")\n",
        "print(dof_purpose)\n",
        "print(\"\\n\")\n",
        "print(\"===P-Value===\")\n",
        "print(p_val_purpose)\n",
        "print(\"\\n\")\n",
        "print(\"===Contingency Table===\")\n",
        "print(ex_purpose)"
      ],
      "execution_count": 21,
      "outputs": [
        {
          "output_type": "stream",
          "name": "stdout",
          "text": [
            "===Chi2 Stat===\n",
            "28.23870050420308\n",
            "\n",
            "\n",
            "===Degrees of Freedom===\n",
            "11\n",
            "\n",
            "\n",
            "===P-Value===\n",
            "0.0029755685493060837\n",
            "\n",
            "\n",
            "===Contingency Table===\n",
            "[[9.4576000e+00 2.2986080e+02 5.9891280e+02 7.4016000e+01 4.5232000e+00\n",
            "  1.9737600e+01 1.0074400e+01 8.0184000e+00 5.7362400e+01 8.2240000e-01\n",
            "  9.4576000e+00 5.7568000e+00]\n",
            " [3.6542400e+01 8.8813920e+02 2.3140872e+03 2.8598400e+02 1.7476800e+01\n",
            "  7.6262400e+01 3.8925600e+01 3.0981600e+01 2.2163760e+02 3.1776000e+00\n",
            "  3.6542400e+01 2.2243200e+01]]\n"
          ]
        }
      ]
    },
    {
      "cell_type": "code",
      "metadata": {
        "id": "DFWRTQoqsEbO"
      },
      "source": [
        "# remove non numeric features\n",
        "for i in df_Lending_Club.index:\n",
        "    if (df_Lending_Club.at[i, 'grade'] == \"A\"):\n",
        "        df_Lending_Club.at[i, 'grade'] = 7\n",
        "    elif (df_Lending_Club.at[i, 'grade'] == \"B\"):\n",
        "        df_Lending_Club.at[i, 'grade'] = 6\n",
        "    elif (df_Lending_Club.at[i, 'grade'] == \"C\"):\n",
        "        df_Lending_Club.at[i, 'grade'] = 5\n",
        "    elif (df_Lending_Club.at[i, 'grade'] == \"D\"):\n",
        "        df_Lending_Club.at[i, 'grade'] = 4\n",
        "    elif (df_Lending_Club.at[i, 'grade'] == \"E\"):\n",
        "        df_Lending_Club.at[i, 'grade'] = 3\n",
        "    elif (df_Lending_Club.at[i, 'grade'] == \"F\"):\n",
        "        df_Lending_Club.at[i, 'grade'] = 2\n",
        "    elif (df_Lending_Club.at[i, 'grade'] == \"G\"):\n",
        "        df_Lending_Club.at[i, 'grade'] = 1\n",
        "\n",
        "for i in df_Lending_Club.index:\n",
        "    if (df_Lending_Club.at[i, 'home_ownership'] == \"OWN\"):\n",
        "        df_Lending_Club.at[i, 'home_ownership'] = 3\n",
        "    elif (df_Lending_Club.at[i, 'home_ownership'] == \"RENT\"):\n",
        "        df_Lending_Club.at[i, 'home_ownership'] = 2\n",
        "    elif (df_Lending_Club.at[i, 'home_ownership'] == \"MORTGAGE\"):\n",
        "        df_Lending_Club.at[i, 'home_ownership'] = 1\n",
        "df_Lending_Club = df_Lending_Club.dropna(how=\"any\")\n",
        "df_Lending_Club = df_Lending_Club.drop(['purpose', 'loan_status','issue_d'], axis=1)\n",
        "df_Lending_Club.sort_index()\n",
        "df_Lending_Club = df_Lending_Club.astype('float64')"
      ],
      "execution_count": 22,
      "outputs": []
    },
    {
      "cell_type": "code",
      "metadata": {
        "id": "eC7d_VWIXSRg"
      },
      "source": [
        "#seperate into features and target\n",
        "target = df_Lending_Club[\"target\"]\n",
        "features = df_Lending_Club.drop(['target'], axis=1)"
      ],
      "execution_count": 23,
      "outputs": []
    },
    {
      "cell_type": "code",
      "metadata": {
        "id": "syND1h3EKcWU",
        "outputId": "2b4abbbb-72b3-44b0-cfd7-34699296e2c0",
        "colab": {
          "base_uri": "https://localhost:8080/",
          "height": 423
        }
      },
      "source": [
        "features"
      ],
      "execution_count": 24,
      "outputs": [
        {
          "output_type": "execute_result",
          "data": {
            "text/html": [
              "\n",
              "  <div id=\"df-76c8e406-be04-4542-b386-721414173943\">\n",
              "    <div class=\"colab-df-container\">\n",
              "      <div>\n",
              "<style scoped>\n",
              "    .dataframe tbody tr th:only-of-type {\n",
              "        vertical-align: middle;\n",
              "    }\n",
              "\n",
              "    .dataframe tbody tr th {\n",
              "        vertical-align: top;\n",
              "    }\n",
              "\n",
              "    .dataframe thead th {\n",
              "        text-align: right;\n",
              "    }\n",
              "</style>\n",
              "<table border=\"1\" class=\"dataframe\">\n",
              "  <thead>\n",
              "    <tr style=\"text-align: right;\">\n",
              "      <th></th>\n",
              "      <th>id</th>\n",
              "      <th>loan_amnt</th>\n",
              "      <th>int_rate</th>\n",
              "      <th>grade</th>\n",
              "      <th>home_ownership</th>\n",
              "      <th>annual_inc</th>\n",
              "      <th>fico_range_low</th>\n",
              "      <th>season</th>\n",
              "    </tr>\n",
              "  </thead>\n",
              "  <tbody>\n",
              "    <tr>\n",
              "      <th>3893</th>\n",
              "      <td>68475247.0</td>\n",
              "      <td>5000.0</td>\n",
              "      <td>12.88</td>\n",
              "      <td>5.0</td>\n",
              "      <td>2.0</td>\n",
              "      <td>85000.0</td>\n",
              "      <td>700.0</td>\n",
              "      <td>1.0</td>\n",
              "    </tr>\n",
              "    <tr>\n",
              "      <th>4587</th>\n",
              "      <td>112897964.0</td>\n",
              "      <td>3000.0</td>\n",
              "      <td>13.59</td>\n",
              "      <td>5.0</td>\n",
              "      <td>2.0</td>\n",
              "      <td>40000.0</td>\n",
              "      <td>670.0</td>\n",
              "      <td>3.0</td>\n",
              "    </tr>\n",
              "    <tr>\n",
              "      <th>3631</th>\n",
              "      <td>42954627.0</td>\n",
              "      <td>13000.0</td>\n",
              "      <td>13.99</td>\n",
              "      <td>5.0</td>\n",
              "      <td>1.0</td>\n",
              "      <td>130000.0</td>\n",
              "      <td>665.0</td>\n",
              "      <td>2.0</td>\n",
              "    </tr>\n",
              "    <tr>\n",
              "      <th>3844</th>\n",
              "      <td>48564929.0</td>\n",
              "      <td>22000.0</td>\n",
              "      <td>16.99</td>\n",
              "      <td>4.0</td>\n",
              "      <td>1.0</td>\n",
              "      <td>72000.0</td>\n",
              "      <td>675.0</td>\n",
              "      <td>2.0</td>\n",
              "    </tr>\n",
              "    <tr>\n",
              "      <th>3950</th>\n",
              "      <td>70361172.0</td>\n",
              "      <td>15000.0</td>\n",
              "      <td>6.97</td>\n",
              "      <td>7.0</td>\n",
              "      <td>2.0</td>\n",
              "      <td>86000.0</td>\n",
              "      <td>680.0</td>\n",
              "      <td>1.0</td>\n",
              "    </tr>\n",
              "    <tr>\n",
              "      <th>...</th>\n",
              "      <td>...</td>\n",
              "      <td>...</td>\n",
              "      <td>...</td>\n",
              "      <td>...</td>\n",
              "      <td>...</td>\n",
              "      <td>...</td>\n",
              "      <td>...</td>\n",
              "      <td>...</td>\n",
              "    </tr>\n",
              "    <tr>\n",
              "      <th>2222</th>\n",
              "      <td>114619418.0</td>\n",
              "      <td>24000.0</td>\n",
              "      <td>15.05</td>\n",
              "      <td>5.0</td>\n",
              "      <td>1.0</td>\n",
              "      <td>70000.0</td>\n",
              "      <td>660.0</td>\n",
              "      <td>3.0</td>\n",
              "    </tr>\n",
              "    <tr>\n",
              "      <th>382</th>\n",
              "      <td>65635406.0</td>\n",
              "      <td>12000.0</td>\n",
              "      <td>13.67</td>\n",
              "      <td>5.0</td>\n",
              "      <td>1.0</td>\n",
              "      <td>70000.0</td>\n",
              "      <td>675.0</td>\n",
              "      <td>4.0</td>\n",
              "    </tr>\n",
              "    <tr>\n",
              "      <th>1806</th>\n",
              "      <td>73650049.0</td>\n",
              "      <td>29125.0</td>\n",
              "      <td>21.18</td>\n",
              "      <td>3.0</td>\n",
              "      <td>1.0</td>\n",
              "      <td>65000.0</td>\n",
              "      <td>660.0</td>\n",
              "      <td>2.0</td>\n",
              "    </tr>\n",
              "    <tr>\n",
              "      <th>3986</th>\n",
              "      <td>57744746.0</td>\n",
              "      <td>7800.0</td>\n",
              "      <td>9.99</td>\n",
              "      <td>6.0</td>\n",
              "      <td>1.0</td>\n",
              "      <td>62300.0</td>\n",
              "      <td>670.0</td>\n",
              "      <td>3.0</td>\n",
              "    </tr>\n",
              "    <tr>\n",
              "      <th>3748</th>\n",
              "      <td>40198229.0</td>\n",
              "      <td>5300.0</td>\n",
              "      <td>9.49</td>\n",
              "      <td>6.0</td>\n",
              "      <td>1.0</td>\n",
              "      <td>140000.0</td>\n",
              "      <td>745.0</td>\n",
              "      <td>1.0</td>\n",
              "    </tr>\n",
              "  </tbody>\n",
              "</table>\n",
              "<p>4657 rows × 8 columns</p>\n",
              "</div>\n",
              "      <button class=\"colab-df-convert\" onclick=\"convertToInteractive('df-76c8e406-be04-4542-b386-721414173943')\"\n",
              "              title=\"Convert this dataframe to an interactive table.\"\n",
              "              style=\"display:none;\">\n",
              "        \n",
              "  <svg xmlns=\"http://www.w3.org/2000/svg\" height=\"24px\"viewBox=\"0 0 24 24\"\n",
              "       width=\"24px\">\n",
              "    <path d=\"M0 0h24v24H0V0z\" fill=\"none\"/>\n",
              "    <path d=\"M18.56 5.44l.94 2.06.94-2.06 2.06-.94-2.06-.94-.94-2.06-.94 2.06-2.06.94zm-11 1L8.5 8.5l.94-2.06 2.06-.94-2.06-.94L8.5 2.5l-.94 2.06-2.06.94zm10 10l.94 2.06.94-2.06 2.06-.94-2.06-.94-.94-2.06-.94 2.06-2.06.94z\"/><path d=\"M17.41 7.96l-1.37-1.37c-.4-.4-.92-.59-1.43-.59-.52 0-1.04.2-1.43.59L10.3 9.45l-7.72 7.72c-.78.78-.78 2.05 0 2.83L4 21.41c.39.39.9.59 1.41.59.51 0 1.02-.2 1.41-.59l7.78-7.78 2.81-2.81c.8-.78.8-2.07 0-2.86zM5.41 20L4 18.59l7.72-7.72 1.47 1.35L5.41 20z\"/>\n",
              "  </svg>\n",
              "      </button>\n",
              "      \n",
              "  <style>\n",
              "    .colab-df-container {\n",
              "      display:flex;\n",
              "      flex-wrap:wrap;\n",
              "      gap: 12px;\n",
              "    }\n",
              "\n",
              "    .colab-df-convert {\n",
              "      background-color: #E8F0FE;\n",
              "      border: none;\n",
              "      border-radius: 50%;\n",
              "      cursor: pointer;\n",
              "      display: none;\n",
              "      fill: #1967D2;\n",
              "      height: 32px;\n",
              "      padding: 0 0 0 0;\n",
              "      width: 32px;\n",
              "    }\n",
              "\n",
              "    .colab-df-convert:hover {\n",
              "      background-color: #E2EBFA;\n",
              "      box-shadow: 0px 1px 2px rgba(60, 64, 67, 0.3), 0px 1px 3px 1px rgba(60, 64, 67, 0.15);\n",
              "      fill: #174EA6;\n",
              "    }\n",
              "\n",
              "    [theme=dark] .colab-df-convert {\n",
              "      background-color: #3B4455;\n",
              "      fill: #D2E3FC;\n",
              "    }\n",
              "\n",
              "    [theme=dark] .colab-df-convert:hover {\n",
              "      background-color: #434B5C;\n",
              "      box-shadow: 0px 1px 3px 1px rgba(0, 0, 0, 0.15);\n",
              "      filter: drop-shadow(0px 1px 2px rgba(0, 0, 0, 0.3));\n",
              "      fill: #FFFFFF;\n",
              "    }\n",
              "  </style>\n",
              "\n",
              "      <script>\n",
              "        const buttonEl =\n",
              "          document.querySelector('#df-76c8e406-be04-4542-b386-721414173943 button.colab-df-convert');\n",
              "        buttonEl.style.display =\n",
              "          google.colab.kernel.accessAllowed ? 'block' : 'none';\n",
              "\n",
              "        async function convertToInteractive(key) {\n",
              "          const element = document.querySelector('#df-76c8e406-be04-4542-b386-721414173943');\n",
              "          const dataTable =\n",
              "            await google.colab.kernel.invokeFunction('convertToInteractive',\n",
              "                                                     [key], {});\n",
              "          if (!dataTable) return;\n",
              "\n",
              "          const docLinkHtml = 'Like what you see? Visit the ' +\n",
              "            '<a target=\"_blank\" href=https://colab.research.google.com/notebooks/data_table.ipynb>data table notebook</a>'\n",
              "            + ' to learn more about interactive tables.';\n",
              "          element.innerHTML = '';\n",
              "          dataTable['output_type'] = 'display_data';\n",
              "          await google.colab.output.renderOutput(dataTable, element);\n",
              "          const docLink = document.createElement('div');\n",
              "          docLink.innerHTML = docLinkHtml;\n",
              "          element.appendChild(docLink);\n",
              "        }\n",
              "      </script>\n",
              "    </div>\n",
              "  </div>\n",
              "  "
            ],
            "text/plain": [
              "               id  loan_amnt  int_rate  ...  annual_inc  fico_range_low  season\n",
              "3893   68475247.0     5000.0     12.88  ...     85000.0           700.0     1.0\n",
              "4587  112897964.0     3000.0     13.59  ...     40000.0           670.0     3.0\n",
              "3631   42954627.0    13000.0     13.99  ...    130000.0           665.0     2.0\n",
              "3844   48564929.0    22000.0     16.99  ...     72000.0           675.0     2.0\n",
              "3950   70361172.0    15000.0      6.97  ...     86000.0           680.0     1.0\n",
              "...           ...        ...       ...  ...         ...             ...     ...\n",
              "2222  114619418.0    24000.0     15.05  ...     70000.0           660.0     3.0\n",
              "382    65635406.0    12000.0     13.67  ...     70000.0           675.0     4.0\n",
              "1806   73650049.0    29125.0     21.18  ...     65000.0           660.0     2.0\n",
              "3986   57744746.0     7800.0      9.99  ...     62300.0           670.0     3.0\n",
              "3748   40198229.0     5300.0      9.49  ...    140000.0           745.0     1.0\n",
              "\n",
              "[4657 rows x 8 columns]"
            ]
          },
          "metadata": {},
          "execution_count": 24
        }
      ]
    },
    {
      "cell_type": "code",
      "metadata": {
        "id": "crp-BB10WJi2"
      },
      "source": [
        "# basic machine learning classifiers run in bulk\n",
        "from sklearn.svm import SVC\n",
        "from sklearn.naive_bayes import GaussianNB\n",
        "from sklearn.neighbors import KNeighborsClassifier\n",
        "from sklearn.tree import DecisionTreeClassifier\n",
        "classifiers = {\n",
        "    'k-Nearest Neighbor': KNeighborsClassifier(), \n",
        "    'Support Vector Machine': SVC(gamma='scale'),\n",
        "    'Gaussian Naive Bayes': GaussianNB(),\n",
        "    'Decision Tree': DecisionTreeClassifier()}\n",
        "from sklearn.model_selection import train_test_split\n",
        "\n",
        "def classifiers_percentage_split():\n",
        "  #creating testing set\n",
        "  X_train, X_test, y_train, y_test = train_test_split(features, target, random_state=1111)\n",
        "  for classifier_name, classifier_object in classifiers.items():\n",
        "      classifier_object.fit(X=X_train, y=y_train)\n",
        "      predicted = classifier_object.predict(X=X_test)\n",
        "      expected = y_test\n",
        "      accuracy = classifier_object.score(X_test, y_test)\n",
        "      print(classifier_name + \": \\n\\t\" + \"Prediction accuracy on the test data:\", format(accuracy*100, \".2f\") + \"%\\n\")"
      ],
      "execution_count": 25,
      "outputs": []
    },
    {
      "cell_type": "code",
      "metadata": {
        "id": "7z7vNYXRW2_c"
      },
      "source": [
        "#cross validation method\n",
        "from sklearn.model_selection import *\n",
        "def classifiers_cross_validation():\n",
        "     for classifier_name, classifier_object in classifiers.items():\n",
        "      # number of folds and just the randomnumber generator seed\n",
        "      kfold = KFold(n_splits=10, random_state=1111, shuffle=True)\n",
        "      scores = cross_val_score(estimator=classifier_object, X=features, y=target, cv=kfold)\n",
        "      print(classifier_name + \": \\n\\t\" + f'mean accuracy={scores.mean():.2%}, ' + f'standard deviation={scores.std():.2%}' +\"\\n\")"
      ],
      "execution_count": 26,
      "outputs": []
    },
    {
      "cell_type": "code",
      "metadata": {
        "id": "RauJQTR_W5zF",
        "outputId": "63f48271-8853-4ba0-a137-88c48467e9f7",
        "colab": {
          "base_uri": "https://localhost:8080/"
        }
      },
      "source": [
        "classifiers_percentage_split()"
      ],
      "execution_count": 27,
      "outputs": [
        {
          "output_type": "stream",
          "name": "stdout",
          "text": [
            "k-Nearest Neighbor: \n",
            "\tPrediction accuracy on the test data: 74.76%\n",
            "\n",
            "Support Vector Machine: \n",
            "\tPrediction accuracy on the test data: 78.54%\n",
            "\n",
            "Gaussian Naive Bayes: \n",
            "\tPrediction accuracy on the test data: 78.54%\n",
            "\n",
            "Decision Tree: \n",
            "\tPrediction accuracy on the test data: 69.18%\n",
            "\n"
          ]
        }
      ]
    },
    {
      "cell_type": "code",
      "metadata": {
        "id": "v1e-ZK9JXsp5",
        "outputId": "a6e69f9c-89ff-4648-cb57-619b5c88095c",
        "colab": {
          "base_uri": "https://localhost:8080/"
        }
      },
      "source": [
        "classifiers_cross_validation()"
      ],
      "execution_count": 28,
      "outputs": [
        {
          "output_type": "stream",
          "name": "stdout",
          "text": [
            "k-Nearest Neighbor: \n",
            "\tmean accuracy=75.78%, standard deviation=2.62%\n",
            "\n",
            "Support Vector Machine: \n",
            "\tmean accuracy=79.66%, standard deviation=1.94%\n",
            "\n",
            "Gaussian Naive Bayes: \n",
            "\tmean accuracy=79.66%, standard deviation=1.94%\n",
            "\n",
            "Decision Tree: \n",
            "\tmean accuracy=70.26%, standard deviation=1.50%\n",
            "\n"
          ]
        }
      ]
    },
    {
      "cell_type": "code",
      "metadata": {
        "id": "Cy1dKnnbugFS"
      },
      "source": [
        "# machine learning neural nets using tensor flow\n",
        "try:\n",
        "  # %tensorflow_version only exists in Colab.\n",
        "  %tensorflow_version 2.x\n",
        "except Exception:\n",
        "  pass\n",
        "import tensorflow as tf"
      ],
      "execution_count": 29,
      "outputs": []
    },
    {
      "cell_type": "code",
      "metadata": {
        "id": "gcjRt8THZ0IC"
      },
      "source": [
        "#creating testing and training set\n",
        "dataset = tf.data.Dataset.from_tensor_slices((features.values, target.values))\n",
        "train_dataset = dataset.shuffle(len(dataset)).batch(1)"
      ],
      "execution_count": 30,
      "outputs": []
    },
    {
      "cell_type": "code",
      "metadata": {
        "id": "X5nWqxhr4vjJ"
      },
      "source": [
        "def get_compiled_model():\n",
        "  model = tf.keras.Sequential([\n",
        "    tf.keras.layers.Dense(8, activation='relu'),\n",
        "    tf.keras.layers.Dense(16, activation='relu'),\n",
        "    tf.keras.layers.Dense(8, activation='relu'),\n",
        "    tf.keras.layers.Dense(1, activation='sigmoid')])\n",
        "\n",
        "  model.compile(optimizer='adam',\n",
        "                loss='binary_crossentropy',\n",
        "                metrics=['accuracy'])\n",
        "  return model"
      ],
      "execution_count": 31,
      "outputs": []
    },
    {
      "cell_type": "code",
      "metadata": {
        "id": "03BeXQfNajT3",
        "outputId": "a58fee12-22ab-412c-97da-62480cc9f3b0",
        "colab": {
          "base_uri": "https://localhost:8080/"
        }
      },
      "source": [
        "model = get_compiled_model()\n",
        "model.fit(train_dataset, epochs=21)"
      ],
      "execution_count": 32,
      "outputs": [
        {
          "output_type": "stream",
          "name": "stdout",
          "text": [
            "Epoch 1/21\n",
            "4657/4657 [==============================] - 14s 2ms/step - loss: 99456.9844 - accuracy: 0.6650\n",
            "Epoch 2/21\n",
            "4657/4657 [==============================] - 12s 2ms/step - loss: 1697.0194 - accuracy: 0.7123\n",
            "Epoch 3/21\n",
            "4657/4657 [==============================] - 12s 2ms/step - loss: 0.5064 - accuracy: 0.7967\n",
            "Epoch 4/21\n",
            "4657/4657 [==============================] - 12s 2ms/step - loss: 0.5053 - accuracy: 0.7967\n",
            "Epoch 5/21\n",
            "4657/4657 [==============================] - 12s 2ms/step - loss: 0.5055 - accuracy: 0.7967\n",
            "Epoch 6/21\n",
            "4657/4657 [==============================] - 12s 3ms/step - loss: 0.5054 - accuracy: 0.7967\n",
            "Epoch 7/21\n",
            "4657/4657 [==============================] - 12s 2ms/step - loss: 0.5055 - accuracy: 0.7967\n",
            "Epoch 8/21\n",
            "4657/4657 [==============================] - 12s 2ms/step - loss: 0.5056 - accuracy: 0.7967\n",
            "Epoch 9/21\n",
            "4657/4657 [==============================] - 12s 2ms/step - loss: 0.5057 - accuracy: 0.7967\n",
            "Epoch 10/21\n",
            "4657/4657 [==============================] - 12s 2ms/step - loss: 0.5056 - accuracy: 0.7967\n",
            "Epoch 11/21\n",
            "4657/4657 [==============================] - 12s 3ms/step - loss: 0.5055 - accuracy: 0.7967\n",
            "Epoch 12/21\n",
            "4657/4657 [==============================] - 12s 2ms/step - loss: 0.5056 - accuracy: 0.7967\n",
            "Epoch 13/21\n",
            "4657/4657 [==============================] - 11s 2ms/step - loss: 0.5057 - accuracy: 0.7967\n",
            "Epoch 14/21\n",
            "4657/4657 [==============================] - 12s 3ms/step - loss: 0.5056 - accuracy: 0.7967\n",
            "Epoch 15/21\n",
            "4657/4657 [==============================] - 12s 2ms/step - loss: 0.5058 - accuracy: 0.7967\n",
            "Epoch 16/21\n",
            "4657/4657 [==============================] - 12s 2ms/step - loss: 0.5056 - accuracy: 0.7967\n",
            "Epoch 17/21\n",
            "4657/4657 [==============================] - 12s 2ms/step - loss: 0.5057 - accuracy: 0.7967\n",
            "Epoch 18/21\n",
            "4657/4657 [==============================] - 11s 2ms/step - loss: 0.5056 - accuracy: 0.7967\n",
            "Epoch 19/21\n",
            "4657/4657 [==============================] - 12s 2ms/step - loss: 0.5056 - accuracy: 0.7967\n",
            "Epoch 20/21\n",
            "4657/4657 [==============================] - 12s 3ms/step - loss: 0.5052 - accuracy: 0.7967\n",
            "Epoch 21/21\n",
            "4657/4657 [==============================] - 12s 2ms/step - loss: 0.5057 - accuracy: 0.7967\n"
          ]
        },
        {
          "output_type": "execute_result",
          "data": {
            "text/plain": [
              "<keras.callbacks.History at 0x7f659e31f7d0>"
            ]
          },
          "metadata": {},
          "execution_count": 32
        }
      ]
    },
    {
      "cell_type": "markdown",
      "metadata": {
        "id": "GXtigqnM1Bbh"
      },
      "source": [
        "### 3.5. Model Optimization"
      ]
    },
    {
      "cell_type": "code",
      "metadata": {
        "id": "rgA3bo-LNtrr"
      },
      "source": [
        "# Defining a new more complex network architecture to reduce overfitting  \n",
        "def get_compiled_model2():\n",
        "  model = tf.keras.Sequential([\n",
        "    tf.keras.layers.Dense(8, activation='relu'),\n",
        "    tf.keras.layers.Dense(16, activation='relu'),\n",
        "    tf.keras.layers.Dense(16, activation='relu'),\n",
        "    tf.keras.layers.Dense(16, activation='relu'),\n",
        "    tf.keras.layers.Dense(8, activation='relu'),\n",
        "    tf.keras.layers.Dense(1, activation='sigmoid')])\n",
        "\n",
        "  model.compile(optimizer='adam',\n",
        "                loss='binary_crossentropy',\n",
        "                metrics=['accuracy'])\n",
        "  return model"
      ],
      "execution_count": 33,
      "outputs": []
    },
    {
      "cell_type": "code",
      "metadata": {
        "id": "dVAB5jYh5Af5",
        "outputId": "a81a8d80-4f98-4ec7-a797-2b3715656141",
        "colab": {
          "base_uri": "https://localhost:8080/"
        }
      },
      "source": [
        "# Model Training but now with normalization between 0 and 1 for the features, the target is already scaled\n",
        "# we do this to put all features on the same 0 to 1 scale for easy training  \n",
        "from sklearn.preprocessing import MinMaxScaler\n",
        "scaler = MinMaxScaler()\n",
        "scaler.fit(features) \n",
        "features = scaler.transform(features)\n",
        "classifiers_percentage_split()"
      ],
      "execution_count": 34,
      "outputs": [
        {
          "output_type": "stream",
          "name": "stdout",
          "text": [
            "k-Nearest Neighbor: \n",
            "\tPrediction accuracy on the test data: 75.97%\n",
            "\n",
            "Support Vector Machine: \n",
            "\tPrediction accuracy on the test data: 78.63%\n",
            "\n",
            "Gaussian Naive Bayes: \n",
            "\tPrediction accuracy on the test data: 75.11%\n",
            "\n",
            "Decision Tree: \n",
            "\tPrediction accuracy on the test data: 70.13%\n",
            "\n"
          ]
        }
      ]
    },
    {
      "cell_type": "code",
      "metadata": {
        "id": "4lkEwj7Y7JZF",
        "outputId": "96001267-da52-48d3-a43f-89870a53298b",
        "colab": {
          "base_uri": "https://localhost:8080/"
        }
      },
      "source": [
        "classifiers_cross_validation()"
      ],
      "execution_count": 35,
      "outputs": [
        {
          "output_type": "stream",
          "name": "stdout",
          "text": [
            "k-Nearest Neighbor: \n",
            "\tmean accuracy=77.07%, standard deviation=1.26%\n",
            "\n",
            "Support Vector Machine: \n",
            "\tmean accuracy=79.97%, standard deviation=1.91%\n",
            "\n",
            "Gaussian Naive Bayes: \n",
            "\tmean accuracy=75.28%, standard deviation=1.49%\n",
            "\n",
            "Decision Tree: \n",
            "\tmean accuracy=68.99%, standard deviation=1.83%\n",
            "\n"
          ]
        }
      ]
    },
    {
      "cell_type": "code",
      "metadata": {
        "id": "wRQrC1Qh7KUp",
        "outputId": "6c9c6d17-0c56-4c5d-988e-12f5089a957d",
        "colab": {
          "base_uri": "https://localhost:8080/"
        }
      },
      "source": [
        "dataset = tf.data.Dataset.from_tensor_slices((features, target))\n",
        "train_dataset = dataset.shuffle(len(dataset)).batch(1)\n",
        "model = get_compiled_model2()\n",
        "model.fit(train_dataset, epochs=21)"
      ],
      "execution_count": 36,
      "outputs": [
        {
          "output_type": "stream",
          "name": "stdout",
          "text": [
            "Epoch 1/21\n",
            "4657/4657 [==============================] - 12s 3ms/step - loss: 0.4717 - accuracy: 0.7967\n",
            "Epoch 3/21\n",
            "4657/4657 [==============================] - 13s 3ms/step - loss: 0.4700 - accuracy: 0.7967\n",
            "Epoch 4/21\n",
            "4657/4657 [==============================] - 13s 3ms/step - loss: 0.4685 - accuracy: 0.7969\n",
            "Epoch 5/21\n",
            "4657/4657 [==============================] - 13s 3ms/step - loss: 0.4677 - accuracy: 0.7967\n",
            "Epoch 6/21\n",
            "4657/4657 [==============================] - 12s 3ms/step - loss: 0.4679 - accuracy: 0.7967\n",
            "Epoch 7/21\n",
            "4657/4657 [==============================] - 13s 3ms/step - loss: 0.4668 - accuracy: 0.7960\n",
            "Epoch 8/21\n",
            "4657/4657 [==============================] - 13s 3ms/step - loss: 0.4667 - accuracy: 0.7964\n",
            "Epoch 9/21\n",
            "4657/4657 [==============================] - 12s 3ms/step - loss: 0.4665 - accuracy: 0.7962\n",
            "Epoch 10/21\n",
            "4657/4657 [==============================] - 13s 3ms/step - loss: 0.4654 - accuracy: 0.7984\n",
            "Epoch 11/21\n",
            "4657/4657 [==============================] - 13s 3ms/step - loss: 0.4635 - accuracy: 0.7984\n",
            "Epoch 12/21\n",
            "4657/4657 [==============================] - 13s 3ms/step - loss: 0.4657 - accuracy: 0.7962\n",
            "Epoch 13/21\n",
            "4657/4657 [==============================] - 13s 3ms/step - loss: 0.4656 - accuracy: 0.7986\n",
            "Epoch 14/21\n",
            "4657/4657 [==============================] - 13s 3ms/step - loss: 0.4649 - accuracy: 0.7967\n",
            "Epoch 15/21\n",
            "4657/4657 [==============================] - 13s 3ms/step - loss: 0.4643 - accuracy: 0.7997\n",
            "Epoch 16/21\n",
            "4657/4657 [==============================] - 13s 3ms/step - loss: 0.4637 - accuracy: 0.7990\n",
            "Epoch 17/21\n",
            "4657/4657 [==============================] - 12s 3ms/step - loss: 0.4640 - accuracy: 0.7992\n",
            "Epoch 18/21\n",
            "4657/4657 [==============================] - 13s 3ms/step - loss: 0.4633 - accuracy: 0.7992\n",
            "Epoch 19/21\n",
            "4657/4657 [==============================] - 13s 3ms/step - loss: 0.4647 - accuracy: 0.7979\n",
            "Epoch 20/21\n",
            "4657/4657 [==============================] - 13s 3ms/step - loss: 0.4624 - accuracy: 0.8007\n",
            "Epoch 21/21\n",
            "4657/4657 [==============================] - 13s 3ms/step - loss: 0.4633 - accuracy: 0.8005\n"
          ]
        },
        {
          "output_type": "execute_result",
          "data": {
            "text/plain": [
              "<keras.callbacks.History at 0x7f6586fc7510>"
            ]
          },
          "metadata": {},
          "execution_count": 36
        }
      ]
    },
    {
      "cell_type": "code",
      "metadata": {
        "id": "UIrjgvYC8sC8",
        "outputId": "e050d129-2330-416d-b5b5-43b3dddd6b28",
        "colab": {
          "base_uri": "https://localhost:8080/"
        }
      },
      "source": [
        "# Model Training but after dropping the id feature\n",
        "oldfeatures = features\n",
        "features = np.delete(features, 0,  1)\n",
        "classifiers_percentage_split()"
      ],
      "execution_count": 37,
      "outputs": [
        {
          "output_type": "stream",
          "name": "stdout",
          "text": [
            "k-Nearest Neighbor: \n",
            "\tPrediction accuracy on the test data: 75.62%\n",
            "\n",
            "Support Vector Machine: \n",
            "\tPrediction accuracy on the test data: 78.80%\n",
            "\n",
            "Gaussian Naive Bayes: \n",
            "\tPrediction accuracy on the test data: 74.68%\n",
            "\n",
            "Decision Tree: \n",
            "\tPrediction accuracy on the test data: 68.24%\n",
            "\n"
          ]
        }
      ]
    },
    {
      "cell_type": "code",
      "metadata": {
        "id": "ywobCms8JVW-",
        "outputId": "f2ad54fd-da93-462d-d6b1-db17267fd387",
        "colab": {
          "base_uri": "https://localhost:8080/"
        }
      },
      "source": [
        "features"
      ],
      "execution_count": 38,
      "outputs": [
        {
          "output_type": "execute_result",
          "data": {
            "text/plain": [
              "array([[0.1025641 , 0.29478193, 0.66666667, ..., 0.01976744, 0.21621622,\n",
              "        0.        ],\n",
              "       [0.05128205, 0.32242991, 0.66666667, ..., 0.00930233, 0.05405405,\n",
              "        0.66666667],\n",
              "       [0.30769231, 0.33800623, 0.66666667, ..., 0.03023256, 0.02702703,\n",
              "        0.33333333],\n",
              "       ...,\n",
              "       [0.72115385, 0.61799065, 0.33333333, ..., 0.01511628, 0.        ,\n",
              "        0.33333333],\n",
              "       [0.17435897, 0.18224299, 0.83333333, ..., 0.01448837, 0.05405405,\n",
              "        0.66666667],\n",
              "       [0.11025641, 0.16277259, 0.83333333, ..., 0.03255814, 0.45945946,\n",
              "        0.        ]])"
            ]
          },
          "metadata": {},
          "execution_count": 38
        }
      ]
    },
    {
      "cell_type": "code",
      "metadata": {
        "id": "8ulhERlj9FGj",
        "outputId": "bbe4392d-51f1-41b5-9232-f957172c9b37",
        "colab": {
          "base_uri": "https://localhost:8080/"
        }
      },
      "source": [
        "classifiers_cross_validation()"
      ],
      "execution_count": 39,
      "outputs": [
        {
          "output_type": "stream",
          "name": "stdout",
          "text": [
            "k-Nearest Neighbor: \n",
            "\tmean accuracy=76.51%, standard deviation=1.94%\n",
            "\n",
            "Support Vector Machine: \n",
            "\tmean accuracy=79.99%, standard deviation=1.72%\n",
            "\n",
            "Gaussian Naive Bayes: \n",
            "\tmean accuracy=75.05%, standard deviation=1.54%\n",
            "\n",
            "Decision Tree: \n",
            "\tmean accuracy=68.71%, standard deviation=1.98%\n",
            "\n"
          ]
        }
      ]
    },
    {
      "cell_type": "code",
      "metadata": {
        "id": "KD7zCt2P-QjX",
        "outputId": "186aa7c4-503c-46a0-c1dc-57051d11a5c6",
        "colab": {
          "base_uri": "https://localhost:8080/"
        }
      },
      "source": [
        "dataset = tf.data.Dataset.from_tensor_slices((features, target))\n",
        "train_dataset = dataset.shuffle(len(dataset)).batch(1)\n",
        "model = get_compiled_model2()\n",
        "model.fit(train_dataset, epochs=21)"
      ],
      "execution_count": 40,
      "outputs": [
        {
          "output_type": "stream",
          "name": "stdout",
          "text": [
            "Epoch 1/21\n",
            "4657/4657 [==============================] - 13s 3ms/step - loss: 0.4848 - accuracy: 0.7943\n",
            "Epoch 2/21\n",
            "4657/4657 [==============================] - 13s 3ms/step - loss: 0.4695 - accuracy: 0.7967\n",
            "Epoch 3/21\n",
            "4657/4657 [==============================] - 12s 3ms/step - loss: 0.4685 - accuracy: 0.7967\n",
            "Epoch 4/21\n",
            "4657/4657 [==============================] - 13s 3ms/step - loss: 0.4681 - accuracy: 0.7967\n",
            "Epoch 5/21\n",
            "4657/4657 [==============================] - 13s 3ms/step - loss: 0.4676 - accuracy: 0.7967\n",
            "Epoch 6/21\n",
            "4657/4657 [==============================] - 13s 3ms/step - loss: 0.4676 - accuracy: 0.7967\n",
            "Epoch 7/21\n",
            "4657/4657 [==============================] - 13s 3ms/step - loss: 0.4675 - accuracy: 0.7967\n",
            "Epoch 8/21\n",
            "4657/4657 [==============================] - 13s 3ms/step - loss: 0.4665 - accuracy: 0.7967\n",
            "Epoch 9/21\n",
            "4657/4657 [==============================] - 13s 3ms/step - loss: 0.4670 - accuracy: 0.7967\n",
            "Epoch 10/21\n",
            "4657/4657 [==============================] - 13s 3ms/step - loss: 0.4663 - accuracy: 0.7967\n",
            "Epoch 11/21\n",
            "4657/4657 [==============================] - 12s 3ms/step - loss: 0.4652 - accuracy: 0.7967\n",
            "Epoch 12/21\n",
            "4657/4657 [==============================] - 12s 3ms/step - loss: 0.4660 - accuracy: 0.7967\n",
            "Epoch 13/21\n",
            "4657/4657 [==============================] - 12s 3ms/step - loss: 0.4662 - accuracy: 0.7967\n",
            "Epoch 14/21\n",
            "4657/4657 [==============================] - 12s 3ms/step - loss: 0.4657 - accuracy: 0.7967\n",
            "Epoch 15/21\n",
            "4657/4657 [==============================] - 13s 3ms/step - loss: 0.4668 - accuracy: 0.7967\n",
            "Epoch 16/21\n",
            "4657/4657 [==============================] - 12s 3ms/step - loss: 0.4654 - accuracy: 0.7967\n",
            "Epoch 17/21\n",
            "4657/4657 [==============================] - 13s 3ms/step - loss: 0.4662 - accuracy: 0.7967\n",
            "Epoch 18/21\n",
            "4657/4657 [==============================] - 12s 3ms/step - loss: 0.4654 - accuracy: 0.7960\n",
            "Epoch 19/21\n",
            "4657/4657 [==============================] - 12s 3ms/step - loss: 0.4650 - accuracy: 0.7977\n",
            "Epoch 20/21\n",
            "4657/4657 [==============================] - 13s 3ms/step - loss: 0.4665 - accuracy: 0.7975\n",
            "Epoch 21/21\n",
            "4657/4657 [==============================] - 13s 3ms/step - loss: 0.4650 - accuracy: 0.7979\n"
          ]
        },
        {
          "output_type": "execute_result",
          "data": {
            "text/plain": [
              "<keras.callbacks.History at 0x7f661cba8790>"
            ]
          },
          "metadata": {},
          "execution_count": 40
        }
      ]
    },
    {
      "cell_type": "code",
      "metadata": {
        "id": "wH7EFNqSB9i0",
        "colab": {
          "base_uri": "https://localhost:8080/"
        },
        "outputId": "3c1ae996-2efd-45c9-edd8-43fe9de207ec"
      },
      "source": [
        "# Model Training but after dropping the significant grade feature\n",
        "oldfeatures = features\n",
        "features = np.delete(features, 2,  1)\n",
        "classifiers_percentage_split()"
      ],
      "execution_count": 41,
      "outputs": [
        {
          "output_type": "stream",
          "name": "stdout",
          "text": [
            "k-Nearest Neighbor: \n",
            "\tPrediction accuracy on the test data: 77.34%\n",
            "\n",
            "Support Vector Machine: \n",
            "\tPrediction accuracy on the test data: 78.63%\n",
            "\n",
            "Gaussian Naive Bayes: \n",
            "\tPrediction accuracy on the test data: 76.14%\n",
            "\n",
            "Decision Tree: \n",
            "\tPrediction accuracy on the test data: 67.81%\n",
            "\n"
          ]
        }
      ]
    },
    {
      "cell_type": "code",
      "metadata": {
        "id": "uDDkbuaYCSsO",
        "colab": {
          "base_uri": "https://localhost:8080/"
        },
        "outputId": "01c4787f-1e2c-40f8-fd01-5e6d60e9b21e"
      },
      "source": [
        "classifiers_cross_validation()"
      ],
      "execution_count": 42,
      "outputs": [
        {
          "output_type": "stream",
          "name": "stdout",
          "text": [
            "k-Nearest Neighbor: \n",
            "\tmean accuracy=77.47%, standard deviation=1.12%\n",
            "\n",
            "Support Vector Machine: \n",
            "\tmean accuracy=79.84%, standard deviation=1.80%\n",
            "\n",
            "Gaussian Naive Bayes: \n",
            "\tmean accuracy=77.45%, standard deviation=1.71%\n",
            "\n",
            "Decision Tree: \n",
            "\tmean accuracy=69.98%, standard deviation=2.08%\n",
            "\n"
          ]
        }
      ]
    },
    {
      "cell_type": "code",
      "metadata": {
        "id": "NOiCb3c7CT3m",
        "outputId": "36d60677-f63c-4b33-afe1-f7c3209478bb",
        "colab": {
          "base_uri": "https://localhost:8080/"
        }
      },
      "source": [
        "dataset = tf.data.Dataset.from_tensor_slices((features, target))\n",
        "train_dataset = dataset.shuffle(len(dataset)).batch(1)\n",
        "model = get_compiled_model2()\n",
        "model.fit(train_dataset, epochs=21)"
      ],
      "execution_count": 43,
      "outputs": [
        {
          "output_type": "stream",
          "name": "stdout",
          "text": [
            "Epoch 1/21\n",
            "4657/4657 [==============================] - 13s 3ms/step - loss: 0.4927 - accuracy: 0.7964\n",
            "Epoch 2/21\n",
            "4657/4657 [==============================] - 12s 3ms/step - loss: 0.4727 - accuracy: 0.7967\n",
            "Epoch 3/21\n",
            "4657/4657 [==============================] - 12s 3ms/step - loss: 0.4700 - accuracy: 0.7967\n",
            "Epoch 4/21\n",
            "4657/4657 [==============================] - 13s 3ms/step - loss: 0.4688 - accuracy: 0.7967\n",
            "Epoch 5/21\n",
            "4657/4657 [==============================] - 13s 3ms/step - loss: 0.4681 - accuracy: 0.7967\n",
            "Epoch 6/21\n",
            "4657/4657 [==============================] - 13s 3ms/step - loss: 0.4666 - accuracy: 0.7967\n",
            "Epoch 7/21\n",
            "4657/4657 [==============================] - 13s 3ms/step - loss: 0.4674 - accuracy: 0.7967\n",
            "Epoch 8/21\n",
            "4657/4657 [==============================] - 13s 3ms/step - loss: 0.4659 - accuracy: 0.7956\n",
            "Epoch 9/21\n",
            "4657/4657 [==============================] - 12s 3ms/step - loss: 0.4658 - accuracy: 0.7969\n",
            "Epoch 10/21\n",
            "4657/4657 [==============================] - 13s 3ms/step - loss: 0.4650 - accuracy: 0.8001\n",
            "Epoch 11/21\n",
            "4657/4657 [==============================] - 13s 3ms/step - loss: 0.4657 - accuracy: 0.7986\n",
            "Epoch 12/21\n",
            "4657/4657 [==============================] - 13s 3ms/step - loss: 0.4641 - accuracy: 0.7994\n",
            "Epoch 13/21\n",
            "4657/4657 [==============================] - 13s 3ms/step - loss: 0.4643 - accuracy: 0.7971\n",
            "Epoch 14/21\n",
            "4657/4657 [==============================] - 13s 3ms/step - loss: 0.4654 - accuracy: 0.8012\n",
            "Epoch 15/21\n",
            "4657/4657 [==============================] - 13s 3ms/step - loss: 0.4636 - accuracy: 0.7984\n",
            "Epoch 16/21\n",
            "4657/4657 [==============================] - 13s 3ms/step - loss: 0.4650 - accuracy: 0.7992\n",
            "Epoch 17/21\n",
            "4657/4657 [==============================] - 13s 3ms/step - loss: 0.4638 - accuracy: 0.7979\n",
            "Epoch 18/21\n",
            "4657/4657 [==============================] - 13s 3ms/step - loss: 0.4643 - accuracy: 0.7973\n",
            "Epoch 19/21\n",
            "4657/4657 [==============================] - 13s 3ms/step - loss: 0.4645 - accuracy: 0.7988\n",
            "Epoch 20/21\n",
            "4657/4657 [==============================] - 13s 3ms/step - loss: 0.4634 - accuracy: 0.8016\n",
            "Epoch 21/21\n",
            "4657/4657 [==============================] - 12s 3ms/step - loss: 0.4625 - accuracy: 0.8020\n"
          ]
        },
        {
          "output_type": "execute_result",
          "data": {
            "text/plain": [
              "<keras.callbacks.History at 0x7f6586dcdf90>"
            ]
          },
          "metadata": {},
          "execution_count": 43
        }
      ]
    },
    {
      "cell_type": "code",
      "metadata": {
        "id": "8V9xHYCGDQxl",
        "outputId": "b81dc1a4-87a6-4a83-d22d-3808ec59d741",
        "colab": {
          "base_uri": "https://localhost:8080/"
        }
      },
      "source": [
        "## Model Training but after dropping every feature but loan_amnt int_rate annual_inc\n",
        "oldfeatures = features\n",
        "features = np.delete(features, 2,  1)\n",
        "features = np.delete(features, 3,  1)\n",
        "features = np.delete(features, 3,  1)\n",
        "classifiers_percentage_split()"
      ],
      "execution_count": 44,
      "outputs": [
        {
          "output_type": "stream",
          "name": "stdout",
          "text": [
            "k-Nearest Neighbor: \n",
            "\tPrediction accuracy on the test data: 75.79%\n",
            "\n",
            "Support Vector Machine: \n",
            "\tPrediction accuracy on the test data: 78.45%\n",
            "\n",
            "Gaussian Naive Bayes: \n",
            "\tPrediction accuracy on the test data: 77.17%\n",
            "\n",
            "Decision Tree: \n",
            "\tPrediction accuracy on the test data: 69.01%\n",
            "\n"
          ]
        }
      ]
    },
    {
      "cell_type": "code",
      "metadata": {
        "id": "BOovF2a0ECt1",
        "outputId": "3c9285e8-719a-4089-f368-61adf40e2c63",
        "colab": {
          "base_uri": "https://localhost:8080/"
        }
      },
      "source": [
        "classifiers_cross_validation()"
      ],
      "execution_count": 45,
      "outputs": [
        {
          "output_type": "stream",
          "name": "stdout",
          "text": [
            "k-Nearest Neighbor: \n",
            "\tmean accuracy=76.77%, standard deviation=1.90%\n",
            "\n",
            "Support Vector Machine: \n",
            "\tmean accuracy=79.82%, standard deviation=2.02%\n",
            "\n",
            "Gaussian Naive Bayes: \n",
            "\tmean accuracy=78.40%, standard deviation=1.46%\n",
            "\n",
            "Decision Tree: \n",
            "\tmean accuracy=69.44%, standard deviation=1.76%\n",
            "\n"
          ]
        }
      ]
    },
    {
      "cell_type": "code",
      "metadata": {
        "id": "0h0RKTYIEFox",
        "outputId": "e4aa0c1d-fcf1-4e5e-cc69-6890c3196d95",
        "colab": {
          "base_uri": "https://localhost:8080/"
        }
      },
      "source": [
        "dataset = tf.data.Dataset.from_tensor_slices((features, target))\n",
        "train_dataset = dataset.shuffle(len(dataset)).batch(1)\n",
        "model = get_compiled_model2()\n",
        "model.fit(train_dataset, epochs=21)"
      ],
      "execution_count": 47,
      "outputs": [
        {
          "output_type": "stream",
          "name": "stdout",
          "text": [
            "Epoch 1/21\n",
            "4657/4657 [==============================] - 13s 3ms/step - loss: 0.4841 - accuracy: 0.7956\n",
            "Epoch 2/21\n",
            "4657/4657 [==============================] - 12s 3ms/step - loss: 0.4717 - accuracy: 0.7967\n",
            "Epoch 3/21\n",
            "4657/4657 [==============================] - 13s 3ms/step - loss: 0.4692 - accuracy: 0.7967\n",
            "Epoch 4/21\n",
            "4657/4657 [==============================] - 12s 3ms/step - loss: 0.4703 - accuracy: 0.7967\n",
            "Epoch 5/21\n",
            "4657/4657 [==============================] - 12s 3ms/step - loss: 0.4685 - accuracy: 0.7967\n",
            "Epoch 6/21\n",
            "4657/4657 [==============================] - 13s 3ms/step - loss: 0.4694 - accuracy: 0.7967\n",
            "Epoch 7/21\n",
            "4657/4657 [==============================] - 12s 3ms/step - loss: 0.4684 - accuracy: 0.7947\n",
            "Epoch 8/21\n",
            "4657/4657 [==============================] - 13s 3ms/step - loss: 0.4684 - accuracy: 0.7967\n",
            "Epoch 9/21\n",
            "4657/4657 [==============================] - 13s 3ms/step - loss: 0.4679 - accuracy: 0.7967\n",
            "Epoch 10/21\n",
            "4657/4657 [==============================] - 12s 3ms/step - loss: 0.4688 - accuracy: 0.7967\n",
            "Epoch 11/21\n",
            "4657/4657 [==============================] - 13s 3ms/step - loss: 0.4678 - accuracy: 0.7967\n",
            "Epoch 12/21\n",
            "4657/4657 [==============================] - 13s 3ms/step - loss: 0.4692 - accuracy: 0.7967\n",
            "Epoch 13/21\n",
            "4657/4657 [==============================] - 13s 3ms/step - loss: 0.4678 - accuracy: 0.7967\n",
            "Epoch 14/21\n",
            "4657/4657 [==============================] - 13s 3ms/step - loss: 0.4678 - accuracy: 0.7967\n",
            "Epoch 15/21\n",
            "4657/4657 [==============================] - 13s 3ms/step - loss: 0.4677 - accuracy: 0.7967\n",
            "Epoch 16/21\n",
            "4657/4657 [==============================] - 13s 3ms/step - loss: 0.4686 - accuracy: 0.7967\n",
            "Epoch 17/21\n",
            "4657/4657 [==============================] - 12s 3ms/step - loss: 0.4660 - accuracy: 0.7967\n",
            "Epoch 18/21\n",
            "4657/4657 [==============================] - 13s 3ms/step - loss: 0.4668 - accuracy: 0.7967\n",
            "Epoch 19/21\n",
            "4657/4657 [==============================] - 13s 3ms/step - loss: 0.4677 - accuracy: 0.7967\n",
            "Epoch 20/21\n",
            "4657/4657 [==============================] - 12s 3ms/step - loss: 0.4670 - accuracy: 0.7964\n",
            "Epoch 21/21\n",
            "4657/4657 [==============================] - 12s 3ms/step - loss: 0.4671 - accuracy: 0.7967\n"
          ]
        },
        {
          "output_type": "execute_result",
          "data": {
            "text/plain": [
              "<keras.callbacks.History at 0x7f6586bc98d0>"
            ]
          },
          "metadata": {},
          "execution_count": 47
        }
      ]
    },
    {
      "cell_type": "markdown",
      "metadata": {
        "id": "o3wafrmV1Bbi"
      },
      "source": [
        "<a id=\"4\"></a>\n",
        "<hr style=\"height:2px; border:none; color:black; background-color:black;\">"
      ]
    },
    {
      "cell_type": "markdown",
      "metadata": {
        "id": "D8Vht4lH1Bbj"
      },
      "source": [
        "## 4. DISCUSSION\n",
        "In terms of our predictive models for our 4 basic binary classifiers we did an initial test of a random data split and tested accuracy and then a complete cross validation to get a mean accuracy and standard deviation of the difference of means. For the neural on the other hand we did training in a single batch over 15 epochs gaging the accuracy at the end of each epoch. The reason we did this rather than a full cross validation was simply because the time it took to do the training alone was quite a lot and we felt that our time would be better spent testing changes to other hyperparameters and features. To begin with throughout our tests the results of classification accuracy did not vary greatly and thus all conclusions drawn are not definitive and should be explored further. Yet after these tests the conclusion that we have drawn is that Support Vector Machines and our Neural Net performed better than k-Nearest Neighbor, Gaussian Naive Bayes and Decision Tree methods with consistency but not by a large amount. In terms of the features used we did show that having useless features such as id negatively affected our prediction accuracy and that having significant features such as grade positively affected prediction accuracy and data normalization positively affected our prediction accuracy. Based on all of our tests it seems that if a definitive pattern in the data exists that predicts defaulting it is a complex non linear higher dimensional pattern that is not as simple as clustering. Considering this we are surprised that our accuracy rates were very comparable with the accuracy rates that the neural network models produced in “Predicting Repayment of Borrows in Peer‐to‐Peer Social Lending with Deep Dense Convolutional Network.”(1). This leaves us with more questions about the nature of this data set, because based on our produced models they should have been able to produce much higher accuracy rates with the increased amount of data that they had and the increased model complexity that they had. This leads us to want to replicate their experiments and do a more indepth look at different features of which they did not. Yet in the end we concur with them that if a predictive model were to be picked it should be a neural net.\n",
        "\n",
        "In terms of the hypothesis testing and its meaning, we have concluded in our two Chi Square tests that there is statistically significant difference in the proportion of defaulted loans in grade of the borrower and the purpose of the loan. Basically, the term of statistically significance represents the likelihood that a relationship between the loan status (Fully Paid or Charged Off) and in one case grade, and in the other case loan purpose, is caused by something other than a chance. This is presented by the p-value in out test. There is a traditional benchmark of p-value being 0.05. In both of our tests, the p-values were less than 0.05, it means that the difference in the proportion of the defaulted loans in the two variables almost certainly did not happen by chance. \n",
        " \n",
        "We believe that there is more that can be gained from working with this data set and a much higher accuracy model could be produced. Yet there are two requirements more data points and a more complex model. Both of which require excessive computational time and power of which we did not have access to. Yet moving forward we are planning to do both in the coming months. Specifically we plan to increase our data points by at least a factor of 10 and use this new data to train more complex models such as a neural net with larger and more hidden layers over more epochs and batches similarly to what was done in “Predicting Repayment of Borrows in Peer‐to‐Peer Social Lending with Deep Dense Convolutional Network.”(1). We are both  looking forward to the results we will find. Thank you.\n"
      ]
    },
    {
      "cell_type": "markdown",
      "metadata": {
        "id": "jADCGCxn1Bbj"
      },
      "source": [
        "<a id=\"5\"></a>\n",
        "<hr style=\"height:2px; border:none; color:black; background-color:black;\">"
      ]
    },
    {
      "cell_type": "markdown",
      "metadata": {
        "id": "7L5ao33G1Bbk"
      },
      "source": [
        "### CONTRIBUTIONS\n",
        "Vlad Koroviakovskyi - Data Acquisition, Data Wrangling, Data Exploration, Questions/Hypothesis\n",
        "Cyrus Thompson - Model Construction, Model Evaluation, Model Optimization, Model Testing\n",
        "Remaining pieces of the final project were done as a group.\n",
        "Honorary mention to Ruoxi Liu for her contributions helping plan out this project.\n",
        "Special thanks and tribute to Vlad for coming up with this project idea and finding the data, to Cy for being a great partner and a person who is willing to share his knowledge and experience with his peers and to Caglar Yildirim for making this Project possible through his class and instruction.\n"
      ]
    },
    {
      "cell_type": "markdown",
      "metadata": {
        "id": "hUpMFxYmICcW"
      },
      "source": [
        "### Bibliography\n",
        "1.\n",
        "Kim, Ji‐Yoon, and Sung‐Bae Cho. “Predicting Repayment of Borrows in Peer‐to‐Peer Social Lending with Deep Dense Convolutional Network.” Expert Systems, vol. 36, no. 4, 2019, doi:10.1111/exsy.12403.\n"
      ]
    }
  ]
}